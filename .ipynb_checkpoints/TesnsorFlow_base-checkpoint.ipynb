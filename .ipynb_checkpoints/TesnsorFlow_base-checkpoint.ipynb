{
 "cells": [
  {
   "cell_type": "markdown",
   "metadata": {},
   "source": [
    "## 数据类型\n",
    "首先我们来介绍TensorFlow 中的基本数据类型，它包含了数值型、字符串型和布尔型。\n",
    "### 数值类型\n",
    "❑ 标量(Scalar) 单个的实数，如1.2, 3.4 等，维度数(Dimension，也叫秩)为0，shape 为[]<br>\n",
    "❑ 向量(Vector) n 个实数的有序集合，通过中括号包裹，如[1.2]，[1.2, 3.4]等，维度数为\n",
    "1，长度不定，shape 为[𝑛]<br>\n",
    "❑ 矩阵(Matrix) n 行m 列实数的有序集合，如[[1,2], [3,4]\n",
    "\n",
    "维度数为2，每个维度上的长度不定，shape 为[𝑛, 𝑚]\n",
    "❑ 张量(Tensor) 所有维度数dim > 2的数组统称为张量。张量的每个维度也做轴(Axis)，\n",
    "一般维度代表了具体的物理含义，比如Shape 为[2,32,32,3]的张量共有4 维，如果表\n",
    "示图片数据的话，每个维度/轴代表的含义分别是：图片数量、图片高度、图片宽度、\n",
    "图片通道数，其中2 代表了2 张图片，32 代表了高宽均为32，3 代表了RGB 3 个通\n",
    "道。张量的维度数以及每个维度所代表的具体物理含义需要由用户自行定义\n",
    "在 TensorFlow 中间，为了表达方便，一般把标量、向量、矩阵也统称为张量，不作区\n",
    "分，需要根据张量的维度数和形状自行判断。\n",
    "首先来看标量在TensorFlow 是如何创建的："
   ]
  },
  {
   "cell_type": "code",
   "execution_count": 1,
   "metadata": {},
   "outputs": [
    {
     "name": "stdout",
     "output_type": "stream",
     "text": [
      "2.3.0\n"
     ]
    }
   ],
   "source": [
    "import tensorflow as tf\n",
    "print(tf.__version__)"
   ]
  },
  {
   "cell_type": "code",
   "execution_count": 1,
   "metadata": {},
   "outputs": [
    {
     "data": {
      "text/plain": [
       "(float, tensorflow.python.framework.ops.EagerTensor, True)"
      ]
     },
     "execution_count": 1,
     "metadata": {},
     "output_type": "execute_result"
    }
   ],
   "source": [
    "a = 1.2\n",
    "aa = tf.constant(1.2)# 创建标量\n",
    "type(a), type(aa), tf.is_tensor(aa)"
   ]
  },
  {
   "cell_type": "code",
   "execution_count": 17,
   "metadata": {},
   "outputs": [
    {
     "data": {
      "text/plain": [
       "<tf.Tensor: shape=(3,), dtype=float32, numpy=array([1. , 2. , 3.3], dtype=float32)>"
      ]
     },
     "execution_count": 17,
     "metadata": {},
     "output_type": "execute_result"
    }
   ],
   "source": [
    "x = tf.constant([1,2.,3.3])\n",
    "x"
   ]
  },
  {
   "cell_type": "code",
   "execution_count": 6,
   "metadata": {},
   "outputs": [
    {
     "data": {
      "text/plain": [
       "array([1. , 2. , 3.3], dtype=float32)"
      ]
     },
     "execution_count": 6,
     "metadata": {},
     "output_type": "execute_result"
    }
   ],
   "source": [
    "x.numpy()"
   ]
  },
  {
   "cell_type": "markdown",
   "metadata": {},
   "source": [
    "与标量不同，向量的定义须通过List 类型传给tf.constant()。创建一个元素的向量："
   ]
  },
  {
   "cell_type": "code",
   "execution_count": 10,
   "metadata": {},
   "outputs": [
    {
     "data": {
      "text/plain": [
       "(<tf.Tensor: shape=(1,), dtype=float32, numpy=array([1.2], dtype=float32)>,\n",
       " TensorShape([1]))"
      ]
     },
     "execution_count": 10,
     "metadata": {},
     "output_type": "execute_result"
    }
   ],
   "source": [
    "a = tf.constant([1.2])\n",
    "a, a.shape"
   ]
  },
  {
   "cell_type": "code",
   "execution_count": 11,
   "metadata": {},
   "outputs": [
    {
     "data": {
      "text/plain": [
       "(<tf.Tensor: shape=(3,), dtype=float32, numpy=array([1., 2., 3.], dtype=float32)>,\n",
       " TensorShape([3]))"
      ]
     },
     "execution_count": 11,
     "metadata": {},
     "output_type": "execute_result"
    }
   ],
   "source": [
    "a = tf.constant([1,2, 3.])\n",
    "a, a.shape"
   ]
  },
  {
   "cell_type": "markdown",
   "metadata": {},
   "source": [
    "同样的方法定义矩阵"
   ]
  },
  {
   "cell_type": "code",
   "execution_count": 24,
   "metadata": {},
   "outputs": [
    {
     "data": {
      "text/plain": [
       "(<tf.Tensor: shape=(2, 2), dtype=int32, numpy=\n",
       " array([[1, 2],\n",
       "        [3, 4]])>, TensorShape([2, 2]))"
      ]
     },
     "execution_count": 24,
     "metadata": {},
     "output_type": "execute_result"
    }
   ],
   "source": [
    "a = tf.constant([[1,2],[3,4]])\n",
    "a, a.shape"
   ]
  },
  {
   "cell_type": "markdown",
   "metadata": {},
   "source": [
    "3维张量可以定义为："
   ]
  },
  {
   "cell_type": "code",
   "execution_count": 26,
   "metadata": {},
   "outputs": [
    {
     "data": {
      "text/plain": [
       "<tf.Tensor: shape=(2, 2, 2), dtype=int32, numpy=\n",
       "array([[[1, 2],\n",
       "        [3, 4]],\n",
       "\n",
       "       [[5, 6],\n",
       "        [7, 8]]])>"
      ]
     },
     "execution_count": 26,
     "metadata": {},
     "output_type": "execute_result"
    }
   ],
   "source": [
    "a= tf.constant([[[1,2],[3,4]],[[5,6],[7,8]]])\n",
    "a"
   ]
  },
  {
   "cell_type": "markdown",
   "metadata": {},
   "source": [
    "### 字符串类型\n",
    "除了丰富的数值类型外，TensorFlow 还支持字符串(String)类型的数据，例如在表示图\n",
    "片数据时，可以先记录图片的路径，再通过预处理函数根据路径读取图片张量。通过传入\n",
    "字符串对象即可创建字符串类型的张量："
   ]
  },
  {
   "cell_type": "code",
   "execution_count": 28,
   "metadata": {},
   "outputs": [
    {
     "data": {
      "text/plain": [
       "<tf.Tensor: shape=(), dtype=string, numpy=b'Hello, Deep Learning.'>"
      ]
     },
     "execution_count": 28,
     "metadata": {},
     "output_type": "execute_result"
    }
   ],
   "source": [
    "a = tf.constant('Hello, Deep Learning.')\n",
    "a"
   ]
  },
  {
   "cell_type": "markdown",
   "metadata": {},
   "source": [
    "在tf.strings 模块中，提供了常见的字符串型的工具函数，如拼接join()，长度length()，切\n",
    "分split()等等"
   ]
  },
  {
   "cell_type": "code",
   "execution_count": 30,
   "metadata": {},
   "outputs": [
    {
     "data": {
      "text/plain": [
       "<tf.Tensor: shape=(), dtype=string, numpy=b'hello, deep learning.'>"
      ]
     },
     "execution_count": 30,
     "metadata": {},
     "output_type": "execute_result"
    }
   ],
   "source": [
    "tf.strings.lower(a)"
   ]
  },
  {
   "cell_type": "markdown",
   "metadata": {},
   "source": [
    "深度学习算法主要还是以数值类型张量运算为主，字符串类型的数据使用频率较低，\n",
    "我们不做过多阐述。"
   ]
  },
  {
   "cell_type": "markdown",
   "metadata": {},
   "source": [
    "### 布尔类型\n",
    "为了方便表达比较运算操作的结果，TensorFlow 还支持布尔类型(Boolean, bool)的张\n",
    "量。布尔类型的张量只需要传入Python 语言的布尔类型数据，转换成TensorFlow 内部布\n",
    "尔型即可："
   ]
  },
  {
   "cell_type": "code",
   "execution_count": 39,
   "metadata": {},
   "outputs": [
    {
     "data": {
      "text/plain": [
       "<tf.Tensor: shape=(), dtype=bool, numpy=True>"
      ]
     },
     "execution_count": 39,
     "metadata": {},
     "output_type": "execute_result"
    }
   ],
   "source": [
    "a = tf.constant(True)\n",
    "a"
   ]
  },
  {
   "cell_type": "code",
   "execution_count": 32,
   "metadata": {},
   "outputs": [
    {
     "data": {
      "text/plain": [
       "<tf.Tensor: shape=(2,), dtype=bool, numpy=array([ True, False])>"
      ]
     },
     "execution_count": 32,
     "metadata": {},
     "output_type": "execute_result"
    }
   ],
   "source": [
    "a= tf.constant([True, False])\n",
    "a"
   ]
  },
  {
   "cell_type": "markdown",
   "metadata": {},
   "source": [
    "需要注意的是，TensorFlow 的布尔类型和Python 语言的布尔类型并不对等，不能通用："
   ]
  },
  {
   "cell_type": "code",
   "execution_count": 47,
   "metadata": {},
   "outputs": [
    {
     "data": {
      "text/plain": [
       "<tf.Tensor: shape=(), dtype=bool, numpy=True>"
      ]
     },
     "execution_count": 47,
     "metadata": {},
     "output_type": "execute_result"
    }
   ],
   "source": [
    "a = tf.constant(True)\n",
    "a == True"
   ]
  },
  {
   "cell_type": "markdown",
   "metadata": {},
   "source": [
    "## 数值精度\n",
    "对于数值类型的张量，可以保持为不同字节长度的精度，如浮点数3.14 既可以保存为\n",
    "16-bit 长度，也可以保存为32-bit 甚至64-bit 的精度。Bit 位越长，精度越高，同时占用的\n",
    "内存空间也就越大。常用的精度类型有tf.int16, tf.int32, tf.int64, tf.float16, tf.float32,\n",
    "tf.float64，其中tf.float64 即为tf.double。\n",
    "在创建张量时，可以指定张量的保存精度："
   ]
  },
  {
   "cell_type": "code",
   "execution_count": 49,
   "metadata": {},
   "outputs": [
    {
     "data": {
      "text/plain": [
       "(<tf.Tensor: shape=(), dtype=int16, numpy=-13035>,\n",
       " <tf.Tensor: shape=(), dtype=int32, numpy=123456789>)"
      ]
     },
     "execution_count": 49,
     "metadata": {},
     "output_type": "execute_result"
    }
   ],
   "source": [
    "a = tf.constant(123456789, dtype=tf.int16)\n",
    "b = tf.constant(123456789, dtype=tf.int32)\n",
    "a, b"
   ]
  },
  {
   "cell_type": "markdown",
   "metadata": {},
   "source": [
    "可以看到，保存精度过低时，数据123456789 发生了溢出，得到了错误的结果，一般使用\n",
    "tf.int32, tf.int64 精度。对于浮点数，高精度的张量可以表示更精准的数据，例如采用\n",
    "tf.float32 精度保存𝜋时："
   ]
  },
  {
   "cell_type": "code",
   "execution_count": 52,
   "metadata": {},
   "outputs": [
    {
     "name": "stdout",
     "output_type": "stream",
     "text": [
      "3.141592653589793\n"
     ]
    },
    {
     "data": {
      "text/plain": [
       "<tf.Tensor: shape=(), dtype=float32, numpy=3.1415927>"
      ]
     },
     "execution_count": 52,
     "metadata": {},
     "output_type": "execute_result"
    }
   ],
   "source": [
    "import numpy as np\n",
    "print(np.pi)\n",
    "tf.constant(np.pi, dtype=tf.float32)"
   ]
  },
  {
   "cell_type": "markdown",
   "metadata": {},
   "source": [
    "如果采用tf.float64 精度保存𝜋，则能获得更高的精度："
   ]
  },
  {
   "cell_type": "code",
   "execution_count": 53,
   "metadata": {},
   "outputs": [
    {
     "data": {
      "text/plain": [
       "<tf.Tensor: shape=(), dtype=float64, numpy=3.141592653589793>"
      ]
     },
     "execution_count": 53,
     "metadata": {},
     "output_type": "execute_result"
    }
   ],
   "source": [
    "tf.constant(np.pi, dtype=tf.float64)"
   ]
  },
  {
   "cell_type": "markdown",
   "metadata": {},
   "source": [
    "### 读取精度\n",
    "通过访问张量的dtype 成员属性可以判断张量的保存精度："
   ]
  },
  {
   "cell_type": "code",
   "execution_count": 55,
   "metadata": {},
   "outputs": [
    {
     "name": "stdout",
     "output_type": "stream",
     "text": [
      "before: <dtype: 'int16'>\n",
      "after : <dtype: 'float32'>\n"
     ]
    }
   ],
   "source": [
    "print('before:',a.dtype)\n",
    "if a.dtype != tf.float32:\n",
    "    a = tf.cast(a,tf.float32) # 转换精度\n",
    "print('after :',a.dtype)"
   ]
  },
  {
   "cell_type": "markdown",
   "metadata": {},
   "source": [
    "对于某些只能处理指定精度类型的运算操作，需要提前检验输入张量的精度类型，并将不符合要求的张量进行类型转换。"
   ]
  },
  {
   "cell_type": "markdown",
   "metadata": {},
   "source": [
    "### 类型转换\n",
    "系统的每个模块使用的数据类型、数值精度可能各不相同，对于不符合要求的张量的\n",
    "类型及精度，需要通过tf.cast 函数进行转换："
   ]
  },
  {
   "cell_type": "code",
   "execution_count": 56,
   "metadata": {},
   "outputs": [
    {
     "data": {
      "text/plain": [
       "<tf.Tensor: shape=(), dtype=float64, numpy=3.140625>"
      ]
     },
     "execution_count": 56,
     "metadata": {},
     "output_type": "execute_result"
    }
   ],
   "source": [
    "a = tf.constant(np.pi, dtype=tf.float16)\n",
    "tf.cast(a, tf.double)"
   ]
  },
  {
   "cell_type": "markdown",
   "metadata": {},
   "source": [
    "进行类型转换时，需要保证转换操作的合法性，例如将高精度的张量转换为低精度的张量\n",
    "时，可能发生数据溢出隐患："
   ]
  },
  {
   "cell_type": "code",
   "execution_count": 57,
   "metadata": {},
   "outputs": [
    {
     "data": {
      "text/plain": [
       "<tf.Tensor: shape=(), dtype=int16, numpy=-13035>"
      ]
     },
     "execution_count": 57,
     "metadata": {},
     "output_type": "execute_result"
    }
   ],
   "source": [
    "a = tf.constant(123456789, dtype=tf.int32)\n",
    "tf.cast(a, tf.int16)"
   ]
  },
  {
   "cell_type": "markdown",
   "metadata": {},
   "source": [
    "布尔型与整形之间相互转换也是合法的，是比较常见的操作："
   ]
  },
  {
   "cell_type": "code",
   "execution_count": 58,
   "metadata": {},
   "outputs": [
    {
     "data": {
      "text/plain": [
       "<tf.Tensor: shape=(2,), dtype=int32, numpy=array([1, 0])>"
      ]
     },
     "execution_count": 58,
     "metadata": {},
     "output_type": "execute_result"
    }
   ],
   "source": [
    "a =  tf.constant([True, False])\n",
    "tf.cast(a, tf.int32)"
   ]
  },
  {
   "cell_type": "markdown",
   "metadata": {},
   "source": [
    "一般默认0 表示False，1 表示True，在TensorFlow 中，将非0 数字都视为True:"
   ]
  },
  {
   "cell_type": "code",
   "execution_count": 59,
   "metadata": {},
   "outputs": [
    {
     "data": {
      "text/plain": [
       "<tf.Tensor: shape=(4,), dtype=bool, numpy=array([ True, False,  True,  True])>"
      ]
     },
     "execution_count": 59,
     "metadata": {},
     "output_type": "execute_result"
    }
   ],
   "source": [
    "a = tf.constant([-1, 0, 1, 2])\n",
    "tf.cast(a, tf.bool)"
   ]
  },
  {
   "cell_type": "markdown",
   "metadata": {},
   "source": [
    "## 待优化张量\n",
    "为了区分需要计算梯度信息的张量与不需要计算梯度信息的张量，TensorFlow 增加了\n",
    "一种专门的数据类型来支持梯度信息的记录：tf.Variable。tf.Variable 类型在普通的张量类\n",
    "型基础上添加了name，trainable 等属性来支持计算图的构建。由于梯度运算会消耗大量的\n",
    "计算资源，而且会自动更新相关参数，对于不需要的优化的张量，如神经网络的输入X，\n",
    "不需要通过tf.Variable 封装；相反，对于需要计算梯度并优化的张量，如神经网络层的W\n",
    "和𝒃，需要通过tf.Variable 包裹以便TensorFlow 跟踪相关梯度信息。\n",
    "通过 tf.Variable()函数可以将普通张量转换为待优化张量："
   ]
  },
  {
   "cell_type": "code",
   "execution_count": 60,
   "metadata": {},
   "outputs": [
    {
     "data": {
      "text/plain": [
       "('Variable:0', True)"
      ]
     },
     "execution_count": 60,
     "metadata": {},
     "output_type": "execute_result"
    }
   ],
   "source": [
    "a = tf.constant([-1, 0, 1, 2])\n",
    "aa = tf.Variable(a)\n",
    "aa.name, aa.trainable"
   ]
  },
  {
   "cell_type": "markdown",
   "metadata": {},
   "source": [
    "其中张量的name 和trainable 属性是Variable 特有的属性，name 属性用于命名计算图中的\n",
    "变量，这套命名体系是TensorFlow 内部维护的，一般不需要用户关注name 属性；trainable\n",
    "表征当前张量是否需要被优化，创建Variable 对象是默认启用优化标志，可以设置\n",
    "trainable=False 来设置张量不需要优化<br>\n",
    "&nbsp;&nbsp;&nbsp;&nbsp;&nbsp;&nbsp;&nbsp;&nbsp;除了通过普通张量方式创建Variable，也可以直接创建："
   ]
  },
  {
   "cell_type": "code",
   "execution_count": 61,
   "metadata": {},
   "outputs": [
    {
     "data": {
      "text/plain": [
       "<tf.Variable 'Variable:0' shape=(2, 2) dtype=int32, numpy=\n",
       "array([[1, 2],\n",
       "       [3, 4]])>"
      ]
     },
     "execution_count": 61,
     "metadata": {},
     "output_type": "execute_result"
    }
   ],
   "source": [
    "a = tf.Variable([[1,2],[3,4]])\n",
    "a"
   ]
  },
  {
   "cell_type": "markdown",
   "metadata": {},
   "source": [
    "待优化张量可看做普通张量的特殊类型，普通张量也可以通过GradientTape.watch()方法临\n",
    "时加入跟踪梯度信息的列表。"
   ]
  },
  {
   "cell_type": "markdown",
   "metadata": {},
   "source": [
    "## 创建张量\n",
    "在 TensorFlow 中，可以通过多种方式创建张量，如从Python List 对象创建，从\n",
    "Numpy 数组创建，或者创建采样自某种已知分布的张量等。\n",
    "### 从 Numpy, List 对象创建\n",
    "Numpy Array 数组和Python List 是Python 程序中间非常重要的数据载体容器，很多数\n",
    "据都是通过Python 语言将数据加载至Array 或者List 容器，再转换到Tensor 类型，通过\n",
    "TensorFlow 运算处理后导出到Array 或者List 容器，方便其他模块调用。\n",
    "通过 tf.convert_to_tensor 可以创建新Tensor，并将保存在Python List 对象或者Numpy\n",
    "Array 对象中的数据导入到新Tensor 中："
   ]
  },
  {
   "cell_type": "code",
   "execution_count": 62,
   "metadata": {},
   "outputs": [
    {
     "data": {
      "text/plain": [
       "<tf.Tensor: shape=(2,), dtype=float32, numpy=array([1., 2.], dtype=float32)>"
      ]
     },
     "execution_count": 62,
     "metadata": {},
     "output_type": "execute_result"
    }
   ],
   "source": [
    "tf.convert_to_tensor([1,2.])"
   ]
  },
  {
   "cell_type": "code",
   "execution_count": 63,
   "metadata": {},
   "outputs": [
    {
     "data": {
      "text/plain": [
       "<tf.Tensor: shape=(2, 2), dtype=float64, numpy=\n",
       "array([[1., 2.],\n",
       "       [3., 4.]])>"
      ]
     },
     "execution_count": 63,
     "metadata": {},
     "output_type": "execute_result"
    }
   ],
   "source": [
    "tf.convert_to_tensor(np.array([[1,2.],[3,4]]))"
   ]
  },
  {
   "cell_type": "code",
   "execution_count": 64,
   "metadata": {},
   "outputs": [
    {
     "data": {
      "text/plain": [
       "<tf.Tensor: shape=(2, 2), dtype=float64, numpy=\n",
       "array([[1., 2.],\n",
       "       [3., 4.]])>"
      ]
     },
     "execution_count": 64,
     "metadata": {},
     "output_type": "execute_result"
    }
   ],
   "source": [
    "tf.constant(np.array([[1,2.],[3,4]]))"
   ]
  },
  {
   "cell_type": "markdown",
   "metadata": {},
   "source": [
    "需要注意的是，Numpy 中浮点数数组默认使用64-Bit 精度保存数据，转换到Tensor 类型时\n",
    "精度为tf.float64，可以在需要的时候转换为tf.float32 类型"
   ]
  },
  {
   "cell_type": "markdown",
   "metadata": {},
   "source": [
    "实际上，tf.constant()和tf.convert_to_tensor()都能够自动的把Numpy 数组或者Python\n",
    "List 数据类型转化为Tensor 类型，这两个API 命名来自TensorFlow 1.x 的命名习惯，在\n",
    "TensorFlow 2 中函数的名字并不是很贴切，使用其一即可"
   ]
  },
  {
   "cell_type": "markdown",
   "metadata": {},
   "source": [
    "### 创建全0，全1 张量\n",
    "将张量创建为全0 或者全1 数据是非常常见的张量初始化手段。考虑线性变换\n",
    "𝒚 = 𝑊𝒙 + 𝒃，将权值矩阵W 初始化为全1 矩阵，偏置b 初始化为全0 向量，此时线性变\n",
    "化层输出𝒚 = 𝒙，是一种比较好的层初始化状态。通过tf.zeros()和tf.ones()即可创建任意形\n",
    "状全0 或全1 的张量。例如，创建为0 和为1 的标量张量："
   ]
  },
  {
   "cell_type": "code",
   "execution_count": 65,
   "metadata": {},
   "outputs": [
    {
     "data": {
      "text/plain": [
       "(<tf.Tensor: shape=(), dtype=float32, numpy=0.0>,\n",
       " <tf.Tensor: shape=(), dtype=float32, numpy=1.0>)"
      ]
     },
     "execution_count": 65,
     "metadata": {},
     "output_type": "execute_result"
    }
   ],
   "source": [
    "tf.zeros([]),tf.ones([])"
   ]
  },
  {
   "cell_type": "markdown",
   "metadata": {},
   "source": [
    "创建全0 和全1 的向量："
   ]
  },
  {
   "cell_type": "code",
   "execution_count": 66,
   "metadata": {},
   "outputs": [
    {
     "data": {
      "text/plain": [
       "(<tf.Tensor: shape=(1,), dtype=float32, numpy=array([0.], dtype=float32)>,\n",
       " <tf.Tensor: shape=(1,), dtype=float32, numpy=array([1.], dtype=float32)>)"
      ]
     },
     "execution_count": 66,
     "metadata": {},
     "output_type": "execute_result"
    }
   ],
   "source": [
    "tf.zeros([1]),tf.ones([1])"
   ]
  },
  {
   "cell_type": "markdown",
   "metadata": {},
   "source": [
    "创建全0 的矩阵："
   ]
  },
  {
   "cell_type": "code",
   "execution_count": 67,
   "metadata": {},
   "outputs": [
    {
     "data": {
      "text/plain": [
       "<tf.Tensor: shape=(2, 2), dtype=float32, numpy=\n",
       "array([[0., 0.],\n",
       "       [0., 0.]], dtype=float32)>"
      ]
     },
     "execution_count": 67,
     "metadata": {},
     "output_type": "execute_result"
    }
   ],
   "source": [
    "tf.zeros([2,2])"
   ]
  },
  {
   "cell_type": "markdown",
   "metadata": {},
   "source": [
    "创建全1 的矩阵："
   ]
  },
  {
   "cell_type": "code",
   "execution_count": 68,
   "metadata": {},
   "outputs": [
    {
     "data": {
      "text/plain": [
       "<tf.Tensor: shape=(3, 2), dtype=float32, numpy=\n",
       "array([[1., 1.],\n",
       "       [1., 1.],\n",
       "       [1., 1.]], dtype=float32)>"
      ]
     },
     "execution_count": 68,
     "metadata": {},
     "output_type": "execute_result"
    }
   ],
   "source": [
    "tf.ones([3,2])"
   ]
  },
  {
   "cell_type": "markdown",
   "metadata": {},
   "source": [
    "通过tf.zeros_like, tf.ones_like 可以方便地新建与某个张量shape 一致，内容全0 或全1\n",
    "的张量。例如，创建与张量a 形状一样的全0 张量："
   ]
  },
  {
   "cell_type": "code",
   "execution_count": 79,
   "metadata": {},
   "outputs": [
    {
     "data": {
      "text/plain": [
       "<tf.Tensor: shape=(2, 3), dtype=float32, numpy=\n",
       "array([[0., 0., 0.],\n",
       "       [0., 0., 0.]], dtype=float32)>"
      ]
     },
     "execution_count": 79,
     "metadata": {},
     "output_type": "execute_result"
    }
   ],
   "source": [
    "a = tf.ones([2,3])\n",
    "tf.zeros_like(a)"
   ]
  },
  {
   "cell_type": "markdown",
   "metadata": {},
   "source": [
    "创建与张量a 形状一样的全1 张量"
   ]
  },
  {
   "cell_type": "code",
   "execution_count": 83,
   "metadata": {},
   "outputs": [
    {
     "data": {
      "text/plain": [
       "<tf.Tensor: shape=(3, 2), dtype=float32, numpy=\n",
       "array([[0., 0.],\n",
       "       [0., 0.],\n",
       "       [0., 0.]], dtype=float32)>"
      ]
     },
     "execution_count": 83,
     "metadata": {},
     "output_type": "execute_result"
    }
   ],
   "source": [
    "a = tf.zeros([3,2])\n",
    "tf.zeros_like(a)"
   ]
  },
  {
   "cell_type": "code",
   "execution_count": 84,
   "metadata": {},
   "outputs": [
    {
     "data": {
      "text/plain": [
       "<tf.Tensor: shape=(3, 2), dtype=float32, numpy=\n",
       "array([[1., 1.],\n",
       "       [1., 1.],\n",
       "       [1., 1.]], dtype=float32)>"
      ]
     },
     "execution_count": 84,
     "metadata": {},
     "output_type": "execute_result"
    }
   ],
   "source": [
    "tf.ones_like(a)"
   ]
  },
  {
   "cell_type": "markdown",
   "metadata": {},
   "source": [
    "tf.*_like 是一个便捷函数，可以通过tf.zeros(a.shape)等方式实现。"
   ]
  },
  {
   "cell_type": "code",
   "execution_count": 85,
   "metadata": {},
   "outputs": [
    {
     "data": {
      "text/plain": [
       "<tf.Tensor: shape=(3, 2), dtype=float32, numpy=\n",
       "array([[0., 0.],\n",
       "       [0., 0.],\n",
       "       [0., 0.]], dtype=float32)>"
      ]
     },
     "execution_count": 85,
     "metadata": {},
     "output_type": "execute_result"
    }
   ],
   "source": [
    "tf.zeros(a.shape)"
   ]
  },
  {
   "cell_type": "markdown",
   "metadata": {},
   "source": [
    "### 创建自定义数值张量"
   ]
  },
  {
   "cell_type": "code",
   "execution_count": 86,
   "metadata": {},
   "outputs": [
    {
     "data": {
      "text/plain": [
       "<tf.Tensor: shape=(), dtype=int32, numpy=-1>"
      ]
     },
     "execution_count": 86,
     "metadata": {},
     "output_type": "execute_result"
    }
   ],
   "source": [
    "tf.fill([], -1)"
   ]
  },
  {
   "cell_type": "code",
   "execution_count": 88,
   "metadata": {},
   "outputs": [
    {
     "data": {
      "text/plain": [
       "<tf.Tensor: shape=(2, 2), dtype=int32, numpy=\n",
       "array([[99, 99],\n",
       "       [99, 99]])>"
      ]
     },
     "execution_count": 88,
     "metadata": {},
     "output_type": "execute_result"
    }
   ],
   "source": [
    "# 创建所有元素为99 的矩阵：\n",
    "tf.fill([2,2], 99)"
   ]
  },
  {
   "cell_type": "markdown",
   "metadata": {},
   "source": [
    "### 创建已知分布的张量\n",
    "　　正态分布(Normal Distribution，或Gaussian Distribution)和均匀分布(Uniform\n",
    "Distribution)是最常见的分布之一，创建采样自这2 种分布的张量非常有用，比如在卷积神\n",
    "经网络中，卷积核张量W 初始化为正态分布有利于网络的训练；在对抗生成网络中，隐藏\n",
    "变量z 一般采样自均匀分布。<br>\n",
    "　　通过 tf.random.normal(shape, mean=0.0, stddev=1.0)可以创建形状为shape，均值为\n",
    "mean，标准差为stddev 的正态分布𝒩(𝑚𝑒𝑎𝑛, 𝑠𝑡𝑑𝑑𝑒𝑣2)。例如，创建均值为0，标准差为1\n",
    "的正太分布："
   ]
  },
  {
   "cell_type": "code",
   "execution_count": 89,
   "metadata": {},
   "outputs": [
    {
     "data": {
      "text/plain": [
       "<tf.Tensor: shape=(2, 2), dtype=float32, numpy=\n",
       "array([[ 1.4152311, -0.6203064],\n",
       "       [-0.971219 , -0.3133385]], dtype=float32)>"
      ]
     },
     "execution_count": 89,
     "metadata": {},
     "output_type": "execute_result"
    }
   ],
   "source": [
    "tf.random.normal([2,2])"
   ]
  },
  {
   "cell_type": "markdown",
   "metadata": {},
   "source": [
    "创建均值为1，标准差为2 的正太分布："
   ]
  },
  {
   "cell_type": "code",
   "execution_count": 90,
   "metadata": {},
   "outputs": [
    {
     "data": {
      "text/plain": [
       "<tf.Tensor: shape=(2, 2), dtype=float32, numpy=\n",
       "array([[1.3234441, 2.7735932],\n",
       "       [4.1738286, 3.627927 ]], dtype=float32)>"
      ]
     },
     "execution_count": 90,
     "metadata": {},
     "output_type": "execute_result"
    }
   ],
   "source": [
    "tf.random.normal([2,2], mean=1,stddev=2)"
   ]
  },
  {
   "cell_type": "markdown",
   "metadata": {},
   "source": [
    "　　通过tf.random.uniform(shape, minval=0, maxval=None, dtype=tf.float32)可以创建采样自\n",
    "[𝑚𝑖𝑛𝑣𝑎𝑙, 𝑚𝑎𝑥𝑣𝑎𝑙]区间的均匀分布的张量。例如创建采样自区间[0,1]，shape 为[2,2]的矩\n",
    "阵："
   ]
  },
  {
   "cell_type": "code",
   "execution_count": 97,
   "metadata": {},
   "outputs": [
    {
     "data": {
      "text/plain": [
       "<tf.Tensor: shape=(2, 2), dtype=float32, numpy=\n",
       "array([[0.57283103, 0.7844522 ],\n",
       "       [0.45233226, 0.40379906]], dtype=float32)>"
      ]
     },
     "execution_count": 97,
     "metadata": {},
     "output_type": "execute_result"
    }
   ],
   "source": [
    "tf.random.uniform([2,2])"
   ]
  },
  {
   "cell_type": "markdown",
   "metadata": {},
   "source": [
    "创建采样自区间[0,10]，shape 为[2,2]的矩阵："
   ]
  },
  {
   "cell_type": "code",
   "execution_count": 100,
   "metadata": {},
   "outputs": [
    {
     "data": {
      "text/plain": [
       "<tf.Tensor: shape=(2, 2), dtype=float32, numpy=\n",
       "array([[5.6195474, 5.876032 ],\n",
       "       [0.5130398, 4.125701 ]], dtype=float32)>"
      ]
     },
     "execution_count": 100,
     "metadata": {},
     "output_type": "execute_result"
    }
   ],
   "source": [
    "tf.random.uniform([2,2],minval=0,maxval=10)"
   ]
  },
  {
   "cell_type": "markdown",
   "metadata": {},
   "source": [
    "如果需要均匀采样整形类型的数据，必须指定采样区间的最大值maxval 参数，同时制定数\n",
    "据类型为tf.int*型："
   ]
  },
  {
   "cell_type": "code",
   "execution_count": 101,
   "metadata": {},
   "outputs": [
    {
     "data": {
      "text/plain": [
       "<tf.Tensor: shape=(2, 2), dtype=int32, numpy=\n",
       "array([[87, 28],\n",
       "       [98, 66]])>"
      ]
     },
     "execution_count": 101,
     "metadata": {},
     "output_type": "execute_result"
    }
   ],
   "source": [
    "tf.random.uniform([2,2],maxval=100,dtype=tf.int32)"
   ]
  },
  {
   "cell_type": "markdown",
   "metadata": {},
   "source": [
    "### 创建序列\n",
    "在循环计算或者对张量进行索引时，经常需要创建一段连续的整形序列，可以通过\n",
    "tf.range()函数实现。tf.range(limit, delta=1)可以创建[0, 𝑙𝑖𝑚𝑖𝑡)之间，步长为delta 的整形序\n",
    "列，不包含limit 本身。例如，创建0~9，步长为1 的整形序列："
   ]
  },
  {
   "cell_type": "code",
   "execution_count": 102,
   "metadata": {},
   "outputs": [
    {
     "data": {
      "text/plain": [
       "<tf.Tensor: shape=(10,), dtype=int32, numpy=array([0, 1, 2, 3, 4, 5, 6, 7, 8, 9])>"
      ]
     },
     "execution_count": 102,
     "metadata": {},
     "output_type": "execute_result"
    }
   ],
   "source": [
    "tf.range(10)"
   ]
  },
  {
   "cell_type": "markdown",
   "metadata": {},
   "source": [
    "创建0~9，步长为2 的整形序列："
   ]
  },
  {
   "cell_type": "code",
   "execution_count": 104,
   "metadata": {},
   "outputs": [
    {
     "data": {
      "text/plain": [
       "<tf.Tensor: shape=(5,), dtype=int32, numpy=array([0, 2, 4, 6, 8])>"
      ]
     },
     "execution_count": 104,
     "metadata": {},
     "output_type": "execute_result"
    }
   ],
   "source": [
    "tf.range(10,delta=2)"
   ]
  },
  {
   "cell_type": "markdown",
   "metadata": {},
   "source": [
    "通过tf.range(start, limit, delta=1)可以创建[𝑠𝑡𝑎𝑟𝑡, 𝑙𝑖𝑚𝑖𝑡)，步长为delta 的序列，不包含limit\n",
    "本身："
   ]
  },
  {
   "cell_type": "code",
   "execution_count": 105,
   "metadata": {},
   "outputs": [
    {
     "data": {
      "text/plain": [
       "<tf.Tensor: shape=(5,), dtype=int32, numpy=array([1, 3, 5, 7, 9])>"
      ]
     },
     "execution_count": 105,
     "metadata": {},
     "output_type": "execute_result"
    }
   ],
   "source": [
    "tf.range(1,10,delta=2)"
   ]
  },
  {
   "cell_type": "markdown",
   "metadata": {},
   "source": [
    "## 张量的典型应用\n",
    "在介绍完张量的相关属性和创建方式后，我们将介绍每种维度下张量的典型应用，让\n",
    "读者在看到每种张量时，能够直观地联想到它主要的物理意义和用途，对后续张量的维度\n",
    "变换等一系列抽象操作的学习打下基础。\n",
    "本节在介绍典型应用时不可避免地会提及后续将要学习的网络模型或算法，学习时不\n",
    "需要完全理解，有初步印象即可。\n",
    "### 标量\n",
    "在 TensorFlow 中，标量最容易理解，它就是一个简单的数字，维度数为0，shape 为\n",
    "[]。标量的典型用途之一是误差值的表示、各种测量指标的表示，比如准确度(Accuracy,\n",
    "acc)，精度(Precision)和召回率(Recall)等。\n",
    "考虑某个模型的训练曲线，如图 4.1 所示，横坐标为训练Batch 步数Step，纵坐标分\n",
    "别为误差变化趋势(图 4.1(a))和准确度变化趋势曲线(图 4.1(b))，其中损失值loss 和准确度\n",
    "均由张量计算产生，类型为标量。"
   ]
  },
  {
   "attachments": {
    "image.png": {
     "image/png": "[encoded data removed]"
    }
   },
   "cell_type": "markdown",
   "metadata": {},
   "source": [
    "![image.png](attachment:image.png)"
   ]
  },
  {
   "cell_type": "markdown",
   "metadata": {},
   "source": [
    "以均方差误差函数为例，经过tf.keras.losses.mse(或tf.keras.losses.MSE)返回每个样本\n",
    "上的误差值，最后取误差的均值作为当前batch 的误差，它是一个标量："
   ]
  },
  {
   "cell_type": "code",
   "execution_count": 117,
   "metadata": {},
   "outputs": [
    {
     "name": "stdout",
     "output_type": "stream",
     "text": [
      "tf.Tensor(0.32271004, shape=(), dtype=float32)\n"
     ]
    }
   ],
   "source": [
    "out = tf.random.uniform([4,10]) #随机模拟网络输出\n",
    "y = tf.constant([2,3,2,0]) # 随机构造样本真实标签\n",
    "y = tf.one_hot(y, depth=10) # one-hot 编码\n",
    "loss = tf.keras.losses.mse(y, out) # 计算每个样本的MSE\n",
    "loss = tf.reduce_mean(loss) # 平均MSE\n",
    "print(loss)"
   ]
  },
  {
   "attachments": {
    "image.png": {
     "image/png": "[encoded data removed]"
    }
   },
   "cell_type": "markdown",
   "metadata": {},
   "source": [
    "### 向量\n",
    "向量是一种非常常见的数据载体，如在全连接层和卷积神经网络层中，偏置张量𝒃就\n",
    "使用向量来表示。如图 4.2 所示，每个全连接层的输出节点都添加了一个偏置值，把所有\n",
    "输出节点的偏置表示成向量形式：𝒃 = [𝑏1, 𝑏2]𝑇。\n",
    "![image.png](attachment:image.png)"
   ]
  },
  {
   "cell_type": "markdown",
   "metadata": {},
   "source": [
    "考虑 2 个输出节点的网络层，我们创建长度为2 的偏置向量𝒃，并累加在每个输出节点\n",
    "上："
   ]
  },
  {
   "cell_type": "code",
   "execution_count": 2,
   "metadata": {},
   "outputs": [
    {
     "data": {
      "text/plain": [
       "<tf.Tensor: shape=(4, 2), dtype=float32, numpy=\n",
       "array([[ 0.18704891, -0.4344288 ],\n",
       "       [ 0.4788755 ,  1.8419697 ],\n",
       "       [ 1.2548707 ,  1.7027124 ],\n",
       "       [-2.0179474 , -2.2412555 ]], dtype=float32)>"
      ]
     },
     "execution_count": 2,
     "metadata": {},
     "output_type": "execute_result"
    }
   ],
   "source": [
    "# z=wx,模拟获得激活函数的输入z\n",
    "z = tf.random.normal([4,2])\n",
    "b = tf.zeros([2])\n",
    "z = z + b\n",
    "z"
   ]
  },
  {
   "cell_type": "markdown",
   "metadata": {},
   "source": [
    "注意到这里shape 为[4,2]的𝒛和shape 为[2]的𝒃张量可以直接相加，这是为什么呢？让我们\n",
    "在Broadcasting 一节为大家揭秘。\n",
    "通过高层接口类Dense()方式创建的网络层，张量W 和𝒃存储在类的内部，由类自动创\n",
    "建并管理。可以通过全连接层的bias 成员变量查看偏置变量𝒃，例如创建输入节点数为4，\n",
    "输出节点数为3 的线性层网络，那么它的偏置向量b 的长度应为3："
   ]
  },
  {
   "cell_type": "code",
   "execution_count": 133,
   "metadata": {},
   "outputs": [
    {
     "data": {
      "text/plain": [
       "<tf.Variable 'bias:0' shape=(3,) dtype=float32, numpy=array([0., 0., 0.], dtype=float32)>"
      ]
     },
     "execution_count": 133,
     "metadata": {},
     "output_type": "execute_result"
    }
   ],
   "source": [
    "fc = tf.keras.layers.Dense(3) # 创建一层Wx+b，输出节点为3\n",
    "# 通过build 函数创建W,b 张量，输入节点为4\n",
    "fc.build(input_shape=(2,4))\n",
    "fc.bias # 查看偏置"
   ]
  },
  {
   "cell_type": "markdown",
   "metadata": {},
   "source": [
    "可以看到，类的偏置成员bias 初始化为全0，这也是偏置𝒃的默认初始化方案。"
   ]
  },
  {
   "cell_type": "markdown",
   "metadata": {},
   "source": [
    "### 矩阵\n",
    "矩阵也是非常常见的张量类型，比如全连接层的批量输入𝑋 = [𝑏, 𝑑𝑖𝑛 ]，其中𝑏表示输入\n",
    "样本的个数，即batch size，𝑑𝑖𝑛表示输入特征的长度。比如特征长度为4，一共包含2 个样\n",
    "本的输入可以表示为矩阵："
   ]
  },
  {
   "cell_type": "code",
   "execution_count": 135,
   "metadata": {},
   "outputs": [],
   "source": [
    "x = tf.random.normal([2,4])"
   ]
  },
  {
   "cell_type": "markdown",
   "metadata": {},
   "source": [
    "令全连接层的输出节点数为3，则它的权值张量W 的shape 为[4,3]:"
   ]
  },
  {
   "cell_type": "code",
   "execution_count": 138,
   "metadata": {},
   "outputs": [
    {
     "data": {
      "text/plain": [
       "<tf.Tensor: shape=(2, 3), dtype=float32, numpy=\n",
       "array([[0.50894046, 0.50894046, 0.50894046],\n",
       "       [1.8639933 , 1.8639933 , 1.8639933 ]], dtype=float32)>"
      ]
     },
     "execution_count": 138,
     "metadata": {},
     "output_type": "execute_result"
    }
   ],
   "source": [
    "w = tf.ones([4,3]) # 定义W 张量\n",
    "b = tf.zeros([3]) # 定义b 张量\n",
    "o = x@w+b # X@W+b 运算\n",
    "o"
   ]
  },
  {
   "cell_type": "markdown",
   "metadata": {},
   "source": [
    "其中X，W 张量均是矩阵。x@w+b 网络层称为线性层，在TensorFlow 中可以通过Dense\n",
    "类直接实现，Dense 层也称为全连接层。我们通过Dense 类创建输入4 个节点，输出3 个\n",
    "节点的网络层，可以通过全连接层的kernel 成员名查看其权值矩阵W："
   ]
  },
  {
   "cell_type": "code",
   "execution_count": 139,
   "metadata": {},
   "outputs": [
    {
     "data": {
      "text/plain": [
       "<tf.Variable 'kernel:0' shape=(4, 3) dtype=float32, numpy=\n",
       "array([[ 0.26687157,  0.61750174, -0.8875135 ],\n",
       "       [-0.76247925, -0.6441561 , -0.82430005],\n",
       "       [ 0.8485062 ,  0.32162678,  0.02503222],\n",
       "       [ 0.9131967 ,  0.05722672,  0.6556673 ]], dtype=float32)>"
      ]
     },
     "execution_count": 139,
     "metadata": {},
     "output_type": "execute_result"
    }
   ],
   "source": [
    "fc = tf.keras.layers.Dense(3) # 定义全连接层的输出节点为3\n",
    "fc.build(input_shape=(2,4)) # 定义全连接层的输入节点为4\n",
    "fc.kernel"
   ]
  },
  {
   "cell_type": "markdown",
   "metadata": {},
   "source": [
    "### 3维张量"
   ]
  },
  {
   "cell_type": "markdown",
   "metadata": {},
   "source": [
    "　　三维的张量一个典型应用是表示序列信号，它的格式是\n",
    "𝑋 = [𝑏, 𝑠𝑒𝑞𝑢𝑒𝑛𝑐𝑒 𝑙𝑒𝑛, 𝑓𝑒𝑎𝑡𝑢𝑟𝑒 𝑙𝑒𝑛]\n",
    "其中𝑏表示序列信号的数量，sequence len 表示序列信号在时间维度上的采样点数，feature\n",
    "len 表示每个点的特征长度。<br>\n",
    "　 考虑自然语言处理中句子的表示，如评价句子的是否为正面情绪的情感分类任务网\n",
    "络，如图 4.3 所示。\n",
    "(Embedding Layer)编码为固定长度的向量，比如“a”编码为某个长度3 的向量，那么2 个\n",
    "等长(单词数为5)的句子序列可以表示为shape 为[2,5,3]的3 维张量，其中2 表示句子个\n",
    "数，5 表示单词数量，3 表示单词向量的长度："
   ]
  },
  {
   "cell_type": "code",
   "execution_count": 3,
   "metadata": {},
   "outputs": [],
   "source": [
    "# 自动加载IMDB 电影评价数据集\n",
    "import os \n",
    "imdb_path = os.path.join(os.getcwd(),'data/imdb.npz')\n",
    "(x_train,y_train),(x_test,y_test)=tf.keras.datasets.imdb.load_data(path=imdb_path,num_words=10000)"
   ]
  },
  {
   "cell_type": "code",
   "execution_count": 178,
   "metadata": {},
   "outputs": [
    {
     "data": {
      "text/plain": [
       "(25000, 80)"
      ]
     },
     "execution_count": 178,
     "metadata": {},
     "output_type": "execute_result"
    }
   ],
   "source": [
    "# 将句子填充、截断为等长80 个单词的句子\n",
    "x_train = tf.keras.preprocessing.sequence.pad_sequences(x_train,maxlen=80)\n",
    "x_train.shape"
   ]
  },
  {
   "cell_type": "markdown",
   "metadata": {},
   "source": [
    "可以看到x_train 张量的shape 为[25000,80]，其中25000 表示句子个数，80 表示每个句子\n",
    "共80 个单词，每个单词使用数字编码方式。我们通过layers.Embedding 层将数字编码的单\n",
    "词转换为长度为100 个词向量："
   ]
  },
  {
   "cell_type": "code",
   "execution_count": 179,
   "metadata": {},
   "outputs": [
    {
     "data": {
      "text/plain": [
       "TensorShape([25000, 80, 100])"
      ]
     },
     "execution_count": 179,
     "metadata": {},
     "output_type": "execute_result"
    }
   ],
   "source": [
    "In [47]: # 创建词向量Embedding 层类\n",
    "embedding=tf.keras.layers.Embedding(10000, 100)\n",
    "# 将数字编码的单词转换为词向量\n",
    "out = embedding(x_train)\n",
    "out.shape"
   ]
  },
  {
   "attachments": {
    "image.png": {
     "image/png": "[encoded data removed]"
    }
   },
   "cell_type": "markdown",
   "metadata": {},
   "source": [
    "可以看到，经过Embedding 层编码后，句子张量的shape 变为[25000,80,100]，其中100 表\n",
    "示每个单词编码为长度100 的向量。\n",
    "![image.png](attachment:image.png)\n",
    "　　对于特征长度为1 的序列信号，比如商品价格在60 天内的变化曲线，只需要一个标量\n",
    "即可表示商品的价格，因此2 件商品的价格变化趋势可以使用shape 为[2,60]的张量表示。\n",
    "为了方便统一格式，也将价格变化趋势表达为shape 为 [2,60,1]的张量，其中的1 表示特\n",
    "征长度为1。"
   ]
  },
  {
   "attachments": {
    "image.png": {
     "image/png": "[encoded data removed]"
    }
   },
   "cell_type": "markdown",
   "metadata": {},
   "source": [
    "### 4 维张量\n",
    "我们这里只讨论3/4 维张量，大于4 维的张量一般应用的比较少，如在元学习(meta\n",
    "learning)中会采用5 维的张量表示方法，理解方法与3/4 维张量类似。<br>\n",
    "　　4 维张量在卷积神经网络中应用的非常广泛，它用于保存特征图(Feature maps)数据，\n",
    "格式一般定义为<br>\n",
    "[𝑏, ℎ, , 𝑐]\n",
    "其中𝑏表示输入的数量，h/w分布表示特征图的高宽，𝑐表示特征图的通道数，部分深度学\n",
    "习框架也会使用[𝑏, 𝑐, ℎ, ]格式的特征图张量，例如PyTorch。图片数据是特征图的一种，\n",
    "对于含有RGB 3 个通道的彩色图片，每张图片包含了h 行w 列像素点，每个点需要3 个数\n",
    "值表示RGB 通道的颜色强度，因此一张图片可以表示为[h, w, 3]。如图 4.4 所示，最上层\n",
    "的图片表示原图，它包含了下面3 个通道的强度信息。\n",
    "![image.png](attachment:image.png)\n",
    "神经网络中一般并行计算多个输入以提高计算效率，故𝑏张图片的张量可表示为\n",
    "[𝑏, ℎ, , 3]。"
   ]
  },
  {
   "cell_type": "code",
   "execution_count": 6,
   "metadata": {},
   "outputs": [
    {
     "data": {
      "text/plain": [
       "TensorShape([4, 30, 30, 16])"
      ]
     },
     "execution_count": 6,
     "metadata": {},
     "output_type": "execute_result"
    }
   ],
   "source": [
    "# 创建32x32 的彩色图片输入，个数为4\n",
    "x = tf.random.normal([4,32,32,3])\n",
    "# 创建卷积神经网络\n",
    "layer = tf.keras.layers.Conv2D(16,kernel_size=3)\n",
    "out = layer(x) # 前向计算\n",
    "out.shape # 输出大小"
   ]
  },
  {
   "cell_type": "markdown",
   "metadata": {},
   "source": [
    "其中卷积核张量也是4 维张量，可以通过kernel 成员变量访问："
   ]
  },
  {
   "cell_type": "code",
   "execution_count": 153,
   "metadata": {},
   "outputs": [
    {
     "data": {
      "text/plain": [
       "TensorShape([3, 3, 3, 16])"
      ]
     },
     "execution_count": 153,
     "metadata": {},
     "output_type": "execute_result"
    }
   ],
   "source": [
    "layer.kernel.shape"
   ]
  },
  {
   "cell_type": "markdown",
   "metadata": {},
   "source": [
    "## 索引与切片 \n",
    "　　通过索引与切片操作可以提取张量的部分数据，使用频率非常高。 \n",
    "### 索引 \n",
    "　　在 TensorFlow 中，支持基本的[𝑖][𝑗]…标准索引方式，也支持通过逗号分隔索引号的索 引方式。考虑输入 X 为 4 张 32x32 大小的彩色图片(为了方便演示，大部分张量都使用随 即分布模拟产生，后文同)，shape 为[4,32,32,3]，首先创建张量： "
   ]
  },
  {
   "cell_type": "code",
   "execution_count": 26,
   "metadata": {},
   "outputs": [],
   "source": [
    "x = tf.random.normal([4,32,32,3])"
   ]
  },
  {
   "cell_type": "markdown",
   "metadata": {},
   "source": [
    "接下来我们使用索引方式读取张量的部分数据。<br>\n",
    "❑ 取第 1 张图片的数据："
   ]
  },
  {
   "cell_type": "code",
   "execution_count": 27,
   "metadata": {},
   "outputs": [
    {
     "data": {
      "text/plain": [
       "<tf.Tensor: shape=(32, 32, 3), dtype=float32, numpy=\n",
       "array([[[-0.02352103, -1.6766763 ,  0.15399364],\n",
       "        [-1.3500196 ,  0.7150362 ,  1.2361337 ],\n",
       "        [ 0.99720716, -1.1233007 , -0.9281549 ],\n",
       "        ...,\n",
       "        [ 0.11829674, -0.21703883,  0.13811572],\n",
       "        [ 1.3951824 ,  0.8729565 ,  1.8814441 ],\n",
       "        [-0.1870037 ,  0.4572529 , -1.8152641 ]],\n",
       "\n",
       "       [[-1.5302954 ,  0.56062484, -1.9240733 ],\n",
       "        [ 0.10467631, -0.70375556,  1.8022267 ],\n",
       "        [-1.2555767 ,  1.2084566 ,  0.71171004],\n",
       "        ...,\n",
       "        [ 1.6709467 ,  0.3794874 ,  0.52112496],\n",
       "        [-0.8795333 , -0.07480068, -0.2422616 ],\n",
       "        [-0.11240552,  0.36506006, -0.2756195 ]],\n",
       "\n",
       "       [[-0.46061954,  1.5148922 ,  0.49402007],\n",
       "        [-0.4724346 , -1.0787563 ,  0.356503  ],\n",
       "        [-0.17385864,  1.4156125 ,  2.5004747 ],\n",
       "        ...,\n",
       "        [ 1.2898577 , -0.709742  ,  0.14509402],\n",
       "        [-0.72195804,  1.2658856 , -0.3522735 ],\n",
       "        [ 1.2580713 , -0.16059555,  1.6072379 ]],\n",
       "\n",
       "       ...,\n",
       "\n",
       "       [[-2.0864627 , -0.29000896,  1.6903856 ],\n",
       "        [-1.3517839 , -2.3704863 ,  0.43318018],\n",
       "        [ 0.31007934, -0.66690063, -0.540682  ],\n",
       "        ...,\n",
       "        [ 0.7192134 ,  1.188035  ,  1.2415175 ],\n",
       "        [ 1.8420651 , -0.37324044, -0.62996465],\n",
       "        [-0.10716793,  0.8753473 ,  2.1612835 ]],\n",
       "\n",
       "       [[ 0.22312482, -0.0995971 , -0.11902833],\n",
       "        [ 1.1516596 , -1.4293859 ,  0.49260327],\n",
       "        [ 0.12035396, -0.3068101 ,  0.06941528],\n",
       "        ...,\n",
       "        [ 0.41524646, -1.1621631 ,  1.8871795 ],\n",
       "        [ 0.25545338,  1.417388  ,  0.9100766 ],\n",
       "        [ 1.6338152 ,  1.7909476 ,  0.6129344 ]],\n",
       "\n",
       "       [[ 0.431098  , -1.2102566 , -1.1603881 ],\n",
       "        [-0.6336722 ,  0.44843104,  0.9242732 ],\n",
       "        [-0.37128797, -1.4387553 , -0.02664709],\n",
       "        ...,\n",
       "        [-0.22563116,  0.60012573, -0.9043737 ],\n",
       "        [-0.7461722 , -0.50886774, -1.0443767 ],\n",
       "        [ 1.1719503 , -0.8389815 ,  0.62904006]]], dtype=float32)>"
      ]
     },
     "execution_count": 27,
     "metadata": {},
     "output_type": "execute_result"
    }
   ],
   "source": [
    " x[0] "
   ]
  },
  {
   "cell_type": "markdown",
   "metadata": {},
   "source": [
    "❑ 取第 1 张图片的第 2 行： "
   ]
  },
  {
   "cell_type": "code",
   "execution_count": 28,
   "metadata": {},
   "outputs": [
    {
     "data": {
      "text/plain": [
       "<tf.Tensor: shape=(32, 3), dtype=float32, numpy=\n",
       "array([[-1.5302954 ,  0.56062484, -1.9240733 ],\n",
       "       [ 0.10467631, -0.70375556,  1.8022267 ],\n",
       "       [-1.2555767 ,  1.2084566 ,  0.71171004],\n",
       "       [-0.6399325 , -0.4107895 ,  1.2426488 ],\n",
       "       [ 1.0876675 ,  0.58260596, -0.70401144],\n",
       "       [-0.19682357,  0.7055312 ,  0.3436352 ],\n",
       "       [-0.8622818 ,  0.13970253, -0.9648268 ],\n",
       "       [ 0.7149875 ,  1.0982007 ,  0.7689572 ],\n",
       "       [-1.2452449 ,  0.08405801,  1.1232916 ],\n",
       "       [-0.20407546,  0.82038665,  0.04152213],\n",
       "       [-0.84227633, -1.7191079 ,  0.8264283 ],\n",
       "       [ 0.60912114, -0.45219883,  0.03319998],\n",
       "       [ 1.3206142 , -0.10579235,  2.4695346 ],\n",
       "       [-0.45472336, -1.7434887 ,  0.92343354],\n",
       "       [ 1.4087874 , -0.37211716, -0.15189344],\n",
       "       [-0.9971863 , -0.46224132, -1.2020116 ],\n",
       "       [-2.047626  , -0.5674309 ,  1.2903855 ],\n",
       "       [-0.1744404 ,  1.5090793 ,  1.2645477 ],\n",
       "       [-0.94231284,  0.06205566, -0.21898903],\n",
       "       [-1.0336776 ,  0.75821394, -0.6871015 ],\n",
       "       [-0.48640755,  0.31313044,  1.0649303 ],\n",
       "       [ 0.29199925, -0.0877607 , -1.566778  ],\n",
       "       [-0.6724356 , -2.0768368 , -0.9359192 ],\n",
       "       [ 0.6731105 ,  2.290884  ,  0.04571601],\n",
       "       [ 0.36618024, -1.7602335 ,  0.8388718 ],\n",
       "       [-0.37976018, -0.47153765, -0.9254474 ],\n",
       "       [ 0.16491951,  1.6776377 ,  0.6046074 ],\n",
       "       [-2.5479293 ,  0.3265518 ,  1.1392239 ],\n",
       "       [ 0.968824  ,  0.0343418 , -0.8500144 ],\n",
       "       [ 1.6709467 ,  0.3794874 ,  0.52112496],\n",
       "       [-0.8795333 , -0.07480068, -0.2422616 ],\n",
       "       [-0.11240552,  0.36506006, -0.2756195 ]], dtype=float32)>"
      ]
     },
     "execution_count": 28,
     "metadata": {},
     "output_type": "execute_result"
    }
   ],
   "source": [
    " x[0][1] "
   ]
  },
  {
   "cell_type": "markdown",
   "metadata": {},
   "source": [
    "❑ 取第 1 张图片，第 2 行，第 3 列的像素"
   ]
  },
  {
   "cell_type": "code",
   "execution_count": 29,
   "metadata": {},
   "outputs": [
    {
     "data": {
      "text/plain": [
       "<tf.Tensor: shape=(3,), dtype=float32, numpy=array([-1.2555767 ,  1.2084566 ,  0.71171004], dtype=float32)>"
      ]
     },
     "execution_count": 29,
     "metadata": {},
     "output_type": "execute_result"
    }
   ],
   "source": [
    "x[0][1][2]"
   ]
  },
  {
   "cell_type": "markdown",
   "metadata": {},
   "source": [
    "❑ 取第 3 张图片，第 2 行，第 1 列的像素，B 通道(第 2 个通道)颜色强度值： "
   ]
  },
  {
   "cell_type": "code",
   "execution_count": 30,
   "metadata": {},
   "outputs": [
    {
     "data": {
      "text/plain": [
       "<tf.Tensor: shape=(), dtype=float32, numpy=-0.2700429>"
      ]
     },
     "execution_count": 30,
     "metadata": {},
     "output_type": "execute_result"
    }
   ],
   "source": [
    " x[2][1][0][1] "
   ]
  },
  {
   "cell_type": "code",
   "execution_count": 33,
   "metadata": {},
   "outputs": [
    {
     "data": {
      "text/plain": [
       "<tf.Tensor: shape=(3,), dtype=float32, numpy=array([2.2956023 , 0.32304394, 0.8832713 ], dtype=float32)>"
      ]
     },
     "execution_count": 33,
     "metadata": {},
     "output_type": "execute_result"
    }
   ],
   "source": [
    " x[1,9,2] "
   ]
  },
  {
   "cell_type": "markdown",
   "metadata": {},
   "source": [
    "当张量的维度数较高时，使用[𝑖][𝑗]...[𝑘]的方式书写不方便，可以采用[𝑖,𝑗,…,𝑘]的方 式索引，它们是等价的"
   ]
  },
  {
   "cell_type": "markdown",
   "metadata": {},
   "source": [
    "### 切片 \n",
    "　　通过𝑠𝑡𝑎𝑟𝑡:𝑒𝑛𝑑:𝑠𝑡𝑒𝑝切片方式可以方便地提取一段数据，其中 start 为开始读取位置的 索引，end 为结束读取位置的索引(不包含 end 位)，step 为读取步长。 <br>\n",
    "　　以 shape 为[4,32,32,3]的图片张量为例：<br> ❑ 读取第 2,3 张图片： "
   ]
  },
  {
   "cell_type": "code",
   "execution_count": 34,
   "metadata": {},
   "outputs": [
    {
     "data": {
      "text/plain": [
       "<tf.Tensor: shape=(2, 32, 32, 3), dtype=float32, numpy=\n",
       "array([[[[-0.584478  , -0.89449745,  0.93301713],\n",
       "         [-1.8470398 , -1.1339533 , -1.4404792 ],\n",
       "         [ 0.12116746,  0.70904547,  0.30983558],\n",
       "         ...,\n",
       "         [-1.1528454 ,  0.04971405,  0.12371472],\n",
       "         [ 0.03528595,  0.5934851 , -0.30558288],\n",
       "         [ 0.1535259 ,  1.882938  , -0.13367933]],\n",
       "\n",
       "        [[-1.1443367 ,  1.6413378 , -0.5234765 ],\n",
       "         [ 0.6004966 ,  1.0016925 ,  0.17103527],\n",
       "         [ 0.3424796 ,  1.2860132 , -0.6695358 ],\n",
       "         ...,\n",
       "         [ 0.5728703 ,  0.25140315, -0.5579836 ],\n",
       "         [-0.21534312, -0.23126861,  0.07920942],\n",
       "         [ 0.5403651 , -1.5716707 ,  1.3466341 ]],\n",
       "\n",
       "        [[ 0.16122961,  0.4826155 ,  1.7915379 ],\n",
       "         [-0.49999335,  0.3585256 , -0.19534384],\n",
       "         [-0.70899457,  0.18575613,  1.4680139 ],\n",
       "         ...,\n",
       "         [-0.10077112,  0.6838706 ,  0.26662293],\n",
       "         [-0.79185814, -1.1682056 ,  1.2676642 ],\n",
       "         [-0.7977162 , -0.31908852, -0.30749494]],\n",
       "\n",
       "        ...,\n",
       "\n",
       "        [[ 0.5162222 , -0.9263005 , -0.08172452],\n",
       "         [ 0.3952033 ,  0.17482181,  0.2029045 ],\n",
       "         [ 0.4786768 , -1.8233981 ,  0.7898368 ],\n",
       "         ...,\n",
       "         [ 0.25888035,  0.21325096,  1.2423156 ],\n",
       "         [ 0.9269654 ,  0.3674337 , -0.32333294],\n",
       "         [ 0.4375189 , -1.4993689 ,  0.41680965]],\n",
       "\n",
       "        [[ 0.18570267, -0.11034819, -2.7799745 ],\n",
       "         [ 1.1203763 , -0.71130776,  0.9061536 ],\n",
       "         [ 1.2214355 , -0.87124586,  1.3929302 ],\n",
       "         ...,\n",
       "         [-1.364647  ,  0.48802078, -1.4045019 ],\n",
       "         [ 0.29222432, -0.3494897 ,  0.4966182 ],\n",
       "         [ 0.23453616,  0.6387634 , -1.3079823 ]],\n",
       "\n",
       "        [[ 0.46348867,  0.6008914 , -0.20223598],\n",
       "         [ 0.18043685, -0.20329072, -1.1441212 ],\n",
       "         [-0.12356739,  1.1467408 ,  1.3383179 ],\n",
       "         ...,\n",
       "         [ 0.08094802,  0.6538094 , -1.9187477 ],\n",
       "         [ 0.66673326,  0.26426876, -0.07326338],\n",
       "         [ 0.59214586,  1.1322099 , -0.9687286 ]]],\n",
       "\n",
       "\n",
       "       [[[-0.21806437, -0.07340018, -0.6606123 ],\n",
       "         [ 0.74571204, -1.2399374 ,  0.86710536],\n",
       "         [ 1.0391624 , -0.5125622 , -1.4622438 ],\n",
       "         ...,\n",
       "         [ 0.15276013, -0.11232406,  0.7490662 ],\n",
       "         [ 0.11146528,  0.22004347, -0.44005156],\n",
       "         [-0.44611776, -0.63123965, -0.65960795]],\n",
       "\n",
       "        [[-0.29055512, -0.2700429 , -1.7740409 ],\n",
       "         [ 1.7149328 ,  0.02011585,  0.0348413 ],\n",
       "         [ 0.47616097,  1.6961594 , -0.37613952],\n",
       "         ...,\n",
       "         [-0.60896546, -0.61855763, -0.06216579],\n",
       "         [ 0.35283995, -0.09926996,  1.4372721 ],\n",
       "         [ 1.0612619 ,  1.6342158 , -1.0721828 ]],\n",
       "\n",
       "        [[-0.97474366,  1.1904848 , -0.3817166 ],\n",
       "         [ 0.29978663,  0.30212748,  0.01813144],\n",
       "         [-0.50115216, -0.87675864,  0.7898441 ],\n",
       "         ...,\n",
       "         [ 0.74823093,  1.0837183 ,  0.35028952],\n",
       "         [ 1.2560362 , -0.11885179, -1.0796521 ],\n",
       "         [ 0.06984271,  1.6139932 ,  1.2877883 ]],\n",
       "\n",
       "        ...,\n",
       "\n",
       "        [[ 0.6448603 ,  0.98011225, -0.37100163],\n",
       "         [-0.5344551 , -1.3012646 , -0.66802275],\n",
       "         [ 0.9945579 ,  0.22849236,  0.0176908 ],\n",
       "         ...,\n",
       "         [ 0.5630632 , -1.0606558 ,  0.83426964],\n",
       "         [ 0.67424124, -0.5451826 , -0.0393694 ],\n",
       "         [-0.2020093 , -0.97385067, -0.2963369 ]],\n",
       "\n",
       "        [[-0.5069117 ,  0.666383  , -0.5689697 ],\n",
       "         [-1.4969757 , -0.8637156 ,  0.8676152 ],\n",
       "         [ 0.37910324,  0.35967055,  0.03927492],\n",
       "         ...,\n",
       "         [-2.114431  , -1.6940157 , -1.0969902 ],\n",
       "         [ 0.5698079 , -0.13035977, -0.7623581 ],\n",
       "         [ 0.32031903,  1.9251285 , -0.25510326]],\n",
       "\n",
       "        [[ 1.0063881 , -0.22600858, -0.28465807],\n",
       "         [ 0.480035  ,  1.1559427 , -0.62789226],\n",
       "         [ 1.8911331 ,  1.7601031 , -0.11956318],\n",
       "         ...,\n",
       "         [-1.7582886 , -1.5451945 ,  1.2640927 ],\n",
       "         [ 0.32757   ,  0.70068336, -0.20848604],\n",
       "         [-1.8828267 , -0.3692099 , -0.3585136 ]]]], dtype=float32)>"
      ]
     },
     "execution_count": 34,
     "metadata": {},
     "output_type": "execute_result"
    }
   ],
   "source": [
    " x[1:3] "
   ]
  },
  {
   "cell_type": "markdown",
   "metadata": {},
   "source": [
    "　　start:end:step切片方式有很多简写方式，其中 start、end、step 3 个参数可以根据需要 选择性地省略，全部省略时即::，表示从最开始读取到最末尾，步长为 1，即不跳过任何元 素。如 x[0,::]表示读取第 1 张图片的所有行，其中::表示在行维度上读取所有行，它等于 x[0]的写法："
   ]
  },
  {
   "cell_type": "code",
   "execution_count": 35,
   "metadata": {},
   "outputs": [
    {
     "data": {
      "text/plain": [
       "<tf.Tensor: shape=(32, 32, 3), dtype=float32, numpy=\n",
       "array([[[-0.02352103, -1.6766763 ,  0.15399364],\n",
       "        [-1.3500196 ,  0.7150362 ,  1.2361337 ],\n",
       "        [ 0.99720716, -1.1233007 , -0.9281549 ],\n",
       "        ...,\n",
       "        [ 0.11829674, -0.21703883,  0.13811572],\n",
       "        [ 1.3951824 ,  0.8729565 ,  1.8814441 ],\n",
       "        [-0.1870037 ,  0.4572529 , -1.8152641 ]],\n",
       "\n",
       "       [[-1.5302954 ,  0.56062484, -1.9240733 ],\n",
       "        [ 0.10467631, -0.70375556,  1.8022267 ],\n",
       "        [-1.2555767 ,  1.2084566 ,  0.71171004],\n",
       "        ...,\n",
       "        [ 1.6709467 ,  0.3794874 ,  0.52112496],\n",
       "        [-0.8795333 , -0.07480068, -0.2422616 ],\n",
       "        [-0.11240552,  0.36506006, -0.2756195 ]],\n",
       "\n",
       "       [[-0.46061954,  1.5148922 ,  0.49402007],\n",
       "        [-0.4724346 , -1.0787563 ,  0.356503  ],\n",
       "        [-0.17385864,  1.4156125 ,  2.5004747 ],\n",
       "        ...,\n",
       "        [ 1.2898577 , -0.709742  ,  0.14509402],\n",
       "        [-0.72195804,  1.2658856 , -0.3522735 ],\n",
       "        [ 1.2580713 , -0.16059555,  1.6072379 ]],\n",
       "\n",
       "       ...,\n",
       "\n",
       "       [[-2.0864627 , -0.29000896,  1.6903856 ],\n",
       "        [-1.3517839 , -2.3704863 ,  0.43318018],\n",
       "        [ 0.31007934, -0.66690063, -0.540682  ],\n",
       "        ...,\n",
       "        [ 0.7192134 ,  1.188035  ,  1.2415175 ],\n",
       "        [ 1.8420651 , -0.37324044, -0.62996465],\n",
       "        [-0.10716793,  0.8753473 ,  2.1612835 ]],\n",
       "\n",
       "       [[ 0.22312482, -0.0995971 , -0.11902833],\n",
       "        [ 1.1516596 , -1.4293859 ,  0.49260327],\n",
       "        [ 0.12035396, -0.3068101 ,  0.06941528],\n",
       "        ...,\n",
       "        [ 0.41524646, -1.1621631 ,  1.8871795 ],\n",
       "        [ 0.25545338,  1.417388  ,  0.9100766 ],\n",
       "        [ 1.6338152 ,  1.7909476 ,  0.6129344 ]],\n",
       "\n",
       "       [[ 0.431098  , -1.2102566 , -1.1603881 ],\n",
       "        [-0.6336722 ,  0.44843104,  0.9242732 ],\n",
       "        [-0.37128797, -1.4387553 , -0.02664709],\n",
       "        ...,\n",
       "        [-0.22563116,  0.60012573, -0.9043737 ],\n",
       "        [-0.7461722 , -0.50886774, -1.0443767 ],\n",
       "        [ 1.1719503 , -0.8389815 ,  0.62904006]]], dtype=float32)>"
      ]
     },
     "execution_count": 35,
     "metadata": {},
     "output_type": "execute_result"
    }
   ],
   "source": [
    " x[0,::] "
   ]
  },
  {
   "cell_type": "markdown",
   "metadata": {},
   "source": [
    "为了更加简洁，::可以简写为单个冒号:，如 "
   ]
  },
  {
   "cell_type": "code",
   "execution_count": 36,
   "metadata": {},
   "outputs": [
    {
     "data": {
      "text/plain": [
       "<tf.Tensor: shape=(4, 14, 14, 3), dtype=float32, numpy=\n",
       "array([[[[-0.02352103, -1.6766763 ,  0.15399364],\n",
       "         [ 0.99720716, -1.1233007 , -0.9281549 ],\n",
       "         [-1.0102497 ,  1.4440823 ,  1.4555615 ],\n",
       "         ...,\n",
       "         [-1.932357  , -1.0097649 , -1.0961419 ],\n",
       "         [-2.1057744 ,  0.80078566,  0.24978483],\n",
       "         [-0.04533484,  0.4104033 ,  0.1662506 ]],\n",
       "\n",
       "        [[-0.46061954,  1.5148922 ,  0.49402007],\n",
       "         [-0.17385864,  1.4156125 ,  2.5004747 ],\n",
       "         [-1.1613908 ,  0.15375897,  1.423457  ],\n",
       "         ...,\n",
       "         [ 0.14448377,  0.09948171, -0.7481188 ],\n",
       "         [-0.68858033, -0.3740923 ,  2.3597865 ],\n",
       "         [-2.0544753 ,  0.19580062,  1.6628443 ]],\n",
       "\n",
       "        [[-0.6072291 , -1.3418989 ,  0.68784994],\n",
       "         [-0.44291928,  1.4848614 , -0.8696927 ],\n",
       "         [-0.48917973, -0.6152197 ,  0.9147298 ],\n",
       "         ...,\n",
       "         [ 0.97611815, -1.4905344 ,  0.51323026],\n",
       "         [-1.5296322 ,  1.1004592 ,  2.340227  ],\n",
       "         [ 0.08896961,  1.1769412 , -0.40175843]],\n",
       "\n",
       "        ...,\n",
       "\n",
       "        [[-1.2484359 , -0.22350608,  0.65964746],\n",
       "         [-1.3273623 ,  0.24879803, -0.37434515],\n",
       "         [-0.17807671, -0.81129533, -1.6795131 ],\n",
       "         ...,\n",
       "         [-0.04308149,  0.34476104,  0.541122  ],\n",
       "         [-0.23826325,  1.7468568 ,  1.0454705 ],\n",
       "         [ 0.8057584 , -0.5915591 ,  1.4991122 ]],\n",
       "\n",
       "        [[-0.11546483,  0.6652751 ,  0.73727465],\n",
       "         [-1.4946883 , -0.82193685, -0.8799594 ],\n",
       "         [-0.68848324,  0.86506975, -1.0928884 ],\n",
       "         ...,\n",
       "         [-0.9541757 ,  0.32648775,  1.29312   ],\n",
       "         [-0.01384789,  1.1055706 ,  0.05719085],\n",
       "         [-0.25185668,  0.84757257,  0.43957758]],\n",
       "\n",
       "        [[ 0.80230665, -0.82799876, -0.5833953 ],\n",
       "         [-1.1739373 , -1.2052644 ,  0.28532422],\n",
       "         [-0.5539387 , -0.7332058 ,  0.65315014],\n",
       "         ...,\n",
       "         [ 0.08231244, -0.5462813 ,  0.38542145],\n",
       "         [-2.0462244 ,  0.02009359, -1.1852654 ],\n",
       "         [-0.6068592 , -1.5016279 , -0.5926005 ]]],\n",
       "\n",
       "\n",
       "       [[[-0.584478  , -0.89449745,  0.93301713],\n",
       "         [ 0.12116746,  0.70904547,  0.30983558],\n",
       "         [-0.10478393,  0.67954147, -1.3480694 ],\n",
       "         ...,\n",
       "         [ 0.158529  ,  0.49807355,  0.46749666],\n",
       "         [-0.11709257, -1.1147059 ,  0.907895  ],\n",
       "         [-0.7932572 , -0.06105427, -1.357385  ]],\n",
       "\n",
       "        [[ 0.16122961,  0.4826155 ,  1.7915379 ],\n",
       "         [-0.70899457,  0.18575613,  1.4680139 ],\n",
       "         [ 1.8475993 , -1.7704141 , -0.54483014],\n",
       "         ...,\n",
       "         [-1.0023634 ,  0.8850178 ,  2.0795515 ],\n",
       "         [-0.27701163,  2.4270473 , -0.02871919],\n",
       "         [-0.5050575 , -2.0534856 ,  1.1331835 ]],\n",
       "\n",
       "        [[-0.3039918 ,  0.02001635,  1.5168592 ],\n",
       "         [-0.7132135 , -0.53164315,  1.4054121 ],\n",
       "         [ 0.68420285, -1.0685619 ,  1.3927495 ],\n",
       "         ...,\n",
       "         [-1.4915369 , -0.5274206 , -0.27957273],\n",
       "         [ 1.2677948 ,  0.88195634,  1.1863267 ],\n",
       "         [-1.8780833 , -1.0668912 , -0.3181797 ]],\n",
       "\n",
       "        ...,\n",
       "\n",
       "        [[ 0.225737  ,  0.37111923, -1.8432913 ],\n",
       "         [ 0.8327035 , -0.41403687,  0.05533062],\n",
       "         [-0.54767907,  2.6102386 , -0.56487566],\n",
       "         ...,\n",
       "         [-0.79536   ,  0.45041013,  1.043044  ],\n",
       "         [-0.5958636 ,  0.6881772 ,  0.63246816],\n",
       "         [ 0.38667592, -1.7243378 , -0.4279643 ]],\n",
       "\n",
       "        [[-1.1171073 , -0.25653547,  0.21954432],\n",
       "         [ 0.18247537, -0.6757656 , -0.14206395],\n",
       "         [-0.0774001 , -0.21621713,  0.47777686],\n",
       "         ...,\n",
       "         [ 0.34502   , -0.17092343,  0.43541634],\n",
       "         [ 1.8124846 , -0.08958455, -2.7147038 ],\n",
       "         [-0.22831383, -1.3324666 ,  0.9661716 ]],\n",
       "\n",
       "        [[-1.3495189 ,  1.0922554 ,  0.03924491],\n",
       "         [-0.33792982, -0.7523316 , -0.7311692 ],\n",
       "         [ 1.2605467 ,  0.6369171 ,  0.44088688],\n",
       "         ...,\n",
       "         [ 1.4850646 ,  1.1275957 , -1.5652503 ],\n",
       "         [ 0.28735587,  0.53031564, -0.50232345],\n",
       "         [-1.1392115 ,  0.32267427,  0.96914685]]],\n",
       "\n",
       "\n",
       "       [[[-0.21806437, -0.07340018, -0.6606123 ],\n",
       "         [ 1.0391624 , -0.5125622 , -1.4622438 ],\n",
       "         [-0.37780526, -1.5983603 , -0.27323323],\n",
       "         ...,\n",
       "         [-1.5110255 ,  0.5152833 , -1.076977  ],\n",
       "         [ 0.17652284,  1.5919666 , -0.07049218],\n",
       "         [-1.9267149 ,  1.3063015 , -0.75224316]],\n",
       "\n",
       "        [[-0.97474366,  1.1904848 , -0.3817166 ],\n",
       "         [-0.50115216, -0.87675864,  0.7898441 ],\n",
       "         [ 0.7683551 , -0.7916005 , -0.9464243 ],\n",
       "         ...,\n",
       "         [-1.4343603 , -0.6803535 , -0.00506654],\n",
       "         [-0.02273315,  0.86519074,  1.4093242 ],\n",
       "         [ 0.46262434,  0.32628307, -0.65971684]],\n",
       "\n",
       "        [[-0.60784215, -1.4650239 , -0.85872275],\n",
       "         [-0.05888534,  0.76256925,  0.63406193],\n",
       "         [ 1.5330962 ,  0.29689974, -0.5708025 ],\n",
       "         ...,\n",
       "         [-1.6445932 ,  1.8387642 ,  0.2374777 ],\n",
       "         [-0.5103056 , -2.0433705 , -0.17446592],\n",
       "         [ 1.9668688 , -0.11065304,  0.54962254]],\n",
       "\n",
       "        ...,\n",
       "\n",
       "        [[ 1.0677797 ,  0.02499216,  0.6900869 ],\n",
       "         [-1.1468192 , -0.49167544,  0.2734429 ],\n",
       "         [ 0.08775375, -0.10957399, -1.2704931 ],\n",
       "         ...,\n",
       "         [ 1.4673274 ,  0.4395136 ,  1.7411356 ],\n",
       "         [ 2.4601712 , -1.4271066 ,  1.3131582 ],\n",
       "         [ 0.78367466,  1.7388583 , -0.20972204]],\n",
       "\n",
       "        [[ 1.1974132 ,  0.66375816,  0.18587384],\n",
       "         [-0.9517351 , -0.62963045, -0.32293913],\n",
       "         [ 1.9131262 ,  0.44570738, -0.95142025],\n",
       "         ...,\n",
       "         [ 0.5510964 ,  1.0617558 , -1.5351619 ],\n",
       "         [ 1.4403363 , -1.0945101 , -0.31932092],\n",
       "         [ 1.0856367 , -1.6749477 ,  1.5735946 ]],\n",
       "\n",
       "        [[-0.66430014, -0.37217137,  0.29031107],\n",
       "         [-0.6441896 ,  0.6756534 ,  2.3329597 ],\n",
       "         [-0.26650974, -0.10723022, -0.29361305],\n",
       "         ...,\n",
       "         [ 0.12704995, -1.7158751 , -1.2860206 ],\n",
       "         [-1.1973068 , -1.7071458 ,  0.82398295],\n",
       "         [ 0.90517586,  0.7834662 , -1.425366  ]]],\n",
       "\n",
       "\n",
       "       [[[ 0.86907923,  1.3632725 , -1.3888901 ],\n",
       "         [-0.41761473, -0.35095674, -1.2482147 ],\n",
       "         [ 0.78478736,  1.2686387 ,  0.57128453],\n",
       "         ...,\n",
       "         [-0.8067548 , -0.51339304,  0.58905953],\n",
       "         [ 1.1821525 , -0.05602622,  2.2958336 ],\n",
       "         [-0.30475745,  1.6951846 , -1.0670952 ]],\n",
       "\n",
       "        [[ 1.1325018 ,  1.1090012 , -0.9991488 ],\n",
       "         [-1.5058858 , -0.23150945,  0.03497696],\n",
       "         [-1.1884649 , -1.1436095 ,  0.7135479 ],\n",
       "         ...,\n",
       "         [-0.83702135, -0.4639643 ,  1.0092312 ],\n",
       "         [-2.1984835 , -0.6466967 ,  0.19913611],\n",
       "         [-0.08043468,  1.2757285 , -0.7764943 ]],\n",
       "\n",
       "        [[ 1.0996414 , -0.503603  , -1.1472229 ],\n",
       "         [-0.8888028 , -0.9011277 ,  0.2294549 ],\n",
       "         [ 0.6247949 , -0.47683212,  0.7137634 ],\n",
       "         ...,\n",
       "         [ 1.3692303 ,  1.3808231 , -1.5311447 ],\n",
       "         [-0.20034869,  0.65859264,  0.2621808 ],\n",
       "         [-1.4873573 ,  0.5489579 , -0.1603486 ]],\n",
       "\n",
       "        ...,\n",
       "\n",
       "        [[-0.72973007, -0.2510876 , -0.84742117],\n",
       "         [ 0.8739907 ,  0.92268044,  0.7107651 ],\n",
       "         [ 0.05574784, -1.8976543 , -0.4378347 ],\n",
       "         ...,\n",
       "         [ 0.8238243 ,  0.18798183,  0.46373534],\n",
       "         [-0.12153404, -1.0102078 , -0.3223203 ],\n",
       "         [-0.23676394,  1.0820137 ,  0.04259543]],\n",
       "\n",
       "        [[ 0.95814264, -0.55211294,  0.00502127],\n",
       "         [-0.9832861 , -0.35576168, -2.516095  ],\n",
       "         [-0.58560294,  0.93666255, -1.360821  ],\n",
       "         ...,\n",
       "         [-1.2900358 , -1.4449414 , -0.9835632 ],\n",
       "         [ 3.2877474 ,  2.4528913 , -0.06788687],\n",
       "         [ 0.9042549 , -0.7495387 , -0.4857551 ]],\n",
       "\n",
       "        [[-0.9288433 ,  1.3033332 , -0.5740806 ],\n",
       "         [ 1.317758  ,  0.4477527 ,  0.8383535 ],\n",
       "         [-1.0906657 , -1.3912336 , -0.43247345],\n",
       "         ...,\n",
       "         [-0.28070477, -1.8946264 , -1.1194389 ],\n",
       "         [-0.29305884, -0.8725328 ,  0.8588575 ],\n",
       "         [-0.17295596, -0.5017074 ,  1.05378   ]]]], dtype=float32)>"
      ]
     },
     "execution_count": 36,
     "metadata": {},
     "output_type": "execute_result"
    }
   ],
   "source": [
    " x[:,0:28:2,0:28:2,:] "
   ]
  },
  {
   "cell_type": "markdown",
   "metadata": {},
   "source": [
    "表示取所有图片，隔行采样，隔列采样，所有通道信息，相当于在图片的高宽各缩放至原 来的 50%。 "
   ]
  },
  {
   "attachments": {
    "image.png": {
     "image/png": "[encoded data removed]"
    }
   },
   "cell_type": "markdown",
   "metadata": {},
   "source": [
    "　　我们来总结start:end:step切片的简写方式，其中从第一个元素读取时 start 可以省略， 即 start=0 是可以省略，取到最后一个元素时 end 可以省略，步长为 1 时 step 可以省略，简 写方式总结如表格 4.1：![image.png](attachment:image.png) "
   ]
  },
  {
   "cell_type": "markdown",
   "metadata": {},
   "source": [
    "　　特别地，step 可以为负数，考虑最特殊的一种例子，step = −1时，start:end:−1表示 从 start 开始，逆序读取至 end 结束(不包含 end)，索引号𝑒𝑛𝑑 ≤ 𝑠𝑡𝑎𝑟𝑡。考虑一 0~9 简单序 列，逆序取到第 1 号元素，不包含第 1 号："
   ]
  },
  {
   "cell_type": "code",
   "execution_count": 40,
   "metadata": {},
   "outputs": [
    {
     "data": {
      "text/plain": [
       "<tf.Tensor: shape=(8,), dtype=int32, numpy=array([8, 7, 6, 5, 4, 3, 2, 1])>"
      ]
     },
     "execution_count": 40,
     "metadata": {},
     "output_type": "execute_result"
    }
   ],
   "source": [
    "x = tf.range(9) \n",
    "x[8:0:-1]"
   ]
  },
  {
   "cell_type": "code",
   "execution_count": 44,
   "metadata": {},
   "outputs": [
    {
     "data": {
      "text/plain": [
       "array([8, 7, 6, 5, 4, 3, 2, 1])"
      ]
     },
     "execution_count": 44,
     "metadata": {},
     "output_type": "execute_result"
    }
   ],
   "source": [
    "L = x.numpy()\n",
    "L[8:0:-1]"
   ]
  },
  {
   "cell_type": "markdown",
   "metadata": {},
   "source": [
    "逆序取全部元素:"
   ]
  },
  {
   "cell_type": "code",
   "execution_count": 46,
   "metadata": {},
   "outputs": [
    {
     "data": {
      "text/plain": [
       "<tf.Tensor: shape=(9,), dtype=int32, numpy=array([8, 7, 6, 5, 4, 3, 2, 1, 0])>"
      ]
     },
     "execution_count": 46,
     "metadata": {},
     "output_type": "execute_result"
    }
   ],
   "source": [
    "x[::-1]"
   ]
  },
  {
   "cell_type": "markdown",
   "metadata": {},
   "source": [
    "逆序间隔采样： "
   ]
  },
  {
   "cell_type": "code",
   "execution_count": 47,
   "metadata": {},
   "outputs": [
    {
     "data": {
      "text/plain": [
       "<tf.Tensor: shape=(5,), dtype=int32, numpy=array([8, 6, 4, 2, 0])>"
      ]
     },
     "execution_count": 47,
     "metadata": {},
     "output_type": "execute_result"
    }
   ],
   "source": [
    "x[::-2]"
   ]
  },
  {
   "cell_type": "markdown",
   "metadata": {},
   "source": [
    "读取每张图片的所有通道，其中行按着逆序隔行采样，列按着逆序隔行采样： "
   ]
  },
  {
   "cell_type": "code",
   "execution_count": 51,
   "metadata": {},
   "outputs": [
    {
     "data": {
      "text/plain": [
       "<tf.Tensor: shape=(16, 16, 3), dtype=float32, numpy=\n",
       "array([[[ 2.47676566e-01, -1.39201045e+00, -2.40358800e-01],\n",
       "        [ 1.63894427e+00,  5.79389744e-02,  1.22464404e-01],\n",
       "        [ 1.06021667e+00, -4.25615817e-01, -1.43677127e+00],\n",
       "        [-3.93049389e-01,  1.46965265e+00, -1.35276866e+00],\n",
       "        [-1.44639358e-01, -5.75596467e-02,  1.50882721e+00],\n",
       "        [ 4.90204394e-02, -8.08022141e-01,  1.17662942e+00],\n",
       "        [-3.50597829e-01, -4.23728734e-01, -1.37729585e+00],\n",
       "        [-3.47079188e-02, -2.27791309e+00,  1.61158368e-01],\n",
       "        [ 5.42540789e-01, -3.88450474e-01, -3.02355915e-01],\n",
       "        [-1.34288990e+00,  5.05698740e-01,  4.25291926e-01],\n",
       "        [-5.72163798e-02,  7.42940456e-02,  2.34527320e-01],\n",
       "        [ 6.46163940e-01, -6.87421620e-01,  2.53567576e-01],\n",
       "        [ 8.83187354e-01,  1.08377635e+00,  2.45903075e-01],\n",
       "        [-1.49528205e+00, -3.30105513e-01,  1.01721299e+00],\n",
       "        [ 1.27162635e+00,  3.07409883e-01,  1.20301294e+00],\n",
       "        [-2.07892823e+00, -1.40491045e+00, -3.92862201e-01]],\n",
       "\n",
       "       [[ 1.30893028e+00,  1.99097669e+00,  1.50181377e+00],\n",
       "        [ 2.20150694e-01,  2.68776441e+00, -9.40069914e-01],\n",
       "        [ 1.51472464e-01, -5.51148891e-01,  8.13936174e-01],\n",
       "        [ 3.43915910e-01, -1.27204430e+00, -1.66812167e-01],\n",
       "        [ 2.01485813e-01,  2.40369225e+00, -8.92506316e-02],\n",
       "        [-5.79489052e-01,  9.34167027e-01,  5.74197769e-01],\n",
       "        [-3.53719383e-01,  5.51729977e-01,  6.31553590e-01],\n",
       "        [-4.51160401e-01, -4.09610659e-01,  6.55231059e-01],\n",
       "        [-9.75846112e-01,  1.28800580e-02,  1.79988399e-01],\n",
       "        [-1.24223495e+00,  3.78210068e-01,  1.33219406e-01],\n",
       "        [ 1.11485195e+00,  1.04217100e+00,  4.64202225e-01],\n",
       "        [-5.75144231e-01,  8.09614956e-02, -1.05960202e+00],\n",
       "        [ 1.29579321e-01, -1.09171411e-02, -6.44127011e-01],\n",
       "        [-3.27908456e-01,  1.66992688e+00,  2.23332822e-01],\n",
       "        [-3.99475485e-01, -4.61721569e-01, -1.11652970e+00],\n",
       "        [-1.81520239e-01, -3.22495341e-01,  8.44109714e-01]],\n",
       "\n",
       "       [[-2.95088738e-01, -1.37193227e+00, -1.56474996e+00],\n",
       "        [-5.98644376e-01, -6.17485881e-01, -3.97109389e-01],\n",
       "        [-6.70053184e-01, -8.55063498e-01, -4.22269970e-01],\n",
       "        [ 1.48890352e+00, -3.31462443e-01,  5.33595860e-01],\n",
       "        [ 1.27376568e+00,  1.43488967e+00,  9.07280803e-01],\n",
       "        [-2.43535325e-01, -2.53724247e-01, -8.80811885e-02],\n",
       "        [ 5.21279514e-01, -7.98087418e-01, -2.03328788e-01],\n",
       "        [-2.15706444e+00,  1.11758816e+00,  6.19749725e-01],\n",
       "        [ 4.93773252e-01, -9.10135746e-01, -1.33529830e+00],\n",
       "        [-1.62182271e+00, -3.16072702e-01,  6.80888295e-01],\n",
       "        [ 6.17653966e-01, -7.53440142e-01,  1.53362334e+00],\n",
       "        [-1.05341756e+00, -4.80369091e-01, -7.00496316e-01],\n",
       "        [ 1.58398223e+00,  9.18882787e-01,  1.91005260e-01],\n",
       "        [-3.46584320e-01,  1.04651666e+00,  1.38309407e+00],\n",
       "        [-1.41095310e-01, -1.02767563e+00,  8.78707886e-01],\n",
       "        [-1.04349232e+00,  1.74117759e-01, -6.61899030e-01]],\n",
       "\n",
       "       [[ 2.30433106e-01,  5.63329577e-01, -1.21518123e+00],\n",
       "        [-2.16533914e-01, -8.86726618e-01,  3.99737537e-01],\n",
       "        [-7.02639163e-01, -2.18605900e+00,  4.23668593e-01],\n",
       "        [-6.59356475e-01, -1.02702224e+00, -3.92553657e-01],\n",
       "        [ 1.11564326e+00,  5.75615227e-01,  1.18401897e+00],\n",
       "        [ 4.03313071e-01, -1.99861348e+00,  2.64328152e-01],\n",
       "        [-5.69963276e-01,  4.11562502e-01, -3.17433894e-01],\n",
       "        [-1.18397623e-01,  1.59675252e+00,  1.09439456e+00],\n",
       "        [ 6.51890934e-01, -9.00814056e-01, -3.68864685e-01],\n",
       "        [-1.35580742e+00,  1.39149517e-01,  7.31680810e-01],\n",
       "        [-5.63466966e-01,  1.81529069e+00,  5.16953886e-01],\n",
       "        [ 1.20581615e+00,  1.09287059e+00, -1.48847267e-01],\n",
       "        [-6.74679518e-01,  2.01907203e-01, -1.03684688e+00],\n",
       "        [ 9.35337424e-01, -1.00697923e+00, -7.02769160e-02],\n",
       "        [ 8.81373644e-01,  8.55939806e-01, -1.10756087e+00],\n",
       "        [-4.44692910e-01, -7.20848620e-01, -2.10829332e-01]],\n",
       "\n",
       "       [[-1.51074648e+00, -8.93558264e-01, -1.66620541e+00],\n",
       "        [ 1.76768637e+00, -4.09336723e-02,  8.34694564e-01],\n",
       "        [ 3.86473536e-01, -1.69051550e-02, -1.68162501e+00],\n",
       "        [ 1.36361793e-01,  1.16013432e+00, -1.89167905e+00],\n",
       "        [-1.63398564e+00, -8.46715197e-02,  7.89543509e-01],\n",
       "        [-1.47132325e+00,  1.60713983e+00, -1.84581637e+00],\n",
       "        [-9.19642448e-01, -1.84658229e-01, -1.47199690e+00],\n",
       "        [-1.62689865e+00,  9.74862158e-01, -2.81218797e-01],\n",
       "        [ 1.55574524e+00,  8.22328806e-01, -1.36843309e-01],\n",
       "        [ 2.81329465e+00,  5.75648248e-01,  7.29319155e-02],\n",
       "        [ 8.16340089e-01,  2.48123974e-01,  8.92330706e-02],\n",
       "        [ 9.22213435e-01,  7.77658641e-01,  5.98945081e-01],\n",
       "        [-2.11268950e+00,  6.70239985e-01, -1.18609345e+00],\n",
       "        [ 4.07640040e-01,  2.02410728e-01, -7.78660834e-01],\n",
       "        [-9.17864978e-01, -1.32197523e+00,  1.38797194e-01],\n",
       "        [-6.04523242e-01,  1.57670832e+00,  4.51189965e-01]],\n",
       "\n",
       "       [[-2.56418139e-01, -7.56521702e-01, -5.55222332e-01],\n",
       "        [ 1.29651856e+00,  1.33541930e+00, -7.77040958e-01],\n",
       "        [-2.78994441e-01, -9.98319328e-01,  1.76672205e-01],\n",
       "        [ 1.79803011e-03,  2.21952939e+00, -3.32179517e-01],\n",
       "        [-8.35128844e-01,  6.32560372e-01,  4.28956807e-01],\n",
       "        [ 6.74162209e-01,  2.78686225e-01, -5.86153328e-01],\n",
       "        [ 1.52208161e+00, -1.19033024e-01,  1.07808995e+00],\n",
       "        [ 1.59490573e+00, -4.42418456e-01, -7.16179833e-02],\n",
       "        [ 1.84253621e+00,  1.59260869e-01,  9.74368095e-01],\n",
       "        [ 7.21705496e-01, -7.94491649e-01, -2.72960424e-01],\n",
       "        [ 1.41342789e-01,  7.88148880e-01,  1.04469299e+00],\n",
       "        [-5.45012914e-02, -8.71723533e-01,  1.04932392e+00],\n",
       "        [-1.82646468e-01,  4.17746753e-02,  1.37871385e-01],\n",
       "        [ 4.94931310e-01,  3.96549225e-01, -1.10007322e+00],\n",
       "        [ 4.83551472e-02, -4.96019900e-01,  1.20232749e+00],\n",
       "        [ 9.58285213e-01,  3.75968874e-01,  9.14564908e-01]],\n",
       "\n",
       "       [[ 5.26938736e-01,  2.75186628e-01, -1.58191645e+00],\n",
       "        [ 4.85617101e-01, -7.70326674e-01, -2.99045928e-02],\n",
       "        [ 1.07280588e+00, -1.72293031e+00,  1.17542040e+00],\n",
       "        [ 8.58209491e-01,  6.36440575e-01, -6.65388942e-01],\n",
       "        [-8.16420674e-01,  1.41726196e-01,  1.52721748e-01],\n",
       "        [ 1.75166094e+00, -1.39952809e-01,  8.75107825e-01],\n",
       "        [-1.18171620e+00,  2.46107444e-01, -6.33070290e-01],\n",
       "        [-5.56823611e-01,  5.42168915e-01, -1.94343463e-01],\n",
       "        [ 5.99750578e-01,  2.02689362e+00,  6.30320385e-02],\n",
       "        [-1.42799163e+00, -2.98969448e-01,  3.12293577e+00],\n",
       "        [ 1.02298403e+00, -1.28254569e+00,  5.72158694e-01],\n",
       "        [-1.19770575e+00,  6.31180465e-01,  3.42672348e-01],\n",
       "        [ 5.55234134e-01, -5.89716136e-01,  2.22005296e+00],\n",
       "        [-8.83072019e-01,  4.92546022e-01, -6.47312045e-01],\n",
       "        [-2.08764166e-01, -4.63125765e-01,  4.46636081e-01],\n",
       "        [ 2.46967077e+00, -1.73180068e+00,  1.95492640e-01]],\n",
       "\n",
       "       [[ 1.11243320e+00, -5.89926183e-01, -8.77413332e-01],\n",
       "        [ 4.38120514e-02, -2.11195159e+00, -5.11706650e-01],\n",
       "        [-2.34965873e+00, -9.05025959e-01, -5.09845674e-01],\n",
       "        [-1.07046127e+00,  1.01847455e-01,  9.67369795e-01],\n",
       "        [-1.97845435e+00, -2.10682556e-01,  5.12067825e-02],\n",
       "        [-1.76269734e+00,  8.01928878e-01, -8.65489960e-01],\n",
       "        [-2.15518284e+00, -7.04147756e-01, -6.03336617e-02],\n",
       "        [-1.81369650e+00,  2.77078360e-01, -1.78464484e+00],\n",
       "        [-3.12594891e-01, -3.92321855e-01, -1.21107168e-01],\n",
       "        [-5.97258359e-02, -5.18380165e-01, -5.22309169e-02],\n",
       "        [-1.91246405e-01, -2.40790606e-01,  1.84973586e+00],\n",
       "        [-1.34442353e+00,  1.72783345e-01,  2.00319910e+00],\n",
       "        [ 7.42333829e-02, -3.60536911e-02,  2.61273265e-01],\n",
       "        [-5.84365785e-01, -1.55683017e+00, -7.80705154e-01],\n",
       "        [-1.19766071e-01,  1.63632894e+00, -2.46570781e-01],\n",
       "        [-1.87325533e-02,  3.01493347e-01,  3.67021888e-01]],\n",
       "\n",
       "       [[ 3.82658839e-01,  5.57648361e-01, -5.06538749e-01],\n",
       "        [ 4.16164845e-01, -5.19521117e-01, -4.71339524e-01],\n",
       "        [ 3.16689521e-01,  5.30626774e-01, -1.70909238e+00],\n",
       "        [-4.24883515e-01,  8.82794142e-01, -5.32260001e-01],\n",
       "        [-1.10113585e+00, -2.91271478e-01,  4.45367903e-01],\n",
       "        [ 1.82847846e+00, -1.00633872e+00, -1.56716079e-01],\n",
       "        [-8.55382204e-01, -5.52911401e-01,  1.46390688e+00],\n",
       "        [-9.99133438e-02, -8.61844599e-01,  1.42641294e+00],\n",
       "        [ 3.91816318e-01, -1.48524868e+00, -1.16256177e+00],\n",
       "        [-5.27198911e-01, -1.19344890e+00, -4.85610098e-01],\n",
       "        [ 2.21988618e-01,  8.90330613e-01, -9.74698722e-01],\n",
       "        [-1.32397604e+00,  2.49364451e-01, -6.88089728e-01],\n",
       "        [ 1.24966884e+00,  3.99553150e-01,  1.84879506e+00],\n",
       "        [ 5.00864148e-01, -8.17962527e-01,  8.19187939e-01],\n",
       "        [ 7.90498137e-01,  1.19018531e+00,  2.17765868e-01],\n",
       "        [-1.27623886e-01,  1.92527063e-02,  3.02881747e-01]],\n",
       "\n",
       "       [[-1.29211557e+00,  1.78446751e-02,  7.35966384e-01],\n",
       "        [-5.18411636e-01,  3.77636477e-02,  1.17365873e+00],\n",
       "        [ 3.04538310e-01,  7.19409809e-02,  4.81991529e-01],\n",
       "        [ 8.16683054e-01,  1.25484228e+00,  8.84219587e-01],\n",
       "        [-5.62173605e-01, -2.38862336e-01,  4.55748230e-01],\n",
       "        [ 2.08803684e-01, -2.41172612e-01, -8.19634721e-02],\n",
       "        [ 1.01708782e+00,  1.61221400e-01, -8.50986362e-01],\n",
       "        [ 2.31566250e-01,  4.28320289e-01,  1.18893862e-01],\n",
       "        [ 6.04371190e-01,  1.05373108e+00, -1.41122067e+00],\n",
       "        [ 8.17068040e-01,  1.01008356e+00,  1.02797353e+00],\n",
       "        [-5.35242915e-01,  1.13658810e+00,  1.54023007e-01],\n",
       "        [ 2.03757763e+00,  6.59357965e-01,  4.58718687e-01],\n",
       "        [ 9.75718558e-01,  1.36520123e+00, -1.86702168e+00],\n",
       "        [-9.59754765e-01,  1.96348652e-01, -3.10096145e-01],\n",
       "        [ 9.27355707e-01, -6.77974582e-01, -1.13079190e-01],\n",
       "        [ 1.07455027e+00,  1.42446363e+00,  1.66650629e+00]],\n",
       "\n",
       "       [[-2.25292349e+00, -4.20967549e-01, -2.49156356e-01],\n",
       "        [ 1.01448464e+00,  1.14962256e+00, -1.22920322e+00],\n",
       "        [ 3.62245768e-01, -9.55507696e-01,  1.13820457e+00],\n",
       "        [ 7.54343450e-01,  1.47032833e+00, -5.52543342e-01],\n",
       "        [ 5.36738932e-02,  7.52333701e-01, -7.96237350e-01],\n",
       "        [-4.47490960e-01, -1.71434090e-01, -1.24664712e+00],\n",
       "        [-3.91961992e-01, -1.18528986e+00,  1.23677838e+00],\n",
       "        [ 1.28061488e-01,  1.25325516e-01,  9.17397439e-03],\n",
       "        [ 1.60294294e-01,  9.25851047e-01,  8.64235699e-01],\n",
       "        [-4.82824296e-01,  1.38000846e-01,  9.52367723e-01],\n",
       "        [-7.54817307e-01, -8.05465043e-01,  3.32856059e-01],\n",
       "        [ 1.12474895e+00, -7.80857682e-01,  9.52209353e-01],\n",
       "        [ 4.38454926e-01,  1.45990527e+00,  2.70067662e-01],\n",
       "        [ 5.14804244e-01, -8.76515687e-01,  2.13304996e+00],\n",
       "        [ 1.11428607e+00,  3.21917802e-01,  8.94529939e-01],\n",
       "        [-1.00954914e+00,  6.25234485e-01, -1.17480421e+00]],\n",
       "\n",
       "       [[-1.57357800e+00, -1.85494256e+00,  3.34537178e-01],\n",
       "        [ 1.57782957e-01, -1.14964582e-02, -1.55492389e+00],\n",
       "        [-9.81501698e-01, -4.08433974e-01,  5.27152717e-01],\n",
       "        [ 2.15796995e+00, -4.91710097e-01,  1.72197431e-01],\n",
       "        [ 4.86110359e-01, -4.39214349e-01,  5.39054036e-01],\n",
       "        [ 5.35674810e-01,  1.97565228e-01, -2.92201608e-01],\n",
       "        [ 4.68669176e-01,  2.71787834e+00, -1.03485751e+00],\n",
       "        [ 9.69720721e-01,  1.04544917e-02,  1.30041647e+00],\n",
       "        [-5.66483438e-01,  4.22647268e-01,  1.04298162e+00],\n",
       "        [-1.04482484e+00,  4.70519289e-02,  1.38088119e+00],\n",
       "        [ 1.05340743e+00,  1.30078197e-01, -3.53417218e-01],\n",
       "        [ 4.10550892e-01, -1.38704073e+00,  1.56314194e-01],\n",
       "        [ 8.93770397e-01,  1.08341098e+00,  4.73584920e-01],\n",
       "        [ 7.72702932e-01,  2.30900273e-01, -2.34007895e-01],\n",
       "        [-8.88585865e-01, -6.39696419e-01,  4.74441081e-01],\n",
       "        [ 1.30461365e-01, -5.46770215e-01,  1.12868592e-01]],\n",
       "\n",
       "       [[ 1.10853112e+00,  4.28085148e-01,  1.79228917e-01],\n",
       "        [ 3.35662141e-02,  2.23522738e-01, -1.09574342e+00],\n",
       "        [-3.28492522e-01, -3.04892689e-01,  8.19231868e-01],\n",
       "        [ 6.22883797e-01,  1.55505872e+00, -1.25977719e+00],\n",
       "        [ 1.32797384e+00, -7.17844367e-01,  1.58534184e-01],\n",
       "        [-5.06123781e-01,  4.29310471e-01, -7.57353544e-01],\n",
       "        [ 1.20337355e+00,  7.64949679e-01,  1.18026876e+00],\n",
       "        [-1.18550646e+00,  1.24629223e+00, -4.20044839e-01],\n",
       "        [-1.16157341e+00,  9.58161652e-02, -9.04661834e-01],\n",
       "        [-1.31801522e+00,  7.24065781e-01,  7.26045575e-03],\n",
       "        [-6.08804584e-01,  1.04140019e+00,  2.44275546e+00],\n",
       "        [-1.64257383e+00,  9.21230972e-01,  1.46738183e+00],\n",
       "        [ 1.03629303e+00,  1.88534188e+00, -2.82063186e-01],\n",
       "        [-2.99781871e+00, -1.78582740e+00, -1.49887562e+00],\n",
       "        [-2.59625260e-02,  1.17491126e+00, -6.48472250e-01],\n",
       "        [-1.46217799e+00,  2.22262383e-01,  2.10329704e-02]],\n",
       "\n",
       "       [[-2.97793478e-01,  3.51646930e-01,  3.84667516e-01],\n",
       "        [ 3.75072025e-02,  5.26351273e-01,  1.01290083e+00],\n",
       "        [ 2.41179049e-01,  3.55299622e-01,  1.00766554e-01],\n",
       "        [-6.79249883e-01,  3.57736617e-01, -4.84403163e-01],\n",
       "        [ 3.51153791e-01, -1.53799915e+00,  4.50568140e-01],\n",
       "        [ 4.52648252e-01,  9.70501721e-01,  5.98189116e-01],\n",
       "        [ 1.10309362e+00,  4.57118750e-01, -1.07752776e+00],\n",
       "        [ 1.61536133e+00, -5.91907322e-01, -9.34610888e-02],\n",
       "        [-1.33401406e+00,  7.74236798e-01,  1.00359845e+00],\n",
       "        [-6.33600295e-01,  1.57438561e-01,  1.47966534e-01],\n",
       "        [-7.92310178e-01,  1.29191411e+00,  2.18934685e-01],\n",
       "        [ 7.93928027e-01, -1.95444155e+00,  2.78074682e-01],\n",
       "        [-1.69579899e+00,  1.46714175e+00,  9.50565189e-02],\n",
       "        [ 1.06954128e-02,  4.17721838e-01, -6.34185553e-01],\n",
       "        [-7.01389432e-01,  8.17915857e-01, -6.50590599e-01],\n",
       "        [ 1.35791838e+00,  1.41206582e-03, -3.93904775e-01]],\n",
       "\n",
       "       [[-1.26821649e+00,  5.50804317e-01, -2.03902483e+00],\n",
       "        [-4.88621593e-01,  1.22664440e+00, -3.64661366e-01],\n",
       "        [ 7.95703471e-01,  1.88413396e-01,  1.47432172e+00],\n",
       "        [-1.08974719e+00, -1.01093364e+00, -5.63941717e-01],\n",
       "        [ 6.37147605e-01,  1.23014832e+00,  2.65682429e-01],\n",
       "        [-6.91586912e-01, -9.19822693e-01, -1.57290590e+00],\n",
       "        [ 5.73795140e-01, -1.94783106e-01,  9.59794581e-01],\n",
       "        [-1.03353071e+00, -6.56254172e-01, -8.10540259e-01],\n",
       "        [ 3.44282597e-01,  1.28391111e+00, -1.29303920e+00],\n",
       "        [ 1.43266869e+00,  4.22452778e-01, -1.19653970e-01],\n",
       "        [-1.03110127e-01, -3.55106711e-01,  1.66623935e-01],\n",
       "        [ 1.09833002e+00, -6.82329416e-01, -2.11593166e-01],\n",
       "        [-2.35603247e-02,  2.58284926e-01,  1.25586286e-01],\n",
       "        [-1.23089337e+00, -4.52916808e-02,  1.07579184e+00],\n",
       "        [ 3.96889865e-01, -1.81773281e+00, -1.22128464e-02],\n",
       "        [ 4.34022576e-01, -3.40124965e-01, -2.64396161e-01]],\n",
       "\n",
       "       [[-8.91379535e-01,  7.93297708e-01,  5.48073292e-01],\n",
       "        [-1.34711063e+00, -3.12812567e-01,  1.16980267e+00],\n",
       "        [ 7.48842061e-01,  6.35691643e-01, -1.19364655e+00],\n",
       "        [-1.26524687e+00, -1.97305644e+00, -1.24772763e+00],\n",
       "        [-1.07230043e+00,  3.61490160e-01, -3.53338033e-01],\n",
       "        [ 1.55575022e-01, -1.49953341e+00,  4.09493804e-01],\n",
       "        [ 1.38268560e-01,  9.05241907e-01,  8.41350019e-01],\n",
       "        [ 1.95826143e-01,  1.62151134e+00, -1.02904975e+00],\n",
       "        [-1.81863713e+00, -6.20880783e-01,  1.45466840e+00],\n",
       "        [ 1.69141650e-01, -2.95219839e-01, -9.54260647e-01],\n",
       "        [-3.02213597e+00, -1.47341955e+00, -1.70767695e-01],\n",
       "        [-7.35074520e-01,  8.55660200e-01,  2.58957338e+00],\n",
       "        [-7.69198477e-01, -1.55079925e+00,  9.10289824e-01],\n",
       "        [-9.35657263e-01, -2.17017889e+00,  1.48677659e+00],\n",
       "        [ 9.07241046e-01,  1.25123799e+00, -3.27557236e-01],\n",
       "        [-4.27434593e-01,  2.15700585e-02, -3.21581841e-01]]],\n",
       "      dtype=float32)>"
      ]
     },
     "execution_count": 51,
     "metadata": {},
     "output_type": "execute_result"
    }
   ],
   "source": [
    "x = tf.random.normal([4,32,32,3])\n",
    "x[0,::-2,::-2] "
   ]
  },
  {
   "cell_type": "markdown",
   "metadata": {},
   "source": [
    "　　当张量的维度数量较多时，不需要采样的维度一般用单冒号:表示采样所有元素，此时 有可能出现大量的:出现。继续考虑[4,32,32,3]的图片张量，当需要读取 G 通道上的数据 时，前面所有维度全部提取，此时需要写为： "
   ]
  },
  {
   "cell_type": "code",
   "execution_count": 52,
   "metadata": {},
   "outputs": [
    {
     "data": {
      "text/plain": [
       "<tf.Tensor: shape=(4, 32, 32), dtype=float32, numpy=\n",
       "array([[[ 1.3592089e+00, -1.3287078e+00,  7.9083043e-01, ...,\n",
       "         -1.4053403e+00, -3.9621952e-01, -4.4586286e-01],\n",
       "        [-9.5257781e-02,  2.1570059e-02,  4.8460889e-01, ...,\n",
       "         -3.1281257e-01, -6.4088672e-01,  7.9329771e-01],\n",
       "        [-1.1035584e+00,  5.0719136e-01,  7.6725805e-01, ...,\n",
       "          1.9667883e-01, -9.3762177e-01,  7.2573191e-01],\n",
       "        ...,\n",
       "        [ 8.7530702e-01, -3.2249534e-01, -6.9887275e-01, ...,\n",
       "          2.6877644e+00,  4.3567833e-01,  1.9909767e+00],\n",
       "        [-8.4570903e-01, -3.7305400e-02,  3.0795744e-01, ...,\n",
       "          4.5651433e-01,  9.0657830e-01, -2.7634391e-01],\n",
       "        [ 8.0188163e-02, -1.4049104e+00,  1.7185987e+00, ...,\n",
       "          5.7938974e-02, -1.4840281e-01, -1.3920105e+00]],\n",
       "\n",
       "       [[-8.8980770e-01, -2.1233462e-02,  6.8274122e-01, ...,\n",
       "         -1.0273619e+00,  2.7189386e-01,  2.0571828e+00],\n",
       "        [ 4.4313497e-03, -7.7410430e-01, -3.8262678e-03, ...,\n",
       "          9.3897617e-01, -1.4530225e-01, -1.8713033e-02],\n",
       "        [-7.0863092e-01, -1.3176063e+00, -2.0761549e-01, ...,\n",
       "          1.0497313e-02,  4.8953041e-01,  2.3753972e-01],\n",
       "        ...,\n",
       "        [ 3.8828507e-01, -5.4148966e-01, -4.4795085e-02, ...,\n",
       "          3.0147237e-01,  1.4899551e+00, -1.7411761e+00],\n",
       "        [-1.3140775e+00, -7.9163924e-02, -5.1633960e-01, ...,\n",
       "         -1.1559170e+00, -2.4113703e-01,  1.1469586e+00],\n",
       "        [ 1.6368932e+00, -1.0660200e+00,  9.8457289e-01, ...,\n",
       "         -1.4357302e-01, -1.2838380e+00, -1.7789365e-01]],\n",
       "\n",
       "       [[ 1.4392542e+00,  6.6712812e-02, -1.0184724e+00, ...,\n",
       "         -6.1993152e-01,  4.9547780e-01, -1.0134277e+00],\n",
       "        [-5.7437569e-01,  1.4551288e+00,  3.5014039e-01, ...,\n",
       "         -6.9940317e-01,  1.1151876e+00,  5.1683873e-01],\n",
       "        [-7.2657806e-01, -1.1025021e+00,  7.1634158e-02, ...,\n",
       "         -5.0387722e-01, -8.4921831e-01,  2.5234178e-03],\n",
       "        ...,\n",
       "        [-5.5425458e-02, -8.8448119e-01,  1.7993215e+00, ...,\n",
       "          3.3694309e-01,  9.9155001e-02, -3.9743310e-01],\n",
       "        [-7.0433527e-01,  1.4966053e-01, -1.7010220e+00, ...,\n",
       "         -2.3003401e-02, -3.0301884e-01, -2.8433302e-01],\n",
       "        [ 1.9762085e-01, -1.0085891e+00,  2.4470155e+00, ...,\n",
       "         -2.1254625e+00,  2.7460521e-01, -1.6783616e-01]],\n",
       "\n",
       "       [[ 7.4992293e-01, -1.3876933e-01, -2.9581642e-01, ...,\n",
       "          4.5297489e-01,  1.6035348e+00,  2.5956967e+00],\n",
       "        [ 8.6454099e-01,  5.4275459e-01,  1.2387288e+00, ...,\n",
       "          4.5564425e-01,  1.1096869e+00, -2.7405429e+00],\n",
       "        [ 1.2236075e+00, -1.7243558e-01, -1.8598914e-01, ...,\n",
       "         -2.6421130e-01, -1.9147125e+00,  1.9785829e+00],\n",
       "        ...,\n",
       "        [-6.9007605e-01,  2.2321548e+00, -9.9302304e-01, ...,\n",
       "         -5.9807777e-01,  4.4766139e-02, -4.9026843e-02],\n",
       "        [-8.1505668e-01,  5.9581137e-01,  5.8214331e-01, ...,\n",
       "          1.5747182e-01, -6.3459408e-01,  6.2592739e-01],\n",
       "        [ 2.6561324e-02, -9.9183160e-01,  1.4204178e+00, ...,\n",
       "          9.8791949e-02, -1.0021446e+00, -7.1194553e-01]]], dtype=float32)>"
      ]
     },
     "execution_count": 52,
     "metadata": {},
     "output_type": "execute_result"
    }
   ],
   "source": [
    " x[:,:,:,1] "
   ]
  },
  {
   "cell_type": "markdown",
   "metadata": {},
   "source": [
    "　　为了避免出现像𝑥[:,:,:,1]这样出现过多冒号的情况，可以使用⋯符号表示取多个维度 上所有的数据，其中维度的数量需根据规则自动推断：当切片方式出现⋯符号时，⋯符号 左边的维度将自动对齐到最左边，⋯符号右边的维度将自动对齐到最右边，此时系统再自 动推断⋯符号代表的维度数量，它的切片方式总结如表格 4.2："
   ]
  },
  {
   "attachments": {
    "image.png": {
     "image/png": "[encoded data removed]"
    }
   },
   "cell_type": "markdown",
   "metadata": {},
   "source": [
    "![image.png](attachment:image.png)\n"
   ]
  },
  {
   "cell_type": "markdown",
   "metadata": {},
   "source": [
    "考虑如下例子：<br>\n",
    "❑ 读取第 1-2 张图片的 G/B 通道数据"
   ]
  },
  {
   "cell_type": "code",
   "execution_count": 54,
   "metadata": {},
   "outputs": [
    {
     "data": {
      "text/plain": [
       "<tf.Tensor: shape=(2, 32, 32, 2), dtype=float32, numpy=\n",
       "array([[[[ 1.359209  ,  0.9509406 ],\n",
       "         [-1.3287078 , -0.47128955],\n",
       "         [ 0.79083043,  0.11787184],\n",
       "         ...,\n",
       "         [-1.4053403 ,  0.7251497 ],\n",
       "         [-0.39621952, -1.5102286 ],\n",
       "         [-0.44586286,  1.1515745 ]],\n",
       "\n",
       "        [[-0.09525778,  1.245359  ],\n",
       "         [ 0.02157006, -0.32158184],\n",
       "         [ 0.4846089 , -0.41765493],\n",
       "         ...,\n",
       "         [-0.31281257,  1.1698027 ],\n",
       "         [-0.6408867 ,  0.5734384 ],\n",
       "         [ 0.7932977 ,  0.5480733 ]],\n",
       "\n",
       "        [[-1.1035584 ,  0.918796  ],\n",
       "         [ 0.50719136,  0.31162503],\n",
       "         [ 0.76725805,  1.6712406 ],\n",
       "         ...,\n",
       "         [ 0.19667883,  0.55165195],\n",
       "         [-0.9376218 , -0.84839785],\n",
       "         [ 0.7257319 ,  0.35242492]],\n",
       "\n",
       "        ...,\n",
       "\n",
       "        [[ 0.875307  ,  0.7547756 ],\n",
       "         [-0.32249534,  0.8441097 ],\n",
       "         [-0.69887275,  1.7593381 ],\n",
       "         ...,\n",
       "         [ 2.6877644 , -0.9400699 ],\n",
       "         [ 0.43567833,  0.03731263],\n",
       "         [ 1.9909767 ,  1.5018138 ]],\n",
       "\n",
       "        [[-0.845709  ,  0.41757768],\n",
       "         [-0.0373054 , -0.96596783],\n",
       "         [ 0.30795744, -0.10168054],\n",
       "         ...,\n",
       "         [ 0.45651433, -2.1052606 ],\n",
       "         [ 0.9065783 ,  0.1815935 ],\n",
       "         [-0.2763439 ,  0.31988078]],\n",
       "\n",
       "        [[ 0.08018816, -0.29021746],\n",
       "         [-1.4049104 , -0.3928622 ],\n",
       "         [ 1.7185987 , -1.924468  ],\n",
       "         ...,\n",
       "         [ 0.05793897,  0.1224644 ],\n",
       "         [-0.14840281, -0.8878385 ],\n",
       "         [-1.3920105 , -0.2403588 ]]],\n",
       "\n",
       "\n",
       "       [[[-0.8898077 , -0.33239642],\n",
       "         [-0.02123346,  0.95688367],\n",
       "         [ 0.6827412 ,  1.8787684 ],\n",
       "         ...,\n",
       "         [-1.0273619 ,  0.6985422 ],\n",
       "         [ 0.27189386, -1.140197  ],\n",
       "         [ 2.0571828 ,  1.3344746 ]],\n",
       "\n",
       "        [[ 0.00443135, -0.4444851 ],\n",
       "         [-0.7741043 ,  1.8721095 ],\n",
       "         [-0.00382627, -0.8083158 ],\n",
       "         ...,\n",
       "         [ 0.93897617, -1.5209421 ],\n",
       "         [-0.14530225, -0.70206964],\n",
       "         [-0.01871303, -1.0346633 ]],\n",
       "\n",
       "        [[-0.7086309 , -0.18058701],\n",
       "         [-1.3176063 , -0.8833799 ],\n",
       "         [-0.2076155 , -0.18819241],\n",
       "         ...,\n",
       "         [ 0.01049731, -0.7143022 ],\n",
       "         [ 0.4895304 , -1.1985961 ],\n",
       "         [ 0.23753972, -0.48766145]],\n",
       "\n",
       "        ...,\n",
       "\n",
       "        [[ 0.38828507, -0.4553686 ],\n",
       "         [-0.54148966, -1.4110817 ],\n",
       "         [-0.04479508, -0.48753774],\n",
       "         ...,\n",
       "         [ 0.30147237, -1.1236298 ],\n",
       "         [ 1.4899551 ,  1.2625613 ],\n",
       "         [-1.7411761 , -2.0684955 ]],\n",
       "\n",
       "        [[-1.3140775 , -0.6493502 ],\n",
       "         [-0.07916392, -0.24686341],\n",
       "         [-0.5163396 ,  0.5751969 ],\n",
       "         ...,\n",
       "         [-1.155917  , -1.856379  ],\n",
       "         [-0.24113703, -0.67826277],\n",
       "         [ 1.1469586 ,  1.2270823 ]],\n",
       "\n",
       "        [[ 1.6368932 ,  0.40352368],\n",
       "         [-1.06602   ,  1.0077454 ],\n",
       "         [ 0.9845729 ,  0.62178093],\n",
       "         ...,\n",
       "         [-0.14357302, -1.4240233 ],\n",
       "         [-1.283838  ,  0.8652261 ],\n",
       "         [-0.17789365,  0.36908612]]]], dtype=float32)>"
      ]
     },
     "execution_count": 54,
     "metadata": {},
     "output_type": "execute_result"
    }
   ],
   "source": [
    " x[0:2,...,1:] "
   ]
  },
  {
   "cell_type": "markdown",
   "metadata": {},
   "source": [
    "❑ 读取最后 2 张图片"
   ]
  },
  {
   "cell_type": "code",
   "execution_count": 59,
   "metadata": {},
   "outputs": [
    {
     "data": {
      "text/plain": [
       "<tf.Tensor: shape=(2, 32, 32, 3), dtype=float32, numpy=\n",
       "array([[[[-1.9640524e-02,  1.4392542e+00,  7.3780000e-01],\n",
       "         [ 7.3317796e-01,  6.6712812e-02, -8.3754140e-01],\n",
       "         [ 1.8188317e+00, -1.0184724e+00,  1.6022098e-01],\n",
       "         ...,\n",
       "         [-4.4812831e-01, -6.1993152e-01,  3.5738721e-02],\n",
       "         [ 7.0196080e-01,  4.9547780e-01, -1.0440413e+00],\n",
       "         [ 9.9329132e-01, -1.0134277e+00,  1.3012495e+00]],\n",
       "\n",
       "        [[-7.1492344e-01, -5.7437569e-01,  1.2519780e-01],\n",
       "         [-8.4845442e-01,  1.4551288e+00,  2.5412936e+00],\n",
       "         [ 6.9341725e-01,  3.5014039e-01, -3.9694059e-01],\n",
       "         ...,\n",
       "         [-2.1623747e-01, -6.9940317e-01,  1.7249470e+00],\n",
       "         [ 1.3618298e+00,  1.1151876e+00,  6.3885026e-02],\n",
       "         [ 8.0039620e-01,  5.1683873e-01,  1.2121719e+00]],\n",
       "\n",
       "        [[-1.4947268e+00, -7.2657806e-01,  2.0162098e+00],\n",
       "         [ 6.4160007e-01, -1.1025021e+00,  3.0926886e-01],\n",
       "         [ 1.9231055e+00,  7.1634158e-02, -1.0878618e+00],\n",
       "         ...,\n",
       "         [ 6.5723157e-01, -5.0387722e-01, -2.9554027e-01],\n",
       "         [ 1.1132027e+00, -8.4921831e-01,  9.8877901e-01],\n",
       "         [ 7.1318454e-01,  2.5234178e-03, -2.4099284e-01]],\n",
       "\n",
       "        ...,\n",
       "\n",
       "        [[-1.7165798e+00, -5.5425458e-02, -1.9998434e+00],\n",
       "         [-1.2344568e+00, -8.8448119e-01,  2.1725781e+00],\n",
       "         [ 9.5979333e-01,  1.7993215e+00, -6.0528129e-01],\n",
       "         ...,\n",
       "         [ 8.6325842e-01,  3.3694309e-01, -2.4143413e-01],\n",
       "         [-1.7560443e+00,  9.9155001e-02, -4.3688032e-01],\n",
       "         [-1.3936926e+00, -3.9743310e-01, -4.2467421e-01]],\n",
       "\n",
       "        [[-9.3630785e-01, -7.0433527e-01,  5.1225603e-01],\n",
       "         [ 8.8425539e-03,  1.4966053e-01,  8.5075259e-01],\n",
       "         [-1.1635538e+00, -1.7010220e+00,  8.3242506e-01],\n",
       "         ...,\n",
       "         [-1.3965602e+00, -2.3003401e-02, -4.7073436e-01],\n",
       "         [-5.6311067e-02, -3.0301884e-01,  4.1518360e-01],\n",
       "         [ 2.8064051e-01, -2.8433302e-01, -8.4700072e-01]],\n",
       "\n",
       "        [[ 6.8890341e-02,  1.9762085e-01, -8.7057263e-02],\n",
       "         [-2.8521565e-01, -1.0085891e+00, -1.7756857e+00],\n",
       "         [ 4.8498705e-01,  2.4470155e+00, -5.7128781e-01],\n",
       "         ...,\n",
       "         [ 1.3649623e+00, -2.1254625e+00,  1.5955358e+00],\n",
       "         [-6.3646245e-01,  2.7460521e-01,  6.7704076e-01],\n",
       "         [-2.9128084e-01, -1.6783616e-01, -3.3640623e-01]]],\n",
       "\n",
       "\n",
       "       [[[ 9.0775162e-01,  7.4992293e-01,  2.0130782e+00],\n",
       "         [ 1.2003399e+00, -1.3876933e-01, -3.4245765e-01],\n",
       "         [ 1.9180204e+00, -2.9581642e-01, -1.2138448e+00],\n",
       "         ...,\n",
       "         [ 1.0790270e-01,  4.5297489e-01, -2.6258399e+00],\n",
       "         [ 3.7589121e-01,  1.6035348e+00, -1.0305512e+00],\n",
       "         [ 3.7286374e-01,  2.5956967e+00,  1.3973858e+00]],\n",
       "\n",
       "        [[ 2.1217201e+00,  8.6454099e-01, -1.0036610e+00],\n",
       "         [-5.0822777e-01,  5.4275459e-01, -3.9760026e-01],\n",
       "         [-8.2460636e-01,  1.2387288e+00,  1.1196411e+00],\n",
       "         ...,\n",
       "         [ 2.0488767e-01,  4.5564425e-01, -2.5658863e-02],\n",
       "         [-4.9112707e-01,  1.1096869e+00,  2.8347296e-01],\n",
       "         [ 3.9358059e-01, -2.7405429e+00, -5.4148144e-01]],\n",
       "\n",
       "        [[ 2.1808736e+00,  1.2236075e+00, -1.2584682e+00],\n",
       "         [-2.7190956e-01, -1.7243558e-01, -4.3266377e-01],\n",
       "         [ 3.6420161e-01, -1.8598914e-01,  1.4040715e+00],\n",
       "         ...,\n",
       "         [ 2.8008187e-01, -2.6421130e-01, -5.0119960e-01],\n",
       "         [-2.5767189e-01, -1.9147125e+00,  4.3008053e-01],\n",
       "         [ 9.8762959e-01,  1.9785829e+00, -1.4016742e-01]],\n",
       "\n",
       "        ...,\n",
       "\n",
       "        [[-2.6638880e-01, -6.9007605e-01, -7.3935682e-01],\n",
       "         [ 1.2997115e+00,  2.2321548e+00, -1.4003274e+00],\n",
       "         [-1.0918607e+00, -9.9302304e-01, -4.7207847e-01],\n",
       "         ...,\n",
       "         [ 6.7957973e-01, -5.9807777e-01,  2.3281914e-01],\n",
       "         [-5.9883237e-01,  4.4766139e-02, -6.9128618e-02],\n",
       "         [ 5.9185916e-01, -4.9026843e-02, -7.6988167e-01]],\n",
       "\n",
       "        [[ 5.3335369e-01, -8.1505668e-01,  3.3055407e-01],\n",
       "         [-1.8475518e+00,  5.9581137e-01,  8.0270249e-01],\n",
       "         [-1.4960388e+00,  5.8214331e-01,  7.7144593e-01],\n",
       "         ...,\n",
       "         [-7.1576667e-01,  1.5747182e-01, -1.7882127e-01],\n",
       "         [-4.4471946e-01, -6.3459408e-01,  6.3841170e-01],\n",
       "         [-1.4139707e+00,  6.2592739e-01,  6.3394201e-01]],\n",
       "\n",
       "        [[ 4.6157488e-01,  2.6561324e-02, -3.8941962e-01],\n",
       "         [-1.2782964e+00, -9.9183160e-01, -1.4481709e+00],\n",
       "         [ 5.9301847e-01,  1.4204178e+00, -1.1666734e-01],\n",
       "         ...,\n",
       "         [-1.5228134e+00,  9.8791949e-02, -6.4971733e-01],\n",
       "         [-5.8630675e-01, -1.0021446e+00, -2.2096300e-01],\n",
       "         [ 3.1172138e-01, -7.1194553e-01,  1.6699656e+00]]]],\n",
       "      dtype=float32)>"
      ]
     },
     "execution_count": 59,
     "metadata": {},
     "output_type": "execute_result"
    }
   ],
   "source": [
    "x[2:,...] "
   ]
  },
  {
   "cell_type": "markdown",
   "metadata": {},
   "source": [
    "读取 R/G 通道数据： "
   ]
  },
  {
   "cell_type": "code",
   "execution_count": 62,
   "metadata": {},
   "outputs": [
    {
     "data": {
      "text/plain": [
       "<tf.Tensor: shape=(4, 32, 32, 2), dtype=float32, numpy=\n",
       "array([[[[-1.1324083e+00,  1.3592089e+00],\n",
       "         [ 5.7142609e-01, -1.3287078e+00],\n",
       "         [-6.6641945e-01,  7.9083043e-01],\n",
       "         ...,\n",
       "         [-4.6330050e-01, -1.4053403e+00],\n",
       "         [ 1.4279497e+00, -3.9621952e-01],\n",
       "         [-3.5291430e-01, -4.4586286e-01]],\n",
       "\n",
       "        [[ 1.5133921e+00, -9.5257781e-02],\n",
       "         [-4.2743459e-01,  2.1570059e-02],\n",
       "         [ 1.0061065e+00,  4.8460889e-01],\n",
       "         ...,\n",
       "         [-1.3471106e+00, -3.1281257e-01],\n",
       "         [ 1.2007663e+00, -6.4088672e-01],\n",
       "         [-8.9137954e-01,  7.9329771e-01]],\n",
       "\n",
       "        [[ 9.7618955e-01, -1.1035584e+00],\n",
       "         [ 6.8822122e-01,  5.0719136e-01],\n",
       "         [ 8.5549009e-01,  7.6725805e-01],\n",
       "         ...,\n",
       "         [ 5.3223020e-01,  1.9667883e-01],\n",
       "         [ 2.0022628e-01, -9.3762177e-01],\n",
       "         [ 1.1839747e+00,  7.2573191e-01]],\n",
       "\n",
       "        ...,\n",
       "\n",
       "        [[-1.2248005e+00,  8.7530702e-01],\n",
       "         [-1.8152024e-01, -3.2249534e-01],\n",
       "         [-1.3719313e+00, -6.9887275e-01],\n",
       "         ...,\n",
       "         [ 2.2015069e-01,  2.6877644e+00],\n",
       "         [ 9.5002359e-01,  4.3567833e-01],\n",
       "         [ 1.3089303e+00,  1.9909767e+00]],\n",
       "\n",
       "        [[ 1.8168570e-01, -8.4570903e-01],\n",
       "         [ 2.7909937e+00, -3.7305400e-02],\n",
       "         [-5.4852445e-02,  3.0795744e-01],\n",
       "         ...,\n",
       "         [ 6.1649525e-01,  4.5651433e-01],\n",
       "         [-5.9215373e-01,  9.0657830e-01],\n",
       "         [ 1.6894226e-01, -2.7634391e-01]],\n",
       "\n",
       "        [[-5.0439793e-01,  8.0188163e-02],\n",
       "         [-2.0789282e+00, -1.4049104e+00],\n",
       "         [-1.4675899e+00,  1.7185987e+00],\n",
       "         ...,\n",
       "         [ 1.6389443e+00,  5.7938974e-02],\n",
       "         [-1.3827102e-03, -1.4840281e-01],\n",
       "         [ 2.4767657e-01, -1.3920105e+00]]],\n",
       "\n",
       "\n",
       "       [[[ 1.6071782e-02, -8.8980770e-01],\n",
       "         [-7.8029990e-01, -2.1233462e-02],\n",
       "         [-3.0358312e-01,  6.8274122e-01],\n",
       "         ...,\n",
       "         [-3.9290974e-01, -1.0273619e+00],\n",
       "         [-9.5115221e-01,  2.7189386e-01],\n",
       "         [-3.8846871e-01,  2.0571828e+00]],\n",
       "\n",
       "        [[-1.2566794e+00,  4.4313497e-03],\n",
       "         [-6.1667198e-01, -7.7410430e-01],\n",
       "         [-9.0720636e-01, -3.8262678e-03],\n",
       "         ...,\n",
       "         [-1.2650137e+00,  9.3897617e-01],\n",
       "         [-4.4382522e-01, -1.4530225e-01],\n",
       "         [-2.2347891e+00, -1.8713033e-02]],\n",
       "\n",
       "        [[-8.3413810e-01, -7.0863092e-01],\n",
       "         [-1.2404675e+00, -1.3176063e+00],\n",
       "         [-1.9196557e+00, -2.0761549e-01],\n",
       "         ...,\n",
       "         [ 1.6118020e+00,  1.0497313e-02],\n",
       "         [ 1.4090945e+00,  4.8953041e-01],\n",
       "         [ 1.9132141e+00,  2.3753972e-01]],\n",
       "\n",
       "        ...,\n",
       "\n",
       "        [[-1.2006668e+00,  3.8828507e-01],\n",
       "         [ 1.0313729e+00, -5.4148966e-01],\n",
       "         [-1.7509529e-01, -4.4795085e-02],\n",
       "         ...,\n",
       "         [ 1.0055327e+00,  3.0147237e-01],\n",
       "         [-2.4227843e-01,  1.4899551e+00],\n",
       "         [-6.1794418e-01, -1.7411761e+00]],\n",
       "\n",
       "        [[ 2.1756153e-01, -1.3140775e+00],\n",
       "         [-3.3125034e-01, -7.9163924e-02],\n",
       "         [ 5.1015086e-02, -5.1633960e-01],\n",
       "         ...,\n",
       "         [-8.7210184e-01, -1.1559170e+00],\n",
       "         [-2.2477393e-01, -2.4113703e-01],\n",
       "         [ 6.2046875e-03,  1.1469586e+00]],\n",
       "\n",
       "        [[ 1.2952292e+00,  1.6368932e+00],\n",
       "         [ 1.5066043e+00, -1.0660200e+00],\n",
       "         [ 1.0523727e+00,  9.8457289e-01],\n",
       "         ...,\n",
       "         [-1.7594948e-01, -1.4357302e-01],\n",
       "         [-8.6572242e-01, -1.2838380e+00],\n",
       "         [ 1.4915988e+00, -1.7789365e-01]]],\n",
       "\n",
       "\n",
       "       [[[-1.9640524e-02,  1.4392542e+00],\n",
       "         [ 7.3317796e-01,  6.6712812e-02],\n",
       "         [ 1.8188317e+00, -1.0184724e+00],\n",
       "         ...,\n",
       "         [-4.4812831e-01, -6.1993152e-01],\n",
       "         [ 7.0196080e-01,  4.9547780e-01],\n",
       "         [ 9.9329132e-01, -1.0134277e+00]],\n",
       "\n",
       "        [[-7.1492344e-01, -5.7437569e-01],\n",
       "         [-8.4845442e-01,  1.4551288e+00],\n",
       "         [ 6.9341725e-01,  3.5014039e-01],\n",
       "         ...,\n",
       "         [-2.1623747e-01, -6.9940317e-01],\n",
       "         [ 1.3618298e+00,  1.1151876e+00],\n",
       "         [ 8.0039620e-01,  5.1683873e-01]],\n",
       "\n",
       "        [[-1.4947268e+00, -7.2657806e-01],\n",
       "         [ 6.4160007e-01, -1.1025021e+00],\n",
       "         [ 1.9231055e+00,  7.1634158e-02],\n",
       "         ...,\n",
       "         [ 6.5723157e-01, -5.0387722e-01],\n",
       "         [ 1.1132027e+00, -8.4921831e-01],\n",
       "         [ 7.1318454e-01,  2.5234178e-03]],\n",
       "\n",
       "        ...,\n",
       "\n",
       "        [[-1.7165798e+00, -5.5425458e-02],\n",
       "         [-1.2344568e+00, -8.8448119e-01],\n",
       "         [ 9.5979333e-01,  1.7993215e+00],\n",
       "         ...,\n",
       "         [ 8.6325842e-01,  3.3694309e-01],\n",
       "         [-1.7560443e+00,  9.9155001e-02],\n",
       "         [-1.3936926e+00, -3.9743310e-01]],\n",
       "\n",
       "        [[-9.3630785e-01, -7.0433527e-01],\n",
       "         [ 8.8425539e-03,  1.4966053e-01],\n",
       "         [-1.1635538e+00, -1.7010220e+00],\n",
       "         ...,\n",
       "         [-1.3965602e+00, -2.3003401e-02],\n",
       "         [-5.6311067e-02, -3.0301884e-01],\n",
       "         [ 2.8064051e-01, -2.8433302e-01]],\n",
       "\n",
       "        [[ 6.8890341e-02,  1.9762085e-01],\n",
       "         [-2.8521565e-01, -1.0085891e+00],\n",
       "         [ 4.8498705e-01,  2.4470155e+00],\n",
       "         ...,\n",
       "         [ 1.3649623e+00, -2.1254625e+00],\n",
       "         [-6.3646245e-01,  2.7460521e-01],\n",
       "         [-2.9128084e-01, -1.6783616e-01]]],\n",
       "\n",
       "\n",
       "       [[[ 9.0775162e-01,  7.4992293e-01],\n",
       "         [ 1.2003399e+00, -1.3876933e-01],\n",
       "         [ 1.9180204e+00, -2.9581642e-01],\n",
       "         ...,\n",
       "         [ 1.0790270e-01,  4.5297489e-01],\n",
       "         [ 3.7589121e-01,  1.6035348e+00],\n",
       "         [ 3.7286374e-01,  2.5956967e+00]],\n",
       "\n",
       "        [[ 2.1217201e+00,  8.6454099e-01],\n",
       "         [-5.0822777e-01,  5.4275459e-01],\n",
       "         [-8.2460636e-01,  1.2387288e+00],\n",
       "         ...,\n",
       "         [ 2.0488767e-01,  4.5564425e-01],\n",
       "         [-4.9112707e-01,  1.1096869e+00],\n",
       "         [ 3.9358059e-01, -2.7405429e+00]],\n",
       "\n",
       "        [[ 2.1808736e+00,  1.2236075e+00],\n",
       "         [-2.7190956e-01, -1.7243558e-01],\n",
       "         [ 3.6420161e-01, -1.8598914e-01],\n",
       "         ...,\n",
       "         [ 2.8008187e-01, -2.6421130e-01],\n",
       "         [-2.5767189e-01, -1.9147125e+00],\n",
       "         [ 9.8762959e-01,  1.9785829e+00]],\n",
       "\n",
       "        ...,\n",
       "\n",
       "        [[-2.6638880e-01, -6.9007605e-01],\n",
       "         [ 1.2997115e+00,  2.2321548e+00],\n",
       "         [-1.0918607e+00, -9.9302304e-01],\n",
       "         ...,\n",
       "         [ 6.7957973e-01, -5.9807777e-01],\n",
       "         [-5.9883237e-01,  4.4766139e-02],\n",
       "         [ 5.9185916e-01, -4.9026843e-02]],\n",
       "\n",
       "        [[ 5.3335369e-01, -8.1505668e-01],\n",
       "         [-1.8475518e+00,  5.9581137e-01],\n",
       "         [-1.4960388e+00,  5.8214331e-01],\n",
       "         ...,\n",
       "         [-7.1576667e-01,  1.5747182e-01],\n",
       "         [-4.4471946e-01, -6.3459408e-01],\n",
       "         [-1.4139707e+00,  6.2592739e-01]],\n",
       "\n",
       "        [[ 4.6157488e-01,  2.6561324e-02],\n",
       "         [-1.2782964e+00, -9.9183160e-01],\n",
       "         [ 5.9301847e-01,  1.4204178e+00],\n",
       "         ...,\n",
       "         [-1.5228134e+00,  9.8791949e-02],\n",
       "         [-5.8630675e-01, -1.0021446e+00],\n",
       "         [ 3.1172138e-01, -7.1194553e-01]]]], dtype=float32)>"
      ]
     },
     "execution_count": 62,
     "metadata": {},
     "output_type": "execute_result"
    }
   ],
   "source": [
    "x[...,:2]"
   ]
  },
  {
   "cell_type": "markdown",
   "metadata": {},
   "source": [
    "### 小结 \n",
    "　　张量的索引与切片方式多种多样，尤其是切片操作，初学者容易犯迷糊。但其实本质 上切片操作只有𝑠𝑡𝑎𝑟𝑡:𝑒𝑛𝑑:𝑠𝑡𝑒𝑝这一种基本形式，通过这种基本形式有目的地省略掉默认 参数，从而衍生出多种简写方法，这也是很好理解的。它衍生的简写形式熟练后一看就能 推测出省略掉的信息，书写起来也更方便快捷。由于深度学习一般处理的维度数在 4 维以 内，⋯操作符完全可以用:符号代替，因此理解了这些就会发现张量切片操作并不复杂。 "
   ]
  },
  {
   "cell_type": "markdown",
   "metadata": {},
   "source": [
    "## 维度变换 \n",
    "　　在神经网络运算过程中，维度变换是最核心的张量操作，通过维度变换可以将数据任 意地切换形式，满足不同场合的运算需求。<br> 　　\n",
    "　　那么为什么需要维度变换呢？考虑线性层的批量形式：<br> \n",
    "  $$Y = X@W+ 𝒃 $$\n",
    "其中 X 包含了 2 个样本，每个样本的特征长度为 4，X 的 shape 为[2,4]。线性层的输出为 3 个节点，即 W 的 shape 定义为[4,3]，偏置𝒃的 shape 定义为[3]。那么X@W的运算张量 shape 为[2,3]，需要叠加上 shape 为[3]的偏置𝒃。不同 shape 的 2 个张量怎么直接相加呢？<br> \n",
    "　　回到我们设计偏置的初衷，我们给每个层的每个输出节点添加一个偏置，这个偏置数 据是对所有的样本都是共享的，换言之，每个样本都应该累加上同样的偏置向量𝒃，如图 4.5 所示： "
   ]
  },
  {
   "attachments": {
    "image.png": {
     "image/png": "[encoded data removed]"
    }
   },
   "cell_type": "markdown",
   "metadata": {},
   "source": [
    "![image.png](attachment:image.png)"
   ]
  },
  {
   "attachments": {
    "image.png": {
     "image/png": "[encoded data removed]"
    }
   },
   "cell_type": "markdown",
   "metadata": {},
   "source": [
    "因此，对于 2 个样本的输入 X，我们需要将 shape 为[3]的偏置𝒃 ![image.png](attachment:image.png)\n",
    "通过这种方式，既满足了数学上矩阵相加需要 shape 一致的条件，又达到了给每个输入样 本的输出节共享偏置的逻辑。为了实现这种运算方式，我们将𝒃插入一个新的维度，并把 它定义为 batch 维度，然后在 batch 维度将数据复制 1 份，得到变换后的B′，新的 shape 为 [2,3]。<br> \n",
    "　　算法的每个模块对于数据张量的格式有不同的逻辑要求，当现有的数据格式不满足算 法要求时，需要通过维度变换将数据调整为正确的格式。这就是维度变换的功能。<br>\n",
    "　　基本的维度变换包含了改变视图 reshape，插入新维度 expand_dims，删除维度 squeeze，交换维度 transpose，复制数据 tile 等。 "
   ]
  },
  {
   "cell_type": "markdown",
   "metadata": {},
   "source": [
    "### Reshape\n",
    "　　在介绍改变视图操作之前，我们先来认识一下张量的存储和视图(View)的概念。张量 的视图就是我们理解张量的方式，比如 shape 为[2,4,4,3]的张量 A，我们从逻辑上可以理解 为 2 张图片，每张图片 4 行 4 列，每个位置有 RGB 3 个通道的数据；张量的存储体现在张 量在内存上保存为一段连续的内存区域，对于同样的存储，我们可以有不同的理解方式， 比如上述 A，我们可以在不改变张量的存储下，将张量 A 理解为 2 个样本，每个样本的特征为长度 48 的向量。这就是存储与视图的关系。<br>\n",
    "　　我们通过 tf.range()模拟生成 x 的数据： "
   ]
  },
  {
   "cell_type": "code",
   "execution_count": 65,
   "metadata": {},
   "outputs": [
    {
     "data": {
      "text/plain": [
       "<tf.Tensor: shape=(2, 4, 4, 3), dtype=int32, numpy=\n",
       "array([[[[ 0,  1,  2],\n",
       "         [ 3,  4,  5],\n",
       "         [ 6,  7,  8],\n",
       "         [ 9, 10, 11]],\n",
       "\n",
       "        [[12, 13, 14],\n",
       "         [15, 16, 17],\n",
       "         [18, 19, 20],\n",
       "         [21, 22, 23]],\n",
       "\n",
       "        [[24, 25, 26],\n",
       "         [27, 28, 29],\n",
       "         [30, 31, 32],\n",
       "         [33, 34, 35]],\n",
       "\n",
       "        [[36, 37, 38],\n",
       "         [39, 40, 41],\n",
       "         [42, 43, 44],\n",
       "         [45, 46, 47]]],\n",
       "\n",
       "\n",
       "       [[[48, 49, 50],\n",
       "         [51, 52, 53],\n",
       "         [54, 55, 56],\n",
       "         [57, 58, 59]],\n",
       "\n",
       "        [[60, 61, 62],\n",
       "         [63, 64, 65],\n",
       "         [66, 67, 68],\n",
       "         [69, 70, 71]],\n",
       "\n",
       "        [[72, 73, 74],\n",
       "         [75, 76, 77],\n",
       "         [78, 79, 80],\n",
       "         [81, 82, 83]],\n",
       "\n",
       "        [[84, 85, 86],\n",
       "         [87, 88, 89],\n",
       "         [90, 91, 92],\n",
       "         [93, 94, 95]]]])>"
      ]
     },
     "execution_count": 65,
     "metadata": {},
     "output_type": "execute_result"
    }
   ],
   "source": [
    "x=tf.range(96) \n",
    "x=tf.reshape(x,[2,4,4,3])\n",
    "x"
   ]
  },
  {
   "attachments": {
    "image.png": {
     "image/png": "[encoded data removed]"
    }
   },
   "cell_type": "markdown",
   "metadata": {},
   "source": [
    "　　在存储数据时，内存并不支持这个维度层级概念，只能以平铺方式按序写入内存，因此这 种层级关系需要人为管理，也就是说，每个张量的存储顺序需要人为跟踪。为了方便表 达，我们把张量 shape 中相对靠左侧的维度叫做大维度，shape 中相对靠右侧的维度叫做小 维度，比如[2,4,4,3]的张量中，图片数量维度与通道数量相比，图片数量叫做大维度，通道 数叫做小维度。在优先写入小维度的设定下，上述张量的内存布局为 \n",
    "![image.png](attachment:image.png)\n",
    "　　数据在创建时按着初始的维度顺序写入，改变张量的视图仅仅是改变了张量的理解方 式，并不会改变张量的存储顺序，这在一定程度上是从计算效率考虑的，大量数据的写入 操作会消耗较多的计算资源。改变视图操作在提供便捷性的同时，也会带来很多逻辑隐 患，这主要的原因是张量的视图与存储不同步造成的。我们先介绍合法的视图变换操作， 再介绍不合法的视图变换。<br>\n",
    "　　比如张量按着初始视图[𝑏,ℎ, ,𝑐]写入的内存布局，我们改变初始视图[𝑏,ℎ, ,𝑐]的理解 方式，它可以有多种合法理解方式：<br> \n",
    "❑ [𝑏,ℎ ∗ ,𝑐] 张量理解为 b 张图片，h*w 个像素点，c 个通道 <br>\n",
    "❑ [𝑏,ℎ, ∗ 𝑐] 张量理解为 b 张图片，h 行，每行的特征长度为 w*c <br>\n",
    "❑ [𝑏,ℎ ∗ ∗ 𝑐] 张量理解为 b 张图片，每张图片的特征长度为 h*w*c <br>\n",
    "从语法上来说，视图变换只需要满足新视图的元素总量与内存区域大小相等即可，即新视 图的元素数量等于 \n",
    "$$𝑏 ∗ ℎ ∗ ∗ 𝑐$$ \n",
    "正是由于视图的设计约束很少，完全由用户定义，使得在改变视图时容易出现逻辑隐患。<br>\n",
    "　　现在我们来考虑不合法的视图变换。例如，如果定义新视图为[𝑏, ,ℎ,𝑐]，[𝑏,𝑐,ℎ ∗ ] 或者[𝑏,𝑐,ℎ, ]等时，与张量的存储顺序相悖，如果不同步更新张量的存储顺序，那么恢复 出的数据将与新视图不一致，从而导致数据错乱。<br> \n",
    "　　为了能够正确恢复出数据，必须保证张量的存储顺序与新视图的维度顺序一致，例如 根据 图片数量 行 列 通道 初始视图保存的张量，按照 图片数量 行 列 通道 (𝑏 −ℎ − − 𝑐) 的顺序可以获得合法数据。如果按着 图片数量 像素 通道 ( − h ∗ w − c)的方式恢复视图， 也能得到合法的数据。但是如果按着 图片数量 通道 像素 ( − c −h ∗ w)的方式恢复数据， 由于内存布局是按着 图片数量 行 列 通道 的顺序，视图维度与存储维度顺序相悖，提取的数据将是错乱的。<br>\n",
    "　　改变视图是神经网络中非常常见的操作，可以通过串联多个 Reshape 操作来实现复杂 逻辑，但是在通过 Reshape 改变视图时，必须始终记住张量的存储顺序，新视图的维度顺 序不能与存储顺序相悖，否则需要通过交换维度操作将存储顺序同步过来。举个例子，对 于 shape 为[4,32,32,3]的图片数据，通过 Reshape 操作将 shape 调整为[4,1024,3]，此时视图 的维度顺序为𝑏 − 𝑝𝑖𝑥𝑒𝑙 − 𝑐，张量的存储顺序为[𝑏,ℎ, ,𝑐]。可以将[4,1024,3]恢复为 <br>\n",
    "❑  [𝑏,ℎ, ,𝑐] = [4,32,32,3]时，新视图的维度顺序与存储顺序无冲突，可以恢复出无逻辑 问题的数据 <br>\n",
    "❑ [𝑏, ,ℎ,𝑐] = [4,32,32,3]时，新视图的维度顺序与存储顺序冲突 <br>\n",
    "❑ [ℎ ∗ ∗ 𝑐,𝑏] = [3072,4]时，新视图的维度顺序与存储顺序冲突 在 TensorFlow 中，可以通过张量的 ndim 和 shape 成员属性获得张量的维度数和形 状： "
   ]
  },
  {
   "cell_type": "code",
   "execution_count": 66,
   "metadata": {},
   "outputs": [
    {
     "data": {
      "text/plain": [
       "(4, TensorShape([2, 4, 4, 3]))"
      ]
     },
     "execution_count": 66,
     "metadata": {},
     "output_type": "execute_result"
    }
   ],
   "source": [
    " x.ndim,x.shape "
   ]
  },
  {
   "cell_type": "markdown",
   "metadata": {},
   "source": [
    "通过 tf.reshape(x, new_shape)，可以将张量的视图任意的合法改变:"
   ]
  },
  {
   "cell_type": "code",
   "execution_count": 67,
   "metadata": {},
   "outputs": [
    {
     "data": {
      "text/plain": [
       "<tf.Tensor: shape=(2, 48), dtype=int32, numpy=\n",
       "array([[ 0,  1,  2,  3,  4,  5,  6,  7,  8,  9, 10, 11, 12, 13, 14, 15,\n",
       "        16, 17, 18, 19, 20, 21, 22, 23, 24, 25, 26, 27, 28, 29, 30, 31,\n",
       "        32, 33, 34, 35, 36, 37, 38, 39, 40, 41, 42, 43, 44, 45, 46, 47],\n",
       "       [48, 49, 50, 51, 52, 53, 54, 55, 56, 57, 58, 59, 60, 61, 62, 63,\n",
       "        64, 65, 66, 67, 68, 69, 70, 71, 72, 73, 74, 75, 76, 77, 78, 79,\n",
       "        80, 81, 82, 83, 84, 85, 86, 87, 88, 89, 90, 91, 92, 93, 94, 95]])>"
      ]
     },
     "execution_count": 67,
     "metadata": {},
     "output_type": "execute_result"
    }
   ],
   "source": [
    " tf.reshape(x,[2,-1]) "
   ]
  },
  {
   "cell_type": "markdown",
   "metadata": {},
   "source": [
    "其中的参数-1 表示当前轴上长度需要根据视图总元素不变的法则自动推导，从而方便用户 书写。比如，上面的-1 可以推导为 \n",
    "$$\\frac{2 ∗ 4 ∗ 4 ∗ 3}{2} = 48 $$\n",
    "再次改变数据的视图为[2,4,12]： "
   ]
  },
  {
   "cell_type": "code",
   "execution_count": 70,
   "metadata": {},
   "outputs": [
    {
     "data": {
      "text/plain": [
       "<tf.Tensor: shape=(2, 4, 12), dtype=int32, numpy=\n",
       "array([[[ 0,  1,  2,  3,  4,  5,  6,  7,  8,  9, 10, 11],\n",
       "        [12, 13, 14, 15, 16, 17, 18, 19, 20, 21, 22, 23],\n",
       "        [24, 25, 26, 27, 28, 29, 30, 31, 32, 33, 34, 35],\n",
       "        [36, 37, 38, 39, 40, 41, 42, 43, 44, 45, 46, 47]],\n",
       "\n",
       "       [[48, 49, 50, 51, 52, 53, 54, 55, 56, 57, 58, 59],\n",
       "        [60, 61, 62, 63, 64, 65, 66, 67, 68, 69, 70, 71],\n",
       "        [72, 73, 74, 75, 76, 77, 78, 79, 80, 81, 82, 83],\n",
       "        [84, 85, 86, 87, 88, 89, 90, 91, 92, 93, 94, 95]]])>"
      ]
     },
     "execution_count": 70,
     "metadata": {},
     "output_type": "execute_result"
    }
   ],
   "source": [
    "tf.reshape(x,[2,4,12]) "
   ]
  },
  {
   "cell_type": "markdown",
   "metadata": {},
   "source": [
    "再次改变数据的视图为[2,16,3]"
   ]
  },
  {
   "cell_type": "code",
   "execution_count": 71,
   "metadata": {},
   "outputs": [
    {
     "data": {
      "text/plain": [
       "<tf.Tensor: shape=(2, 16, 3), dtype=int32, numpy=\n",
       "array([[[ 0,  1,  2],\n",
       "        [ 3,  4,  5],\n",
       "        [ 6,  7,  8],\n",
       "        [ 9, 10, 11],\n",
       "        [12, 13, 14],\n",
       "        [15, 16, 17],\n",
       "        [18, 19, 20],\n",
       "        [21, 22, 23],\n",
       "        [24, 25, 26],\n",
       "        [27, 28, 29],\n",
       "        [30, 31, 32],\n",
       "        [33, 34, 35],\n",
       "        [36, 37, 38],\n",
       "        [39, 40, 41],\n",
       "        [42, 43, 44],\n",
       "        [45, 46, 47]],\n",
       "\n",
       "       [[48, 49, 50],\n",
       "        [51, 52, 53],\n",
       "        [54, 55, 56],\n",
       "        [57, 58, 59],\n",
       "        [60, 61, 62],\n",
       "        [63, 64, 65],\n",
       "        [66, 67, 68],\n",
       "        [69, 70, 71],\n",
       "        [72, 73, 74],\n",
       "        [75, 76, 77],\n",
       "        [78, 79, 80],\n",
       "        [81, 82, 83],\n",
       "        [84, 85, 86],\n",
       "        [87, 88, 89],\n",
       "        [90, 91, 92],\n",
       "        [93, 94, 95]]])>"
      ]
     },
     "execution_count": 71,
     "metadata": {},
     "output_type": "execute_result"
    }
   ],
   "source": [
    "tf.reshape(x,[2,-1,3])"
   ]
  },
  {
   "cell_type": "markdown",
   "metadata": {},
   "source": [
    "通过上述的一系列连续变换视图操作时需要意识到，张量的存储顺序始终没有改变，数据 在内存中仍然是按着初始写入的顺序0,1,2,…,95保存的。 "
   ]
  }
 ],
 "metadata": {
  "kernelspec": {
   "display_name": "Python 3",
   "language": "python",
   "name": "python3"
  },
  "language_info": {
   "codemirror_mode": {
    "name": "ipython",
    "version": 3
   },
   "file_extension": ".py",
   "mimetype": "text/x-python",
   "name": "python",
   "nbconvert_exporter": "python",
   "pygments_lexer": "ipython3",
   "version": "3.7.3"
  },
  "toc": {
   "base_numbering": 1,
   "nav_menu": {},
   "number_sections": true,
   "sideBar": true,
   "skip_h1_title": false,
   "title_cell": "Table of Contents",
   "title_sidebar": "Contents",
   "toc_cell": false,
   "toc_position": {},
   "toc_section_display": true,
   "toc_window_display": true
  }
 },
 "nbformat": 4,
 "nbformat_minor": 2
}
