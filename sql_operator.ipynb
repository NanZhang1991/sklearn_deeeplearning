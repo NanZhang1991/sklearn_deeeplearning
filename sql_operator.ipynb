{
 "cells": [
  {
   "cell_type": "code",
   "execution_count": 63,
   "metadata": {},
   "outputs": [
    {
     "name": "stdout",
     "output_type": "stream",
     "text": [
      "[('2020_seg_sentiment_content', 1, 'index_name', 1, 'pubtime', 'A', 141, None, None, 'YES', 'BTREE', '', '')]\n"
     ]
    }
   ],
   "source": [
    "from sqlalchemy import create_engine\n",
    "from sqlalchemy.orm import sessionmaker\n",
    "\n",
    "DB_USER = \"root\"\n",
    "DB_PASS = \"root\"\n",
    "DB_HOST =  \"192.168.0.254\"\n",
    "DB_PORT = \"3306\"\n",
    "DATABASE = \"yt_apple_bigdata\"\n",
    "connect_info = \"mysql+pymysql://{}:{}@{}:{}/{}?charset=utf8\".format(DB_USER, DB_PASS, DB_HOST, DB_PORT, DATABASE)\n",
    "engine = create_engine(connect_info)\n",
    "\n",
    "sql='''alter table 2020_seg_sentiment_content add index index_name (pubtime) '''\n",
    "# con = engine.execute(sql)\n",
    "\n",
    "sql2='''show index from 2020_seg_sentiment_content'''\n",
    "con2 = engine.execute(sql2)\n",
    "r = con2.fetchall()\n",
    "if r:\n",
    "    print(r)\n",
    "con2.close()"
   ]
  },
  {
   "cell_type": "code",
   "execution_count": null,
   "metadata": {},
   "outputs": [],
   "source": [
   ]
  },
  {
   "cell_type": "code",
   "execution_count": 65,
   "metadata": {},
   "outputs": [
    {
     "name": "stdout",
     "output_type": "stream",
     "text": [
      "('2020_seg_sentiment_content', 1, 'index_name', 1, 'pubtime', 'A', 2818, None, None, 'YES', 'BTREE', '', '')\n"
     ]
    }
   ],
   "source": [
    "import pymysql\n",
    "connect = pymysql.connect(host=\"180.76.103.218\",\n",
    "                          user=\"root\",\n",
    "                          password=\"yc@szyj#*2018yj\",\n",
    "                          port=3306,                   \n",
    "                          db =\"yt_apple_bigdata\",\n",
    "                          charset = 'utf8')   \n",
    "cur = connect.cursor()    \n",
    "sql = \"show tables;\"\n",
    "sql2='''show index from 2020_seg_sentiment_content'''\n",
    "cur.execute(sql2)\n",
    "result = cur.fetchall()\n",
    "cur.close()\n",
    "connect.close()\n",
    "print(result[0])"
   ]
  }
 ],
 "metadata": {
  "kernelspec": {
   "display_name": "Python 3",
   "language": "python",
   "name": "python3"
  },
  "language_info": {
   "codemirror_mode": {
    "name": "ipython",
    "version": 3
   },
   "file_extension": ".py",
   "mimetype": "text/x-python",
   "name": "python",
   "nbconvert_exporter": "python",
   "pygments_lexer": "ipython3",
   "version": "3.6.5"
  },
  "toc": {
   "base_numbering": 1,
   "nav_menu": {},
   "number_sections": true,
   "sideBar": true,
   "skip_h1_title": false,
   "title_cell": "Table of Contents",
   "title_sidebar": "Contents",
   "toc_cell": false,
   "toc_position": {},
   "toc_section_display": true,
   "toc_window_display": false
  }
 },
 "nbformat": 4,
 "nbformat_minor": 2
}
