{
 "cells": [
  {
   "cell_type": "markdown",
   "metadata": {},
   "source": [
    "## 合并与分割\n",
    "### 合并\n",
    "　　合并是指将多个张量在某个维度上合并为一个张量。以某学校班级成绩册数据为例，\n",
    "设张量A 保存了某学校1-4 号班级的成绩册，每个班级35 个学生，共8 门科目，则张量A\n",
    "的shape 为：[4,35,8]；同样的方式，张量B 保存了剩下的6 个班级的成绩册，shape 为\n",
    "[6,35,8]。通过合并2 个成绩册，便可得到学校所有班级的成绩册张量C，shape 应为\n",
    "[10,35,8]。这就是张量合并的意义所在。张量的合并可以使用拼接(Concatenate)和堆叠\n",
    "(Stack)操作实现，拼接并不会产生新的维度，而堆叠会创建新维度。选择使用拼接还是堆\n",
    "叠操作来合并张量，取决于具体的场景是否需要创建新维度。<br>\n",
    "　　拼接 在TensorFlow 中，可以通过tf.concat(tensors, axis)，其中tensors 保存了所有需要\n",
    "合并的张量List，axis 指定需要合并的维度。回到上面的例子，这里班级维度索引号为0，\n",
    "即axis=0，合并张量A,B 如下："
   ]
  },
  {
   "cell_type": "code",
   "execution_count": 1,
   "metadata": {},
   "outputs": [
    {
     "name": "stdout",
     "output_type": "stream",
     "text": [
      "2.3.0\n"
     ]
    }
   ],
   "source": [
    "import tensorflow as tf\n",
    "print(tf.__version__)"
   ]
  },
  {
   "cell_type": "code",
   "execution_count": 2,
   "metadata": {},
   "outputs": [
    {
     "data": {
      "text/plain": [
       "TensorShape([10, 35, 8])"
      ]
     },
     "execution_count": 2,
     "metadata": {},
     "output_type": "execute_result"
    }
   ],
   "source": [
    "a = tf.random.normal([4,35,8]) # 模拟成绩册A\n",
    "b = tf.random.normal([6,35,8]) # 模拟成绩册B\n",
    "tf.concat([a,b], axis=0).shape"
   ]
  },
  {
   "cell_type": "markdown",
   "metadata": {},
   "source": [
    "　　除了可以在班级维度上进行合并，还可以在其他维度上合并张量。考虑张量A 保存了\n",
    "所有班级所有学生的前4 门科目成绩，shape 为[10,35,4]，张量B 保存了剩下的4 门科目\n",
    "成绩，shape 为[10,35,4]，则可以合并shape 为[10,35,8]的总成绩册张量："
   ]
  },
  {
   "cell_type": "code",
   "execution_count": 3,
   "metadata": {},
   "outputs": [
    {
     "data": {
      "text/plain": [
       "TensorShape([10, 35, 8])"
      ]
     },
     "execution_count": 3,
     "metadata": {},
     "output_type": "execute_result"
    }
   ],
   "source": [
    "a = tf.random.normal([10,35,4])\n",
    "b = tf.random.normal([10,35,4])\n",
    "tf.concat([a,b],axis=2).shape # 在科目维度拼接"
   ]
  },
  {
   "cell_type": "markdown",
   "metadata": {},
   "source": [
    "合并操作可以在任意的维度上进行，唯一的约束是非合并维度的长度必须一致。比如shape\n",
    "为[4,32,8]和shape 为[6,35,8]的张量则不能直接在班级维度上进行合并，因为学生数维度的\n",
    "长度并不一致，一个为32，另一个为35："
   ]
  },
  {
   "cell_type": "code",
   "execution_count": 4,
   "metadata": {},
   "outputs": [],
   "source": [
    "a = tf.random.normal([4,32,8])\n",
    "b = tf.random.normal([6,35,8])\n",
    "#tf.concat([a,b],axis=0) # 非法拼接"
   ]
  },
  {
   "attachments": {
    "image.png": {
     "image/png": "[encoded data removed]"
    }
   },
   "cell_type": "markdown",
   "metadata": {},
   "source": [
    "　　堆叠 tf.concat 直接在现有维度上面合并数据，并不会创建新的维度。如果在合并数据\n",
    "时，希望创建一个新的维度，则需要使用tf.stack 操作。考虑张量A 保存了某个班级的成\n",
    "绩册，shape 为[35,8]，张量B 保存了另一个班级的成绩册，shape 为[35,8]。合并这2 个班\n",
    "级的数据时，需要创建一个新维度，定义为班级维度，新维度可以选择放置在任意位置，\n",
    "一般根据大小维度的经验法则，将较大概念的班级维度放置在学生维度之前，则合并后的\n",
    "张量的新shape 应为[2,35,8]。\n",
    "　　使用 tf.stack(tensors, axis)可以合并多个张量tensors，其中axis 指定插入新维度的位\n",
    "置，axis 的用法与tf.expand_dims 的一致，当axis ≥ 0时，在axis 之前插入;当axis < 0时，\n",
    "在axis 之后插入新维度。例如shape 为[𝑏, 𝑐, ℎ, 𝑤]的张量，在不同位置通过stack 操作插入\n",
    "新维度，axis 参数对应的插入位置设置如图 5.1 所示：\n",
    "![image.png](attachment:image.png)\n",
    "堆叠方式合并这2 个班级成绩册如下"
   ]
  },
  {
   "cell_type": "code",
   "execution_count": 5,
   "metadata": {},
   "outputs": [
    {
     "data": {
      "text/plain": [
       "TensorShape([2, 35, 8])"
      ]
     },
     "execution_count": 5,
     "metadata": {},
     "output_type": "execute_result"
    }
   ],
   "source": [
    "a = tf.random.normal([35,8])\n",
    "b = tf.random.normal([35,8])\n",
    "tf.stack([a,b],axis=0).shape # 堆叠合并为2 个班级"
   ]
  },
  {
   "cell_type": "markdown",
   "metadata": {},
   "source": [
    "同样可以选择在其他位置插入新维度，如在最末尾插入："
   ]
  },
  {
   "cell_type": "code",
   "execution_count": 6,
   "metadata": {},
   "outputs": [
    {
     "data": {
      "text/plain": [
       "TensorShape([35, 8, 2])"
      ]
     },
     "execution_count": 6,
     "metadata": {},
     "output_type": "execute_result"
    }
   ],
   "source": [
    "a = tf.random.normal([35,8])\n",
    "b = tf.random.normal([35,8])\n",
    "tf.stack([a,b],axis=-1).shape"
   ]
  },
  {
   "cell_type": "markdown",
   "metadata": {},
   "source": [
    "此时班级的维度在axis=2 轴上面，理解时也需要按着最新的维度顺序去理解数据。若选择\n",
    "使用tf.concat 上述成绩单，则可以合并为："
   ]
  },
  {
   "cell_type": "code",
   "execution_count": 7,
   "metadata": {},
   "outputs": [],
   "source": [
    "a = tf.random.normal([35,8])\n",
    "b = tf.random.normal([35,8])\n",
    "#tf.concat([a,b],axis=0).shape 拼接方式合并，没有2 个班级的概念"
   ]
  },
  {
   "cell_type": "markdown",
   "metadata": {},
   "source": [
    "　　tf.concat 也可以顺利合并数据，但是在理解时，需要按着前35 个学生来自第一个班级，后\n",
    "35 个学生来自第二个班级的方式。在这里，明显通过tf.stack 方式创建新维度的方式更合\n",
    "理，得到的shape 为[2,35,8]的张量也更容易理解。<br>\n",
    "　　tf.stack 也需要满足张量堆叠合并条件，它需要所有合并的张量shape 完全一致才可合\n",
    "并。我们来看张量shape 不一致时进行堆叠合并会发生的错误："
   ]
  },
  {
   "cell_type": "code",
   "execution_count": 8,
   "metadata": {},
   "outputs": [],
   "source": [
    "a = tf.random.normal([35,4])\n",
    "b = tf.random.normal([35,8])\n",
    "# tf.stack([a,b],axis=-1) # 非法堆叠操作"
   ]
  },
  {
   "cell_type": "markdown",
   "metadata": {},
   "source": [
    "上述操作尝试合并shape 为[35,4]和[35,8]的2 个张量，由于2 者形状不一致，无法完成合\n",
    "并操作。"
   ]
  },
  {
   "cell_type": "markdown",
   "metadata": {},
   "source": [
    "### 分割\n",
    "　　合并操作的逆过程就是分割，将一个张量分拆为多个张量。继续考虑成绩册的例子，\n",
    "我们得到整个学校的成绩册张量，shape 为[10,35,8]，现在需要将数据在班级维度切割为\n",
    "10 个张量，每个张量保存了对应班级的成绩册。\n",
    "   通过 tf.split(x, axis, num_or_size_splits)可以完成张量的分割操作，其中\n",
    "❑ x：待分割张量\n",
    "❑ axis：分割的维度索引号\n",
    "❑ num_or_size_splits：切割方案。当num_or_size_splits 为单个数值时，如10，表示切割\n",
    "为10 份；当num_or_size_splits 为List 时，每个元素表示每份的长度，如[2,4,2,2]表示\n",
    "切割为4 份，每份的长度分别为2,4,2,2\n",
    "现在我们将总成绩册张量切割为10 份：\n",
    "In [8]:\n",
    "x = tf.random.normal([10,35,8])"
   ]
  },
  {
   "cell_type": "code",
   "execution_count": 9,
   "metadata": {},
   "outputs": [
    {
     "data": {
      "text/plain": [
       "TensorShape([1, 35, 8])"
      ]
     },
     "execution_count": 9,
     "metadata": {},
     "output_type": "execute_result"
    }
   ],
   "source": [
    "# 等长切割\n",
    "x = tf.random.normal([10,35,8])\n",
    "result = tf.split(x,axis=0,num_or_size_splits=10)\n",
    "result[0].shape"
   ]
  },
  {
   "cell_type": "markdown",
   "metadata": {},
   "source": [
    "可以看到，切割后的班级shape 为[1,35,8]，保留了班级维度，这一点需要注意。<br>\n",
    "　　我们进行不等长的切割：将数据切割为4 份，每份长度分别为[4,2,2,2]:"
   ]
  },
  {
   "cell_type": "code",
   "execution_count": 10,
   "metadata": {},
   "outputs": [
    {
     "data": {
      "text/plain": [
       "TensorShape([4, 35, 8])"
      ]
     },
     "execution_count": 10,
     "metadata": {},
     "output_type": "execute_result"
    }
   ],
   "source": [
    "x = tf.random.normal([10,35,8])\n",
    "# 自定义长度的切割\n",
    "result = tf.split(x,axis=0,num_or_size_splits=[4,2,2,2])\n",
    "# 查看第一个张量的shape，根据我们的切割方案，它应该包含了4 个班级的成绩册：\n",
    "result[0].shape"
   ]
  },
  {
   "cell_type": "markdown",
   "metadata": {},
   "source": [
    "特别地，如果希望在某个维度上全部按长度为1 的方式分割，还可以直接使用tf.unstack(x,\n",
    "axis)。这种方式是tf.split 的一种特殊情况，切割长度固定为1，只需要指定切割维度即\n",
    "可。例如，将总成绩册张量在班级维度进行unstack："
   ]
  },
  {
   "cell_type": "markdown",
   "metadata": {},
   "source": [
    "特别地，如果希望在某个维度上全部按长度为1 的方式分割，还可以直接使用tf.unstack(x,\n",
    "axis)。这种方式是tf.split 的一种特殊情况，切割长度固定为1，只需要指定切割维度即\n",
    "可。例如，将总成绩册张量在班级维度进行unstack："
   ]
  },
  {
   "cell_type": "code",
   "execution_count": 11,
   "metadata": {},
   "outputs": [
    {
     "data": {
      "text/plain": [
       "10"
      ]
     },
     "execution_count": 11,
     "metadata": {},
     "output_type": "execute_result"
    }
   ],
   "source": [
    "x = tf.random.normal([10,35,8])\n",
    "result = tf.unstack(x,axis=0)\n",
    "len(result)"
   ]
  },
  {
   "cell_type": "markdown",
   "metadata": {},
   "source": [
    "查看切割后的张量的形状："
   ]
  },
  {
   "cell_type": "code",
   "execution_count": 12,
   "metadata": {},
   "outputs": [
    {
     "data": {
      "text/plain": [
       "TensorShape([35, 8])"
      ]
     },
     "execution_count": 12,
     "metadata": {},
     "output_type": "execute_result"
    }
   ],
   "source": [
    "result[0].shape"
   ]
  },
  {
   "cell_type": "markdown",
   "metadata": {},
   "source": [
    "可以看到，通过tf.unstack 切割后，shape 变为[35,8]，即班级维度消失了，这也是与tf.split\n",
    "区别之处。"
   ]
  },
  {
   "cell_type": "markdown",
   "metadata": {},
   "source": [
    "## 数据统计\n",
    "　　在神经网络的计算过程中，经常需要统计数据的各种属性，如最大值，均值，范数等\n",
    "等。由于张量通常shape 较大，直接观察数据很难获得有用信息，通过观察这些张量统计\n",
    "信息可以较轻松地推测张量数值的分布。"
   ]
  },
  {
   "cell_type": "markdown",
   "metadata": {},
   "source": [
    "### 向量范数\n",
    "　　向量范数(Vector norm)是表征向量“长度”的一种度量方法，在神经网络中，常用来\n",
    "表示张量的权值大小，梯度大小等。常用的向量范数有：\n",
    "❑ L1 范数，定义为向量𝒙的所有元素绝对值之和\n",
    "$$|x|_1 = \\sum_i|x|$$\n",
    "\n",
    "❑ L2 范数，定义为向量𝒙的所有元素的平方和，再开根号\n",
    "$$‖𝒙‖_2 = \\sqrt{\\sum_i[x_i|^2}$$\n",
    "❑ ∞ −范数，定义为向量𝒙的所有元素绝对值的最大值：\n",
    "$$‖𝒙‖_∞ = 𝑚𝑎𝑥_i(|𝑥_i|)$$\n",
    "对于矩阵、张量，同样可以利用向量范数的计算公式，等价于将矩阵、张量打平成向量后\n",
    "计算。<br>\n",
    "　　在 TensorFlow 中，可以通过tf.norm(x, ord)求解张量的L1, L2, ∞等范数，其中参数ord\n",
    "指定为1,2 时计算L1, L2 范数，指定为np.inf 时计算∞ −范数："
   ]
  },
  {
   "cell_type": "code",
   "execution_count": 13,
   "metadata": {},
   "outputs": [
    {
     "data": {
      "text/plain": [
       "<tf.Tensor: shape=(), dtype=float32, numpy=4.0>"
      ]
     },
     "execution_count": 13,
     "metadata": {},
     "output_type": "execute_result"
    }
   ],
   "source": [
    "x = tf.ones([2,2])\n",
    "tf.norm(x,ord=1)# 计算L1 范数"
   ]
  },
  {
   "cell_type": "code",
   "execution_count": 14,
   "metadata": {},
   "outputs": [
    {
     "data": {
      "text/plain": [
       "<tf.Tensor: shape=(), dtype=float32, numpy=2.0>"
      ]
     },
     "execution_count": 14,
     "metadata": {},
     "output_type": "execute_result"
    }
   ],
   "source": [
    "tf.norm(x,ord=2) # 计算L2 范数"
   ]
  },
  {
   "cell_type": "code",
   "execution_count": 15,
   "metadata": {},
   "outputs": [
    {
     "data": {
      "text/plain": [
       "<tf.Tensor: shape=(), dtype=float32, numpy=1.0>"
      ]
     },
     "execution_count": 15,
     "metadata": {},
     "output_type": "execute_result"
    }
   ],
   "source": [
    "import numpy as np\n",
    "tf.norm(x,ord=np.inf) # 计算∞范数"
   ]
  },
  {
   "cell_type": "markdown",
   "metadata": {},
   "source": [
    "### 最大最小值、均值、和\n",
    "　　通过 tf.reduce_max, tf.reduce_min, tf.reduce_mean, tf.reduce_sum 可以求解张量在某个维\n",
    "度上的最大、最小、均值、和，也可以求全局最大、最小、均值、和信息。<br>\n",
    "　　考虑 shape 为[4,10]的张量，其中第一个维度代表样本数量，第二个维度代表了当前样\n",
    "本分别属于10 个类别的概率，需要求出每个样本的概率最大值为："
   ]
  },
  {
   "cell_type": "code",
   "execution_count": 16,
   "metadata": {},
   "outputs": [
    {
     "data": {
      "text/plain": [
       "<tf.Tensor: shape=(4,), dtype=float32, numpy=array([1.2743244, 1.404152 , 2.4470267, 1.8338467], dtype=float32)>"
      ]
     },
     "execution_count": 16,
     "metadata": {},
     "output_type": "execute_result"
    }
   ],
   "source": [
    "x = tf.random.normal([4,10])\n",
    "tf.reduce_max(x,axis=1) # 统计概率维度上的最大值"
   ]
  },
  {
   "cell_type": "markdown",
   "metadata": {},
   "source": [
    "同样求出每个样本概率的最小值："
   ]
  },
  {
   "cell_type": "code",
   "execution_count": 17,
   "metadata": {},
   "outputs": [
    {
     "data": {
      "text/plain": [
       "<tf.Tensor: shape=(4,), dtype=float32, numpy=array([-1.7123268, -1.2282012, -1.0489168, -1.3809131], dtype=float32)>"
      ]
     },
     "execution_count": 17,
     "metadata": {},
     "output_type": "execute_result"
    }
   ],
   "source": [
    "tf.reduce_min(x, axis=1) # 统计概率维度上的最小值"
   ]
  },
  {
   "cell_type": "markdown",
   "metadata": {},
   "source": [
    "求出每个样本的概率的均值："
   ]
  },
  {
   "cell_type": "code",
   "execution_count": 18,
   "metadata": {},
   "outputs": [
    {
     "data": {
      "text/plain": [
       "<tf.Tensor: shape=(4,), dtype=float32, numpy=array([ 0.11338934, -0.16105404,  0.22674504,  0.17579333], dtype=float32)>"
      ]
     },
     "execution_count": 18,
     "metadata": {},
     "output_type": "execute_result"
    }
   ],
   "source": [
    "tf.reduce_mean(x,axis=1) # 统计概率维度上的均值"
   ]
  },
  {
   "cell_type": "markdown",
   "metadata": {},
   "source": [
    "当不指定axis 参数时，tf.reduce_*函数会求解出全局元素的最大、最小、均值、和："
   ]
  },
  {
   "cell_type": "code",
   "execution_count": 19,
   "metadata": {},
   "outputs": [
    {
     "data": {
      "text/plain": [
       "(<tf.Tensor: shape=(), dtype=float32, numpy=6.0>,\n",
       " <tf.Tensor: shape=(), dtype=float32, numpy=1.0>,\n",
       " <tf.Tensor: shape=(3,), dtype=float32, numpy=array([2.5, 3.5, 4.5], dtype=float32)>)"
      ]
     },
     "execution_count": 19,
     "metadata": {},
     "output_type": "execute_result"
    }
   ],
   "source": [
    "x = tf.constant([[1,2,3],[4,5,6.0]])\n",
    "# 统计全局的最大、最小、均值、和\n",
    "tf.reduce_max(x),tf.reduce_min(x),tf.reduce_mean(x, axis=0)"
   ]
  },
  {
   "cell_type": "markdown",
   "metadata": {},
   "source": [
    "　　在求解误差函数时，通过TensorFlow 的MSE 误差函数可以求得每个样本的误差，需\n",
    "要计算样本的平均误差，此时可以通过tf.reduce_mean 在样本数维度上计算均值："
   ]
  },
  {
   "cell_type": "code",
   "execution_count": 20,
   "metadata": {},
   "outputs": [
    {
     "data": {
      "text/plain": [
       "<tf.Tensor: shape=(), dtype=float32, numpy=0.7387788>"
      ]
     },
     "execution_count": 20,
     "metadata": {},
     "output_type": "execute_result"
    }
   ],
   "source": [
    "out = tf.random.normal([4,10]) # 网络预测输出\n",
    "y = tf.constant([1,2,2,0]) # 真实标签\n",
    "y = tf.one_hot(y,depth=10) # one-hot 编码\n",
    "loss = tf.keras.losses.mse(y,out) # 计算每个样本的误差\n",
    "loss = tf.reduce_mean(loss) # 平均误差\n",
    "loss"
   ]
  },
  {
   "cell_type": "markdown",
   "metadata": {},
   "source": [
    "　　与均值函数相似的是求和函数tf.reduce_sum(x,axis)，它可以求解张量在axis 轴上所有\n",
    "特征的和："
   ]
  },
  {
   "cell_type": "code",
   "execution_count": 21,
   "metadata": {},
   "outputs": [
    {
     "data": {
      "text/plain": [
       "<tf.Tensor: shape=(4,), dtype=float32, numpy=array([-0.5561805 ,  0.18268502,  1.0518849 ,  2.4463663 ], dtype=float32)>"
      ]
     },
     "execution_count": 21,
     "metadata": {},
     "output_type": "execute_result"
    }
   ],
   "source": [
    "out = tf.random.normal([4,10])\n",
    "tf.reduce_sum(out,axis=-1) # 求和"
   ]
  },
  {
   "cell_type": "markdown",
   "metadata": {},
   "source": [
    "　　除了希望获取张量的最值信息，还希望获得最值所在的索引号，例如分类任务的标签\n",
    "预测。考虑10 分类问题，我们得到神经网络的输出张量out，shape 为[2,10]，代表了2 个\n",
    "样本属于10 个类别的概率，由于元素的位置索引代表了当前样本属于此类别的概率，预测\n",
    "时往往会选择概率值最大的元素所在的索引号作为样本类别的预测值："
   ]
  },
  {
   "cell_type": "code",
   "execution_count": 22,
   "metadata": {},
   "outputs": [
    {
     "data": {
      "text/plain": [
       "<tf.Tensor: shape=(2, 10), dtype=float32, numpy=\n",
       "array([[0.45999265, 0.02899059, 0.06703795, 0.0151391 , 0.14351684,\n",
       "        0.09565711, 0.04597478, 0.07021166, 0.01258483, 0.06089447],\n",
       "       [0.01637892, 0.2116283 , 0.05096561, 0.02223615, 0.0253121 ,\n",
       "        0.01464137, 0.30043292, 0.12061322, 0.21090032, 0.02689112]],\n",
       "      dtype=float32)>"
      ]
     },
     "execution_count": 22,
     "metadata": {},
     "output_type": "execute_result"
    }
   ],
   "source": [
    "out = tf.random.normal([2,10])\n",
    "out = tf.nn.softmax(out, axis=1) # 通过softmax 转换为概率值\n",
    "out"
   ]
  },
  {
   "cell_type": "markdown",
   "metadata": {},
   "source": [
    "以第一个样本为例，可以看到，它概率最大的索引为𝑖 = 0，最大概率值为0.1877。由于每\n",
    "个索引号上的概率值代表了样本属于此索引号的类别的概率，因此第一个样本属于0 类的\n",
    "概率最大，在预测时考虑第一个样本应该最有可能属于类别0。这就是需要求解最大值的\n",
    "索引号的一个典型应用。<br>\n",
    "　　通过 tf.argmax(x, axis)，tf.argmin(x, axis)可以求解在axis 轴上，x 的最大值、最小值所\n",
    "在的索引号："
   ]
  },
  {
   "cell_type": "code",
   "execution_count": 23,
   "metadata": {},
   "outputs": [
    {
     "data": {
      "text/plain": [
       "<tf.Tensor: shape=(2,), dtype=int64, numpy=array([0, 6], dtype=int64)>"
      ]
     },
     "execution_count": 23,
     "metadata": {},
     "output_type": "execute_result"
    }
   ],
   "source": [
    "pred = tf.argmax(out, axis=1) # 选取概率最大的位置\n",
    "pred"
   ]
  },
  {
   "cell_type": "markdown",
   "metadata": {},
   "source": [
    "可以看到，这2 个样本概率最大值都出现在索引3 上，因此最有可能都是类别3，我们将\n",
    "类别3作为这2 个样本的预测类别。"
   ]
  }
 ],
 "metadata": {
  "kernelspec": {
   "display_name": "Python 3.6.5 64-bit (virtualenv)",
   "language": "python",
   "name": "python36564bitvirtualenv79ef5016a2c942c8bd4aafa0131f5f75"
  },
  "language_info": {
   "codemirror_mode": {
    "name": "ipython",
    "version": 3
   },
   "file_extension": ".py",
   "mimetype": "text/x-python",
   "name": "python",
   "nbconvert_exporter": "python",
   "pygments_lexer": "ipython3",
   "version": "3.6.5"
  },
  "toc": {
   "base_numbering": 1,
   "nav_menu": {
    "height": "50px",
    "width": "290px"
   },
   "number_sections": true,
   "sideBar": true,
   "skip_h1_title": false,
   "title_cell": "Table of Contents",
   "title_sidebar": "Contents",
   "toc_cell": false,
   "toc_position": {},
   "toc_section_display": true,
   "toc_window_display": true
  }
 },
 "nbformat": 4,
 "nbformat_minor": 2
}
