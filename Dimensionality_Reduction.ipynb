{
 "cells": [
  {
   "cell_type": "code",
   "execution_count": 14,
   "metadata": {},
   "outputs": [
    {
     "name": "stdout",
     "output_type": "stream",
     "text": [
      "[[-1.11022302e-16  9.48683298e-01  1.00891517e-14  3.16220441e-01\n",
      "  -2.15236174e-03 -2.77555756e-17]\n",
      " [-1.38777878e-17  3.16227766e-01  3.33066907e-15 -9.48661323e-01\n",
      "   6.45708523e-03  0.00000000e+00]\n",
      " [-1.94321739e-01 -3.60822483e-15  3.59034439e-01  6.21333316e-03\n",
      "   9.12849784e-01 -1.19452433e-16]\n",
      " [-3.88643478e-01 -7.77156117e-15  7.18068878e-01 -2.48533326e-03\n",
      "  -3.65139914e-01 -4.47213595e-01]\n",
      " [-8.79451176e-01  5.10702591e-15 -4.75989106e-01  1.11022302e-16\n",
      "   1.23599048e-17 -2.65760800e-17]\n",
      " [-1.94321739e-01 -3.91353616e-15  3.59034439e-01 -1.24266663e-03\n",
      "  -1.82569957e-01  8.94427191e-01]]\n",
      "奇异矩阵:[7.95345696e+00 4.47213595e+00 2.17773330e+00 2.36039378e-16\n",
      " 1.35233659e-17]\n",
      "88.00000000000001\n",
      "79.20000000000002\n",
      "88.00000000000001\n"
     ]
    }
   ],
   "source": [
    "import numpy as np\n",
    "data = [\n",
    "        [0, 0, 0, 3, 3],\n",
    "        [0, 0, 0, 1, 1],\n",
    "        [1, 1, 1, 0, 0],\n",
    "        [2, 2, 2, 0, 0],\n",
    "        [5, 0, 5, 0, 0],\n",
    "        [1, 1, 1, 0, 0]]\n",
    "\n",
    "myMat = np.mat(data)\n",
    "U,sigma,VT = np.linalg.svd(myMat)\n",
    "print(U)\n",
    "print('奇异矩阵:{}'.format(sigma))\n",
    "sigma = sigma**2    # 对奇异值求平方\n",
    "cnt = sum(sigma)    # 所有奇异值的和\n",
    "print(cnt)\n",
    "value = cnt*0.9     # 90%奇异值能量\n",
    "print(value)\n",
    "cnt2 = sum(sigma[:3])   # 2小于90%，前3个则大于90%，所以这里选择前三个奇异值\n",
    "print(cnt2)"
   ]
  }
 ],
 "metadata": {
  "kernelspec": {
   "display_name": "Python 3",
   "language": "python",
   "name": "python3"
  },
  "language_info": {
   "codemirror_mode": {
    "name": "ipython",
    "version": 3
   },
   "file_extension": ".py",
   "mimetype": "text/x-python",
   "name": "python",
   "nbconvert_exporter": "python",
   "pygments_lexer": "ipython3",
   "version": "3.6.5"
  },
  "toc": {
   "base_numbering": 1,
   "nav_menu": {},
   "number_sections": true,
   "sideBar": true,
   "skip_h1_title": false,
   "title_cell": "Table of Contents",
   "title_sidebar": "Contents",
   "toc_cell": false,
   "toc_position": {},
   "toc_section_display": true,
   "toc_window_display": false
  }
 },
 "nbformat": 4,
 "nbformat_minor": 2
}
