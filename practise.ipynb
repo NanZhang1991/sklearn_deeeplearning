{
 "cells": [
  {
   "cell_type": "code",
   "execution_count": 55,
   "metadata": {},
   "outputs": [],
   "source": [
    ">>> from gensim.test.utils import common_texts, get_tmpfile\n",
    ">>> from gensim.models import Word2Vec\n",
    ">>>\n",
    ">>> path = get_tmpfile(\"data/word2vec.model\")\n",
    ">>>\n",
    ">>> model = Word2Vec(common_texts, size=100, window=5, min_count=1, workers=4)\n",
    ">>> model.save(\"data/word2vec.model\")"
   ]
  },
  {
   "cell_type": "code",
   "execution_count": 56,
   "metadata": {},
   "outputs": [
    {
     "data": {
      "text/plain": [
       "[['human', 'interface', 'computer'],\n",
       " ['survey', 'user', 'computer', 'system', 'response', 'time'],\n",
       " ['eps', 'user', 'interface', 'system'],\n",
       " ['system', 'human', 'system', 'eps'],\n",
       " ['user', 'response', 'time'],\n",
       " ['trees'],\n",
       " ['graph', 'trees'],\n",
       " ['graph', 'minors', 'trees'],\n",
       " ['graph', 'minors', 'survey']]"
      ]
     },
     "execution_count": 56,
     "metadata": {},
     "output_type": "execute_result"
    }
   ],
   "source": [
    ">>> model = Word2Vec.load(\"data/word2vec.model\")\n",
    ">>> model.train([[\"hello\", \"world\"]], total_examples=1, epochs=1)\n",
    "common_texts"
   ]
  },
  {
   "cell_type": "code",
   "execution_count": 97,
   "metadata": {},
   "outputs": [
    {
     "name": "stderr",
     "output_type": "stream",
     "text": [
      "C:\\Anaconda3\\lib\\site-packages\\ipykernel_launcher.py:1: DeprecationWarning: Call to deprecated `__getitem__` (Method will be removed in 4.0.0, use self.wv.__getitem__() instead).\n",
      "  \"\"\"Entry point for launching an IPython kernel.\n"
     ]
    },
    {
     "data": {
      "text/plain": [
       "array([ 2.9083199e-03,  1.7870375e-03,  6.9258349e-05, -4.7810287e-03,\n",
       "       -4.9272776e-03, -2.6398415e-03,  4.7830949e-03,  4.5500775e-03,\n",
       "       -4.3868204e-03,  9.8346977e-04, -1.2550604e-03,  5.9561484e-04,\n",
       "       -2.8267486e-03,  2.5770364e-03, -2.9882132e-03,  4.9326443e-03,\n",
       "       -1.7867049e-03,  4.5792861e-03,  4.1575771e-04, -3.0084427e-03,\n",
       "       -3.8217097e-03,  7.8455248e-04,  6.5251625e-05,  2.6882573e-03,\n",
       "       -2.8859629e-04,  3.2874551e-03,  4.9294704e-03,  3.9535984e-03,\n",
       "       -1.6621455e-04,  2.8157831e-04, -2.6895627e-03,  2.6021455e-03,\n",
       "       -6.7278190e-04, -2.2842109e-03, -2.3492496e-03,  2.1767621e-03,\n",
       "        1.6901253e-03, -1.3646283e-03,  1.0874862e-03,  1.8463914e-03,\n",
       "        3.9865850e-03, -2.8747099e-03, -7.5191382e-04,  2.5424953e-03,\n",
       "       -4.8496234e-03, -4.0967660e-03,  4.7882642e-03, -2.2087358e-03,\n",
       "       -1.3962407e-03, -3.3396673e-03, -4.0045567e-03,  1.1013805e-04,\n",
       "       -3.7805974e-03, -4.9345507e-03,  1.5786857e-03,  3.1822824e-03,\n",
       "        3.6971797e-03,  3.2761504e-03, -7.5896783e-04, -1.6452431e-03,\n",
       "        3.9012129e-03,  4.8812279e-03, -1.6240733e-03, -1.1776540e-03,\n",
       "        2.3610299e-03, -3.9886171e-03, -2.1528190e-03, -3.4058550e-03,\n",
       "       -1.9425926e-03,  2.8499104e-03,  4.7169877e-03,  3.2164881e-03,\n",
       "        1.9085793e-03,  4.4390569e-03, -3.0709971e-03,  1.4115614e-03,\n",
       "       -2.7139581e-04, -2.3855024e-03,  1.2024229e-03,  3.7275478e-03,\n",
       "       -3.8000047e-03, -4.1491029e-04, -2.1943648e-03,  1.0691285e-03,\n",
       "        1.0536838e-03,  1.0970974e-03,  1.9231265e-04, -2.3686136e-03,\n",
       "        1.8698036e-03, -9.5319771e-04,  3.4076227e-03, -2.2298913e-03,\n",
       "        2.0962257e-03, -1.6730309e-03,  4.6112663e-03,  1.0667697e-03,\n",
       "        3.5417569e-03, -3.5814089e-03,  2.6724779e-03, -1.5255362e-03],\n",
       "      dtype=float32)"
      ]
     },
     "execution_count": 97,
     "metadata": {},
     "output_type": "execute_result"
    }
   ],
   "source": [
    "model['trees']"
   ]
  },
  {
   "cell_type": "code",
   "execution_count": 106,
   "metadata": {},
   "outputs": [
    {
     "data": {
      "text/plain": [
       "array([-4.7310931e-03,  2.5978442e-03, -4.9039810e-03,  3.6127639e-03,\n",
       "        3.2790576e-04, -1.2685419e-03, -1.0347128e-03, -1.5314163e-03,\n",
       "       -9.9875056e-04, -9.8539202e-04,  2.9120150e-03, -5.8144669e-04,\n",
       "        1.6494241e-03, -3.0702420e-03, -3.4652359e-03,  1.3415037e-03,\n",
       "        4.0216404e-03,  3.6032959e-03,  8.8519417e-04,  5.9714174e-04,\n",
       "        2.9001215e-03, -2.5481172e-03, -1.5955046e-04,  2.7483199e-03,\n",
       "       -2.8453139e-03,  1.8681386e-03, -1.0077461e-03,  3.9819204e-03,\n",
       "        3.4475049e-03, -4.9448982e-03,  3.3007935e-03, -1.4271759e-03,\n",
       "        4.0570735e-03,  4.1237297e-03,  8.0263685e-04, -3.1603042e-03,\n",
       "       -4.5145466e-03,  1.8385125e-04, -1.0102734e-03, -1.5855589e-03,\n",
       "        3.1968488e-04, -2.2092615e-03,  1.1845016e-03,  1.8931427e-03,\n",
       "       -3.6260239e-03, -1.7366653e-04,  2.9979838e-04, -7.2606670e-04,\n",
       "        3.4617658e-03,  4.2569637e-03, -6.7295448e-04,  2.8078833e-03,\n",
       "       -4.3179323e-03,  1.3322869e-03, -1.3193241e-03,  2.4255041e-03,\n",
       "       -2.7506452e-04, -3.2590292e-03, -9.2186022e-04,  4.0545287e-03,\n",
       "        3.4298166e-03,  4.9465746e-03, -2.9607704e-03, -1.8690206e-03,\n",
       "       -2.8947527e-03,  7.0029043e-04, -2.7742877e-03,  1.1582315e-03,\n",
       "        2.8933100e-03, -3.6568886e-03, -1.3395332e-03, -4.1003772e-03,\n",
       "       -2.0943998e-04,  4.1555302e-04,  5.6055429e-05, -1.6139258e-03,\n",
       "        2.8759656e-03, -1.6188313e-03, -4.0725530e-03, -4.2527881e-03,\n",
       "       -1.5539923e-03,  2.3730374e-03, -8.5575785e-04,  1.8844157e-04,\n",
       "       -2.0055575e-03,  1.1332671e-03, -8.9160807e-05, -4.0383050e-03,\n",
       "       -3.8362618e-03,  4.4168117e-03, -1.0621002e-03,  2.0127865e-03,\n",
       "        5.7836750e-04,  4.0918645e-03,  2.5438709e-04,  1.7753622e-03,\n",
       "        4.3820925e-03,  1.7993915e-03,  4.5773773e-03,  4.8901717e-04],\n",
       "      dtype=float32)"
      ]
     },
     "execution_count": 106,
     "metadata": {},
     "output_type": "execute_result"
    }
   ],
   "source": [
    " model.wv['computer']"
   ]
  },
  {
   "cell_type": "code",
   "execution_count": 57,
   "metadata": {},
   "outputs": [
    {
     "data": {
      "text/plain": [
       "array([ 2.4187784e-03,  5.0532457e-04, -2.9511479e-04,  1.3120284e-03,\n",
       "       -1.2331866e-03, -3.7331718e-03, -2.1309862e-03, -1.1463152e-03,\n",
       "        1.1657058e-03,  4.4366112e-03, -3.2638111e-03,  7.7159217e-05,\n",
       "       -3.4382556e-05,  3.7433251e-03, -1.5396409e-03,  3.3216751e-03,\n",
       "        4.3154708e-03,  2.8092486e-03, -3.2986500e-03,  3.7034196e-03,\n",
       "        5.5812480e-04,  3.1526252e-03, -6.8111677e-04, -3.5561949e-03,\n",
       "       -1.6248567e-03,  2.6530197e-03, -1.5988880e-03,  6.7809422e-04,\n",
       "       -4.4249743e-04,  3.1326537e-03, -3.8196347e-03,  1.2415235e-03,\n",
       "       -4.5662597e-03,  5.9858093e-04, -4.3840008e-03,  4.4498112e-04,\n",
       "        3.8446186e-03,  4.3726848e-03,  1.8561848e-03, -2.1330614e-03,\n",
       "        4.6117948e-03, -9.1384813e-05, -1.6925505e-03, -4.7467617e-04,\n",
       "        2.2154986e-03, -4.6522026e-03,  3.1433024e-03,  3.6286647e-03,\n",
       "        2.4325082e-03,  4.0323325e-03,  8.7884348e-04, -3.4762521e-03,\n",
       "        1.9411686e-03,  2.3446351e-03,  3.4753588e-04, -3.5901070e-03,\n",
       "       -4.9623940e-03, -3.6976906e-03, -4.2238426e-03, -2.9606377e-03,\n",
       "       -1.4744105e-03,  2.2545010e-03,  3.4478123e-03, -4.0392475e-03,\n",
       "        4.4684475e-03,  4.6497970e-03, -6.8183918e-04,  2.4009902e-04,\n",
       "        3.0464286e-03,  3.3561157e-03, -3.4013963e-03,  4.3940251e-03,\n",
       "       -4.4211349e-03, -4.1781496e-03,  1.5663229e-04, -4.3309326e-03,\n",
       "        2.9677001e-03, -2.1048987e-04,  2.5491868e-03, -3.4903572e-03,\n",
       "        1.3445970e-04,  1.1865691e-03,  2.9496982e-04, -2.6434837e-03,\n",
       "        1.8176351e-03,  1.9092372e-03,  3.8340653e-03,  1.8632339e-03,\n",
       "        4.6477416e-03, -1.7588248e-04,  3.8967249e-03,  2.4671815e-03,\n",
       "       -4.3096030e-03,  1.2732387e-03,  7.7126268e-04,  1.5444780e-03,\n",
       "       -3.9287265e-03,  4.0683956e-03,  9.1640244e-04,  3.1221572e-03],\n",
       "      dtype=float32)"
      ]
     },
     "execution_count": 57,
     "metadata": {},
     "output_type": "execute_result"
    }
   ],
   "source": [
    "from gensim.models import KeyedVectors\n",
    "path = get_tmpfile(\"data/wordvectors.kv\")\n",
    "model.wv.save('data/wordvectors.kv')\n",
    "wv = KeyedVectors.load(\"data/wordvectors.kv\", mmap='r')\n",
    "vector = wv['computer']  # numpy vector of a word\n",
    "vector "
   ]
  },
  {
   "cell_type": "code",
   "execution_count": null,
   "metadata": {},
   "outputs": [],
   "source": [
    "def testtry():\n",
    "    try:\n",
    "        s+1\n",
    "        return 1\n",
    "    except Exception as e\n",
    "     "
   ]
  },
  {
   "cell_type": "code",
   "execution_count": 8,
   "metadata": {},
   "outputs": [
    {
     "data": {
      "text/plain": [
       "array([[ 0.,  0., -4., -1.,  0.,  0.,  0.,  0.,  0.,  2.],\n",
       "       [ 0.,  0.,  0., -2., -5.,  0.,  0.,  0.,  0.,  0.]])"
      ]
     },
     "execution_count": 8,
     "metadata": {},
     "output_type": "execute_result"
    }
   ],
   "source": [
    ">>> from sklearn.feature_extraction import FeatureHasher\n",
    ">>> h = FeatureHasher(n_features=10)\n",
    ">>> D = [{'dog': 1, 'cat':2, 'elephant':4},{'dog': 2, 'run': 5}]\n",
    ">>> f = h.transform(D)\n",
    ">>> f.toarray()"
   ]
  },
  {
   "cell_type": "code",
   "execution_count": 13,
   "metadata": {},
   "outputs": [
    {
     "data": {
      "text/plain": [
       "array([[0, 0, 4, 1, 0, 0, 0, 0, 0, 2],\n",
       "       [0, 0, 0, 2, 5, 0, 0, 0, 0, 0],\n",
       "       [0, 0, 0, 0, 2, 0, 0, 0, 0, 0]])"
      ]
     },
     "execution_count": 13,
     "metadata": {},
     "output_type": "execute_result"
    }
   ],
   "source": [
    "h = FeatureHasher(n_features=10, input_type='string', dtype=int, alternate_sign=False)\n",
    "d = [['dog', 'cat', 'cat', 'elephant', 'elephant','elephant','elephant',],\n",
    "         [\"dog\", \"dog\", \"run\", 'run', 'run', 'run', 'run'],\n",
    "         [\"run\", \"run\"]]\n",
    "f = h.transform(d)\n",
    "f.toarray()"
   ]
  },
  {
   "cell_type": "code",
   "execution_count": 17,
   "metadata": {},
   "outputs": [
    {
     "data": {
      "image/png": "[encoded data removed]",
      "text/plain": [
       "<Figure size 432x288 with 1 Axes>"
      ]
     },
     "metadata": {},
     "output_type": "display_data"
    }
   ],
   "source": [
    ">>> import matplotlib.pyplot as plt  # doctest: +SKIP\n",
    ">>> import numpy as np\n",
    ">>> from sklearn import metrics\n",
    ">>> y = np.array([0, 0, 1, 1])\n",
    ">>> pred = np.array([0.1, 0.4, 0.35, 0.8])\n",
    ">>> fpr, tpr, thresholds = metrics.roc_curve(y, pred)\n",
    ">>> roc_auc = metrics.auc(fpr, tpr)\n",
    ">>> display = metrics.RocCurveDisplay(fpr=fpr, tpr=tpr, roc_auc=roc_auc,                                          estimator_name='example estimator')\n",
    ">>> display.plot()  # doctest: +SKIP\n",
    ">>> plt.show()      # doctest: +SKIP"
   ]
  },
  {
   "cell_type": "code",
   "execution_count": 23,
   "metadata": {},
   "outputs": [
    {
     "data": {
      "image/png": "[encoded data removed]",
      "text/plain": [
       "<Figure size 432x288 with 1 Axes>"
      ]
     },
     "metadata": {},
     "output_type": "display_data"
    }
   ],
   "source": [
    ">>> import matplotlib.pyplot as plt  # doctest: +SKIP\n",
    ">>> from sklearn import datasets, metrics, model_selection, svm\n",
    ">>> X, y = datasets.make_classification(random_state=0)\n",
    ">>> X_train, X_test, y_train, y_test = model_selection.train_test_split( X, y, random_state=0)\n",
    ">>> clf = svm.SVC(random_state=0)\n",
    ">>> clf.fit(X_train, y_train)\n",
    ">>> metrics.plot_roc_curve(clf, X_test, y_test)  # doctest: +SKIP\n",
    ">>> plt.show()       "
   ]
  },
  {
   "cell_type": "code",
   "execution_count": 38,
   "metadata": {},
   "outputs": [
    {
     "name": "stdout",
     "output_type": "stream",
     "text": [
      "1\n"
     ]
    }
   ],
   "source": [
    "import tensorflow as tf\n",
    "x = tf.constant\n",
    "\n",
    "with tf.Session() as sess:\n",
    "    print(x.eval())  # 10"
   ]
  },
  {
   "cell_type": "code",
   "execution_count": 51,
   "metadata": {},
   "outputs": [
    {
     "name": "stdout",
     "output_type": "stream",
     "text": [
      "[[[-0.24155205 -0.7255026  -0.7351182   0.38772482]\n",
      "  [ 0.5803822   0.4791763   0.895223    1.0789442 ]\n",
      "  [ 2.061523    0.10483953 -0.5658233  -0.14038374]]\n",
      "\n",
      " [[ 2.6883085   1.2285256   0.7267159  -0.8367798 ]\n",
      "  [-0.7678014  -1.5983148   0.6805026   0.32451114]\n",
      "  [-0.60150063  1.3093985  -2.1471329   0.31611064]]\n",
      "\n",
      " [[-1.5166705   1.8067182   1.5587927   1.9093909 ]\n",
      "  [ 0.40915293 -0.35705078  1.4477005   0.6874666 ]\n",
      "  [-0.21355632  0.14949061  1.0739168  -0.30748284]]]\n",
      "[[[ 6.3824993e-01  1.3522664e+00  1.1581995e+00  7.7891819e-02\n",
      "   -1.1414057e+00  1.8881436e-01 -6.2856030e-01  7.4661851e-01]\n",
      "  [-5.6377077e-01 -7.6568758e-01 -1.1421908e+00 -5.1136501e-02\n",
      "   -1.6224904e-01 -1.8209958e+00 -1.5831810e-01  7.8006542e-01]\n",
      "  [ 4.8119858e-01 -2.0662133e-02  4.6770683e-01 -1.6390030e+00\n",
      "    1.8013898e+00 -7.5494373e-01  1.1520456e+00  1.6091377e+00]]\n",
      "\n",
      " [[ 1.9509929e-01  9.8894203e-01 -1.3702073e+00  5.8113527e-01\n",
      "   -3.5362566e-01  6.3135576e-01  6.5409845e-01  1.2764913e+00]\n",
      "  [ 2.6813912e+00  1.9916111e+00 -1.2031226e+00  9.0783578e-01\n",
      "    5.4094237e-01 -3.0480823e-01 -2.3906167e-01  4.3178520e-01]\n",
      "  [-8.8465500e-01  1.1953983e+00  6.3891900e-01 -4.6719617e-01\n",
      "   -3.3625036e-01  7.2940904e-01  5.5289004e-02 -5.2656370e-01]]\n",
      "\n",
      " [[ 2.3548913e-01  1.3391784e+00  1.1462729e+00  2.1079981e-01\n",
      "   -9.4321823e-01  1.3223110e-01  1.1040514e+00 -1.3377212e+00]\n",
      "  [-1.1989208e-01 -1.1633146e+00  1.2934165e+00 -6.5157467e-01\n",
      "    7.3723084e-01  8.5128874e-01  1.0094831e+00  1.0434504e+00]\n",
      "  [ 1.6109875e+00  2.5001613e-03  1.0084018e+00 -1.3879218e+00\n",
      "    2.8922060e-01 -2.7326435e-01  6.4265954e-01 -2.3389982e-01]]]\n"
     ]
    }
   ],
   "source": [
    "a = tf.random_normal([3,3,4])\n",
    "b = tf.random_normal([3,3,4])\n",
    "c = tf.concat([a,b],axis=2)\n",
    "with tf.Session() as sess:\n",
    "    print(a.eval())\n",
    "    print(c.eval())"
   ]
  },
  {
   "cell_type": "code",
   "execution_count": 6,
   "metadata": {},
   "outputs": [
    {
     "name": "stdout",
     "output_type": "stream",
     "text": [
      "贡献率 [0.95713353 0.03398198]\n",
      "newX[[  7.96504337   4.12166867]\n",
      " [ -0.43650137   2.07052079]\n",
      " [-13.63653266   1.86686164]\n",
      " [-22.28361821  -2.32219188]\n",
      " [  3.47849303  -3.95193502]\n",
      " [ 24.91311585  -1.78492421]]\n"
     ]
    }
   ],
   "source": [
    "import numpy as np\n",
    "from sklearn.decomposition import PCA\n",
    "X = np.array([[-1,2,66,-1], [-2,6,58,-1], [-3,8,45,-2], [1,9,36,1], [2,10,62,1], [3,5,83,2]])  #导入数据，维度为4\n",
    "pca = PCA(n_components=2)   #降到2维\n",
    "pca.fit(X)                  #训练\n",
    "newX=pca.fit_transform(X)   #降维后的数据\n",
    "# PCA(copy=True, n_components=2, whiten=False)\n",
    "print('贡献率',pca.explained_variance_ratio_)  #输出贡献率\n",
    "print(f'newX{newX}')     "
   ]
  },
  {
   "cell_type": "code",
   "execution_count": 3,
   "metadata": {},
   "outputs": [
    {
     "data": {
      "image/png": "[encoded data removed]",
      "text/plain": [
       "<Figure size 576x576 with 1 Axes>"
      ]
     },
     "metadata": {},
     "output_type": "display_data"
    },
    {
     "data": {
      "image/png": "[encoded data removed]",
      "text/plain": [
       "<Figure size 576x576 with 1 Axes>"
      ]
     },
     "metadata": {},
     "output_type": "display_data"
    }
   ],
   "source": [
    "import numpy as np\n",
    "import matplotlib.pyplot as plt\n",
    "\n",
    "from sklearn.datasets import load_iris\n",
    "from sklearn.decomposition import PCA, IncrementalPCA\n",
    "\n",
    "iris = load_iris()\n",
    "X = iris.data\n",
    "y = iris.target\n",
    "\n",
    "n_components = 2\n",
    "ipca = IncrementalPCA(n_components=n_components, batch_size=10)\n",
    "X_ipca = ipca.fit_transform(X)\n",
    "\n",
    "pca = PCA(n_components=n_components)\n",
    "X_pca = pca.fit_transform(X)\n",
    "\n",
    "colors = ['navy', 'turquoise', 'darkorange']\n",
    "\n",
    "for X_transformed, title in [(X_ipca, \"Incremental PCA\"), (X_pca, \"PCA\")]:\n",
    "    plt.figure(figsize=(8, 8))\n",
    "    for color, i, target_name in zip(colors, [0, 1, 2], iris.target_names):\n",
    "        plt.scatter(X_transformed[y == i, 0], X_transformed[y == i, 1],\n",
    "                    color=color, lw=2, label=target_name)\n",
    "\n",
    "    if \"Incremental\" in title:\n",
    "        err = np.abs(np.abs(X_pca) - np.abs(X_ipca)).mean()\n",
    "        plt.title(title + \" of iris dataset\\nMean absolute unsigned error \"\n",
    "                  \"%.6f\" % err)\n",
    "    else:\n",
    "        plt.title(title + \" of iris dataset\")\n",
    "    plt.legend(loc=\"best\", shadow=False, scatterpoints=1)\n",
    "    plt.axis([-4, 4, -1.5, 1.5])\n",
    "\n",
    "plt.show()"
   ]
  },
  {
   "cell_type": "code",
   "execution_count": 1,
   "metadata": {},
   "outputs": [],
   "source": [
    "import matplotlib"
   ]
  },
  {
   "cell_type": "code",
   "execution_count": 1,
   "metadata": {},
   "outputs": [
    {
     "data": {
      "image/png": "[encoded data removed]",
      "text/plain": [
       "<Figure size 432x288 with 1 Axes>"
      ]
     },
     "metadata": {},
     "output_type": "display_data"
    }
   ],
   "source": [
    "%matplotlib inline\n",
    "import matplotlib.pyplot as plt\n",
    "import networkx as nx\n",
    "_graph = nx.Graph({'A':['B','D'],'B':['C','D']})\n",
    "nx.draw(_graph, with_labels=True)"
   ]
  },
  {
   "cell_type": "markdown",
   "metadata": {},
   "source": [
    " **python 排序 sorted 如果第一个条件 相同 则按第二个条件排序**"
   ]
  },
  {
   "cell_type": "code",
   "execution_count": 54,
   "metadata": {},
   "outputs": [
    {
     "data": {
      "text/plain": [
       "[('A', 2), ('C', 2), ('D', 2), ('E', 2), ('B', 1), ('F', 1), ('M', 1)]"
      ]
     },
     "execution_count": 54,
     "metadata": {},
     "output_type": "execute_result"
    }
   ],
   "source": [
    "from collections import Counter\n",
    "from functools import cmp_to_key\n",
    "string ='EABCDEFAMDC'\n",
    "\n",
    "dic = Counter(string)\n",
    "sorted(list(dic.items()), key = cmp_to_key(lambda x, y: y[1] - x[1] or ord(x[0])-ord(y[0])))"
   ]
  },
  {
   "cell_type": "code",
   "execution_count": 30,
   "metadata": {},
   "outputs": [
    {
     "data": {
      "text/plain": [
       "[('A', 2), ('C', 2), ('D', 2), ('E', 2), ('B', 1), ('F', 1), ('M', 1)]"
      ]
     },
     "execution_count": 30,
     "metadata": {},
     "output_type": "execute_result"
    }
   ],
   "source": [
    "sorted(list(dic.items()), key =lambda x: (-x[1], x[0]))"
   ]
  }
 ],
 "metadata": {
  "kernelspec": {
   "display_name": "Python 3",
   "language": "python",
   "name": "python3"
  },
  "language_info": {
   "codemirror_mode": {
    "name": "ipython",
    "version": 3
   },
   "file_extension": ".py",
   "mimetype": "text/x-python",
   "name": "python",
   "nbconvert_exporter": "python",
   "pygments_lexer": "ipython3",
   "version": "3.6.5"
  },
  "toc": {
   "base_numbering": 1,
   "nav_menu": {},
   "number_sections": true,
   "sideBar": true,
   "skip_h1_title": false,
   "title_cell": "Table of Contents",
   "title_sidebar": "Contents",
   "toc_cell": false,
   "toc_position": {},
   "toc_section_display": true,
   "toc_window_display": false
  }
 },
 "nbformat": 4,
 "nbformat_minor": 2
}
